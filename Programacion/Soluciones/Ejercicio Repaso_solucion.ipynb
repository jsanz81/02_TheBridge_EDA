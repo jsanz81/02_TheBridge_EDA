{
 "cells": [
  {
   "attachments": {},
   "cell_type": "markdown",
   "id": "16a8f1d3",
   "metadata": {},
   "source": [
    "---\n",
    "# Ejercicios de Programación en Python\n",
    "***\n",
    ">~~~\n",
    "Ejercicios de repaso antes del ramp up\n",
    ">~~~\n"
   ]
  },
  {
   "attachments": {},
   "cell_type": "markdown",
   "id": "ea107f45",
   "metadata": {},
   "source": [
    "## Ejercicio 1\n",
    "Crear una función que pregunte al usuario por dos valores y devuelva por pantalla el cociente y el resto de la división."
   ]
  },
  {
   "cell_type": "code",
   "execution_count": 4,
   "id": "e8e131fd",
   "metadata": {},
   "outputs": [
    {
     "name": "stdout",
     "output_type": "stream",
     "text": [
      "Cociente: 0.05128205128205128\n",
      "Resto: 4\n"
     ]
    }
   ],
   "source": [
    "def func():\n",
    "   a=input(\"Valor 1\")\n",
    "   b=input(\"Valor 2\")\n",
    "   try:\n",
    "    print(f\"Cociente: {int(a)/int(b)}\")\n",
    "    print(f\"Resto: {int(a)%int(b)}\")\n",
    "   except ZeroDivisionError:\n",
    "    print(\"División entre 0\")\n",
    "   except ValueError:\n",
    "     print(\"No es un valor numérico\")\n",
    "   return None\n",
    "\n",
    "func()"
   ]
  },
  {
   "attachments": {},
   "cell_type": "markdown",
   "id": "3bfe403f",
   "metadata": {},
   "source": [
    "## Ejercicio 2\n",
    "Crear una función que pregunte al usuario por su color favorito y si es *rojo* que muestre por pantalla: \n",
    "\n",
    "**El mío también** \n",
    "\n",
    "y si es otro \n",
    "\n",
    "**No tenemos mismos gustos**"
   ]
  },
  {
   "cell_type": "code",
   "execution_count": 5,
   "id": "321a5d5e",
   "metadata": {},
   "outputs": [
    {
     "name": "stdout",
     "output_type": "stream",
     "text": [
      "El mío también\n"
     ]
    }
   ],
   "source": [
    "def color():\n",
    "    if str.lower(input(\"Color favorito?\"))==\"rojo\": print(\"El mío también\")\n",
    "    else: print(\"No tenemos los mismos gustos\")\n",
    "\n",
    "color()"
   ]
  },
  {
   "attachments": {},
   "cell_type": "markdown",
   "id": "9b13eb37",
   "metadata": {},
   "source": [
    "## Ejercicio 3\n",
    "Crear una función donde se resuelva una ecuación de segundo grado.\n",
    "\n",
    "Para ello se deberá preguntar por los coeficientes que acompañan a las incógnitas"
   ]
  },
  {
   "cell_type": "code",
   "execution_count": 6,
   "id": "12a7abc6",
   "metadata": {},
   "outputs": [],
   "source": [
    "import numpy as np\n",
    "\n",
    "def ec_2_grado(a,b,c):\n",
    "    if pow(b,2)-4*a*c>=0:\n",
    "        D1=(b*(-1) + np.sqrt((b**2)-4*a*c))/(2*a)\n",
    "        print(f\"solución 1: {D1}\")\n",
    "        D2=(b*(-1) - np.sqrt((b**2)-4*a*c))/(2*a)\n",
    "        print(f\"solución 2: {D2}\")\n",
    "    else: print(\"Soluciones complejas\")"
   ]
  },
  {
   "cell_type": "code",
   "execution_count": 7,
   "id": "3c778724",
   "metadata": {},
   "outputs": [
    {
     "name": "stdout",
     "output_type": "stream",
     "text": [
      "solución 1: 2.0\n",
      "solución 2: 2.0\n",
      "Soluciones complejas\n",
      "solución 1: -0.6666666666666666\n",
      "solución 2: -1.0\n",
      "solución 1: -2.0\n",
      "solución 2: -3.0\n"
     ]
    }
   ],
   "source": [
    "ec_2_grado(1,-4,4)\n",
    "ec_2_grado(1,3,5)\n",
    "ec_2_grado(3,5,2)\n",
    "ec_2_grado(1,5,6)"
   ]
  },
  {
   "attachments": {},
   "cell_type": "markdown",
   "id": "45fd28ba",
   "metadata": {},
   "source": [
    "## Ejercicio 4\n",
    "Crear una función que calcule muestre por pantalla una cuenta atrás desde un número aleatorio hasta cero. Ese número aleatorio deberá ser inferior a 200."
   ]
  },
  {
   "cell_type": "code",
   "execution_count": 8,
   "id": "eaa5d828",
   "metadata": {},
   "outputs": [
    {
     "name": "stdout",
     "output_type": "stream",
     "text": [
      "Valor debe estar entre 0 y 200\n",
      "15\n",
      "14\n",
      "13\n",
      "12\n",
      "11\n",
      "10\n",
      "9\n",
      "8\n",
      "7\n",
      "6\n",
      "5\n",
      "4\n",
      "3\n",
      "2\n",
      "1\n",
      "0\n"
     ]
    }
   ],
   "source": [
    "\n",
    "def countdown(a):\n",
    "   if 0< a<200:\n",
    "       c=np.array(range(a+1))\n",
    "       for i in c[::-1]: print(c[i])\n",
    "   else: print(\"Valor debe estar entre 0 y 200\")\n",
    "\n",
    "countdown(-2)\n",
    "countdown(15)"
   ]
  },
  {
   "attachments": {},
   "cell_type": "markdown",
   "id": "4ae615ae",
   "metadata": {},
   "source": [
    "## Ejercicio 5\n",
    "Crear una función donde se genere tres número enteros aleatorio (X,Y,Z) cada uno de ellos comprendido entre 1 y 100.\n",
    "\n",
    "Debe cumplirse que X sea inferior a Y. \n",
    "\n",
    "Se mostrará por pantalla **El valor del número que se busca está entre** (Y-X,Y+Z)"
   ]
  },
  {
   "cell_type": "code",
   "execution_count": 9,
   "id": "2436c3e9",
   "metadata": {},
   "outputs": [
    {
     "name": "stdout",
     "output_type": "stream",
     "text": [
      "20 77 59\n",
      "El valor del número que se busca está entre 57 y 136\n"
     ]
    }
   ],
   "source": [
    "\n",
    "x=np.random.choice(100)\n",
    "y=np.random.choice(100)\n",
    "z=np.random.choice(100)\n",
    "\n",
    "while x >=y:\n",
    "    x=np.random.choice(100)\n",
    "print(x,y,z)\n",
    "print(f\"El valor del número que se busca está entre {y-x} y {y+z}\")"
   ]
  },
  {
   "attachments": {},
   "cell_type": "markdown",
   "id": "ab421d8a",
   "metadata": {},
   "source": [
    "## Ejercicio 6\n",
    "Crear una función donde el usuario introduzca como parámetro una frase y el programa invierta la frase\n",
    "\n",
    ">**Ejemplo**\n",
    ">\n",
    "> Se introduce la frase *El bootcamp me gusta mucho* y se muestre por pantalla *Ohcum atsug em pmactoob le*"
   ]
  },
  {
   "cell_type": "code",
   "execution_count": 10,
   "id": "0f91aaa8",
   "metadata": {},
   "outputs": [
    {
     "name": "stdout",
     "output_type": "stream",
     "text": [
      "Ohcum atsug em pmactoob le\n"
     ]
    }
   ],
   "source": [
    "frase=\"El bootcamp me gusta mucho\"\n",
    "print(str.capitalize(frase[::-1]))\n"
   ]
  },
  {
   "attachments": {},
   "cell_type": "markdown",
   "id": "37f377bd",
   "metadata": {},
   "source": [
    "## Ejercicio 7\n",
    "Crear una función donde el usuario introduzca una array de números y lo ordene de menor a mayor"
   ]
  },
  {
   "cell_type": "code",
   "execution_count": 11,
   "id": "b9ff55f5",
   "metadata": {},
   "outputs": [
    {
     "data": {
      "text/plain": [
       "[1, 3, 6, 45, 88, 99]"
      ]
     },
     "execution_count": 11,
     "metadata": {},
     "output_type": "execute_result"
    }
   ],
   "source": [
    "a=[45,3,6,88,1,99]\n",
    "a.sort()\n",
    "a"
   ]
  },
  {
   "cell_type": "code",
   "execution_count": 12,
   "id": "9724c520",
   "metadata": {},
   "outputs": [
    {
     "name": "stdout",
     "output_type": "stream",
     "text": [
      "<generator object <genexpr> at 0x0000022FFFD5A350>\n",
      "1\n",
      "3\n",
      "45\n",
      "6\n",
      "88\n",
      "99\n",
      "[]\n"
     ]
    },
    {
     "ename": "AttributeError",
     "evalue": "'generator' object has no attribute 'sort'",
     "output_type": "error",
     "traceback": [
      "\u001b[1;31m---------------------------------------------------------------------------\u001b[0m",
      "\u001b[1;31mAttributeError\u001b[0m                            Traceback (most recent call last)",
      "Cell \u001b[1;32mIn[12], line 8\u001b[0m\n\u001b[0;32m      6\u001b[0m \u001b[39mfor\u001b[39;00m i \u001b[39min\u001b[39;00m ordenar:(\u001b[39mprint\u001b[39m(i))\n\u001b[0;32m      7\u001b[0m \u001b[39mprint\u001b[39m(\u001b[39mlist\u001b[39m(ordenar))\n\u001b[1;32m----> 8\u001b[0m \u001b[39mprint\u001b[39m(ordenar\u001b[39m.\u001b[39;49msort())\n",
      "\u001b[1;31mAttributeError\u001b[0m: 'generator' object has no attribute 'sort'"
     ]
    }
   ],
   "source": [
    "a=input(\"Introducir números del Array separados por comas: \")\n",
    "j=a.split(\",\")\n",
    "j.sort()\n",
    "ordenar=(int(x) for x in j)\n",
    "print(ordenar)\n",
    "for i in ordenar:(print(i))\n",
    "print(list(ordenar))\n",
    "print(ordenar.sort())\n"
   ]
  },
  {
   "attachments": {},
   "cell_type": "markdown",
   "id": "5c5a5ae9",
   "metadata": {},
   "source": [
    "## Ejercicio 8\n",
    "Crear una función donde el usuario introduzca las veces que quiere lanzar un dado y muestre un gráfico de barras de las veces que ha salido los diferentes resultados"
   ]
  },
  {
   "cell_type": "code",
   "execution_count": 53,
   "id": "90207312",
   "metadata": {},
   "outputs": [
    {
     "name": "stdout",
     "output_type": "stream",
     "text": [
      "[3, 4, 3, 6, 1, 6, 3, 2, 3, 1, 4, 2, 2, 3, 3, 6, 6, 4, 3, 3, 2, 5, 2, 3, 4, 4, 1, 3, 1, 6, 3, 1, 3, 3, 3, 1, 1, 1, 3, 2, 2, 6, 2, 6, 6, 2, 1, 1, 1, 5, 1, 3, 1, 1, 5, 3, 3, 4, 3, 5, 3, 3, 6, 6, 6, 1, 4, 3, 3, 3, 4, 1, 3, 3, 5, 4, 3, 6, 6, 3, 5, 1, 2, 2, 3, 5, 1, 1, 3, 1, 6, 1, 2, 6, 6, 5, 2, 1, 1, 3, 2, 6, 1, 1, 4, 6, 4, 5, 2, 2, 1, 6, 2, 5, 5, 5, 6, 2, 6, 1, 1, 6, 5, 4, 4, 1, 2, 2, 3, 2, 1, 3, 3, 3, 6, 2, 5, 1, 5, 5, 5, 3, 6, 4, 4, 4, 1, 1, 4, 4]\n",
      "[33, 22, 36, 18, 17, 24]\n"
     ]
    },
    {
     "data": {
      "image/png": "[encoded data removed]",
      "text/plain": [
       "<Figure size 640x480 with 1 Axes>"
      ]
     },
     "metadata": {},
     "output_type": "display_data"
    }
   ],
   "source": [
    "import matplotlib.pyplot as plt\n",
    "def dado():\n",
    " return np.random.randint(1,7)\n",
    "\n",
    "def tiradas():\n",
    "    jugadas=[dado() for i in range(a)]\n",
    "    print(jugadas)\n",
    "    contar=[jugadas.count(x) for x in range(1,7)]\n",
    "    print(contar)\n",
    "    plt.bar([1,2,3,4,5,6], contar)\n",
    "    plt.xlabel(\"DADO\")\n",
    "    plt.ylabel(\"Frecuencia\")\n",
    "a=150\n",
    "tiradas()"
   ]
  },
  {
   "attachments": {},
   "cell_type": "markdown",
   "id": "9d852b1c",
   "metadata": {},
   "source": [
    "## Ejercicio 9\n",
    "Generar 10 series de pandas cada una 1000 registros, crear con ellas un dataframe donde cada una de las columnas se llame\n",
    "*COL_X* donde X es la posición de la columna que ocupa"
   ]
  }
 ],
 "metadata": {
  "kernelspec": {
   "display_name": "Python 3",
   "language": "python",
   "name": "python3"
  },
  "language_info": {
   "codemirror_mode": {
    "name": "ipython",
    "version": 3
   },
   "file_extension": ".py",
   "mimetype": "text/x-python",
   "name": "python",
   "nbconvert_exporter": "python",
   "pygments_lexer": "ipython3",
   "version": "3.9.5"
  }
 },
 "nbformat": 4,
 "nbformat_minor": 5
}
