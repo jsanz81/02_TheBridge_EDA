{
 "cells": [
  {
   "attachments": {},
   "cell_type": "markdown",
   "metadata": {},
   "source": [
    "## Librería Pandas\n",
    "Como un fichero CSV"
   ]
  },
  {
   "cell_type": "code",
   "execution_count": 1,
   "metadata": {},
   "outputs": [],
   "source": [
    "import pandas as pd"
   ]
  },
  {
   "attachments": {},
   "cell_type": "markdown",
   "metadata": {},
   "source": [
    "Con el comando ```read_csv()``` podremos leer un fichero csv"
   ]
  },
  {
   "cell_type": "code",
   "execution_count": 4,
   "metadata": {},
   "outputs": [],
   "source": [
    "df = pd.read_csv(r'./Datasets/PEATONES_2020.csv', encoding = \"ISO-8859-1\",delimiter=\";\",index_col=2,nrows=10000)"
   ]
  },
  {
   "attachments": {},
   "cell_type": "markdown",
   "metadata": {},
   "source": [
    "con el comando ```head()``` nos muestra por pantalla los 5 primeros elementos o los que le indiques"
   ]
  },
  {
   "cell_type": "code",
   "execution_count": 5,
   "metadata": {},
   "outputs": [
    {
     "data": {
      "text/html": [
       "<div>\n",
       "<style scoped>\n",
       "    .dataframe tbody tr th:only-of-type {\n",
       "        vertical-align: middle;\n",
       "    }\n",
       "\n",
       "    .dataframe tbody tr th {\n",
       "        vertical-align: top;\n",
       "    }\n",
       "\n",
       "    .dataframe thead th {\n",
       "        text-align: right;\n",
       "    }\n",
       "</style>\n",
       "<table border=\"1\" class=\"dataframe\">\n",
       "  <thead>\n",
       "    <tr style=\"text-align: right;\">\n",
       "      <th></th>\n",
       "      <th>FECHA</th>\n",
       "      <th>HORA</th>\n",
       "      <th>PEATONES</th>\n",
       "      <th>NéMERO_DISTRITO</th>\n",
       "      <th>DISTRITO</th>\n",
       "      <th>NOMBRE_VIAL</th>\n",
       "      <th>NéMERO</th>\n",
       "      <th>CàDIGO_POSTAL</th>\n",
       "      <th>OBSERVACIONES_DIRECCION</th>\n",
       "      <th>LATITUD</th>\n",
       "      <th>LONGITUD</th>\n",
       "    </tr>\n",
       "    <tr>\n",
       "      <th>IDENTIFICADOR</th>\n",
       "      <th></th>\n",
       "      <th></th>\n",
       "      <th></th>\n",
       "      <th></th>\n",
       "      <th></th>\n",
       "      <th></th>\n",
       "      <th></th>\n",
       "      <th></th>\n",
       "      <th></th>\n",
       "      <th></th>\n",
       "      <th></th>\n",
       "    </tr>\n",
       "  </thead>\n",
       "  <tbody>\n",
       "    <tr>\n",
       "      <th>PERM_PEA02_PM01</th>\n",
       "      <td>01/01/2020</td>\n",
       "      <td>0:00:00</td>\n",
       "      <td>497</td>\n",
       "      <td>1</td>\n",
       "      <td>Centro</td>\n",
       "      <td>Calle Fuencarral</td>\n",
       "      <td>22</td>\n",
       "      <td>28004</td>\n",
       "      <td>Calle peatonal Datos en prueba</td>\n",
       "      <td>40,422009</td>\n",
       "      <td>-3,7008917</td>\n",
       "    </tr>\n",
       "    <tr>\n",
       "      <th>PERM_PEA02_PM01</th>\n",
       "      <td>01/01/2020</td>\n",
       "      <td>0:15:00</td>\n",
       "      <td>244</td>\n",
       "      <td>1</td>\n",
       "      <td>Centro</td>\n",
       "      <td>Calle Fuencarral</td>\n",
       "      <td>22</td>\n",
       "      <td>28004</td>\n",
       "      <td>Calle peatonal Datos en prueba</td>\n",
       "      <td>40,422009</td>\n",
       "      <td>-3,7008917</td>\n",
       "    </tr>\n",
       "    <tr>\n",
       "      <th>PERM_PEA02_PM01</th>\n",
       "      <td>01/01/2020</td>\n",
       "      <td>0:30:00</td>\n",
       "      <td>179</td>\n",
       "      <td>1</td>\n",
       "      <td>Centro</td>\n",
       "      <td>Calle Fuencarral</td>\n",
       "      <td>22</td>\n",
       "      <td>28004</td>\n",
       "      <td>Calle peatonal Datos en prueba</td>\n",
       "      <td>40,422009</td>\n",
       "      <td>-3,7008917</td>\n",
       "    </tr>\n",
       "  </tbody>\n",
       "</table>\n",
       "</div>"
      ],
      "text/plain": [
       "                      FECHA     HORA  PEATONES  NéMERO_DISTRITO DISTRITO   \n",
       "IDENTIFICADOR                                                              \n",
       "PERM_PEA02_PM01  01/01/2020  0:00:00       497                1   Centro  \\\n",
       "PERM_PEA02_PM01  01/01/2020  0:15:00       244                1   Centro   \n",
       "PERM_PEA02_PM01  01/01/2020  0:30:00       179                1   Centro   \n",
       "\n",
       "                      NOMBRE_VIAL  NéMERO  CàDIGO_POSTAL   \n",
       "IDENTIFICADOR                                              \n",
       "PERM_PEA02_PM01  Calle Fuencarral      22          28004  \\\n",
       "PERM_PEA02_PM01  Calle Fuencarral      22          28004   \n",
       "PERM_PEA02_PM01  Calle Fuencarral      22          28004   \n",
       "\n",
       "                        OBSERVACIONES_DIRECCION    LATITUD    LONGITUD  \n",
       "IDENTIFICADOR                                                           \n",
       "PERM_PEA02_PM01  Calle peatonal Datos en prueba  40,422009  -3,7008917  \n",
       "PERM_PEA02_PM01  Calle peatonal Datos en prueba  40,422009  -3,7008917  \n",
       "PERM_PEA02_PM01  Calle peatonal Datos en prueba  40,422009  -3,7008917  "
      ]
     },
     "execution_count": 5,
     "metadata": {},
     "output_type": "execute_result"
    }
   ],
   "source": [
    "df.head(3)"
   ]
  },
  {
   "attachments": {},
   "cell_type": "markdown",
   "metadata": {},
   "source": [
    "Con el comando ```info()``` el numero de elementos no nulos que tiene cada elemento y el tipo de variable que es"
   ]
  },
  {
   "cell_type": "code",
   "execution_count": 6,
   "metadata": {},
   "outputs": [
    {
     "name": "stdout",
     "output_type": "stream",
     "text": [
      "<class 'pandas.core.frame.DataFrame'>\n",
      "Index: 10000 entries, PERM_PEA02_PM01 to PERM_PEA04_PM01\n",
      "Data columns (total 11 columns):\n",
      " #   Column                   Non-Null Count  Dtype \n",
      "---  ------                   --------------  ----- \n",
      " 0   FECHA                    10000 non-null  object\n",
      " 1   HORA                     10000 non-null  object\n",
      " 2   PEATONES                 10000 non-null  int64 \n",
      " 3   NéMERO_DISTRITO          10000 non-null  int64 \n",
      " 4   DISTRITO                 10000 non-null  object\n",
      " 5   NOMBRE_VIAL              10000 non-null  object\n",
      " 6   NéMERO                   10000 non-null  int64 \n",
      " 7   CàDIGO_POSTAL            10000 non-null  int64 \n",
      " 8   OBSERVACIONES_DIRECCION  10000 non-null  object\n",
      " 9   LATITUD                  10000 non-null  object\n",
      " 10  LONGITUD                 10000 non-null  object\n",
      "dtypes: int64(4), object(7)\n",
      "memory usage: 937.5+ KB\n"
     ]
    }
   ],
   "source": [
    "df.info()"
   ]
  }
 ],
 "metadata": {
  "kernelspec": {
   "display_name": "Python 3",
   "language": "python",
   "name": "python3"
  },
  "language_info": {
   "codemirror_mode": {
    "name": "ipython",
    "version": 3
   },
   "file_extension": ".py",
   "mimetype": "text/x-python",
   "name": "python",
   "nbconvert_exporter": "python",
   "pygments_lexer": "ipython3",
   "version": "3.9.5"
  }
 },
 "nbformat": 4,
 "nbformat_minor": 2
}
