{
 "cells": [
  {
   "cell_type": "code",
   "execution_count": 1,
   "metadata": {},
   "outputs": [],
   "source": [
    "import pandas as pd\n",
    "import numpy as np"
   ]
  },
  {
   "cell_type": "code",
   "execution_count": 2,
   "metadata": {},
   "outputs": [],
   "source": [
    "dic_alumnos = {\"Nombre\":[\"Javier\", \"Marta\", \"Lucía\", \"Pedro\",\"Juan\",\"María\"],\n",
    "              \"Evaluación Matemáticas\":[5,7,8,4,10,np.NaN],\n",
    "              \"Evaluación Lengua\":[8,9,7,5,8,6]}"
   ]
  },
  {
   "cell_type": "code",
   "execution_count": 3,
   "metadata": {},
   "outputs": [],
   "source": [
    "df_alumnos = pd.DataFrame(dic_alumnos)"
   ]
  },
  {
   "cell_type": "code",
   "execution_count": 4,
   "metadata": {},
   "outputs": [
    {
     "data": {
      "text/html": [
       "<div>\n",
       "<style scoped>\n",
       "    .dataframe tbody tr th:only-of-type {\n",
       "        vertical-align: middle;\n",
       "    }\n",
       "\n",
       "    .dataframe tbody tr th {\n",
       "        vertical-align: top;\n",
       "    }\n",
       "\n",
       "    .dataframe thead th {\n",
       "        text-align: right;\n",
       "    }\n",
       "</style>\n",
       "<table border=\"1\" class=\"dataframe\">\n",
       "  <thead>\n",
       "    <tr style=\"text-align: right;\">\n",
       "      <th></th>\n",
       "      <th>Nombre</th>\n",
       "      <th>Evaluación Matemáticas</th>\n",
       "      <th>Evaluación Lengua</th>\n",
       "    </tr>\n",
       "  </thead>\n",
       "  <tbody>\n",
       "    <tr>\n",
       "      <th>0</th>\n",
       "      <td>Javier</td>\n",
       "      <td>5.0</td>\n",
       "      <td>8</td>\n",
       "    </tr>\n",
       "    <tr>\n",
       "      <th>1</th>\n",
       "      <td>Marta</td>\n",
       "      <td>7.0</td>\n",
       "      <td>9</td>\n",
       "    </tr>\n",
       "    <tr>\n",
       "      <th>2</th>\n",
       "      <td>Lucía</td>\n",
       "      <td>8.0</td>\n",
       "      <td>7</td>\n",
       "    </tr>\n",
       "    <tr>\n",
       "      <th>3</th>\n",
       "      <td>Pedro</td>\n",
       "      <td>4.0</td>\n",
       "      <td>5</td>\n",
       "    </tr>\n",
       "    <tr>\n",
       "      <th>4</th>\n",
       "      <td>Juan</td>\n",
       "      <td>10.0</td>\n",
       "      <td>8</td>\n",
       "    </tr>\n",
       "    <tr>\n",
       "      <th>5</th>\n",
       "      <td>María</td>\n",
       "      <td>NaN</td>\n",
       "      <td>6</td>\n",
       "    </tr>\n",
       "  </tbody>\n",
       "</table>\n",
       "</div>"
      ],
      "text/plain": [
       "   Nombre  Evaluación Matemáticas  Evaluación Lengua\n",
       "0  Javier                     5.0                  8\n",
       "1   Marta                     7.0                  9\n",
       "2   Lucía                     8.0                  7\n",
       "3   Pedro                     4.0                  5\n",
       "4    Juan                    10.0                  8\n",
       "5   María                     NaN                  6"
      ]
     },
     "execution_count": 4,
     "metadata": {},
     "output_type": "execute_result"
    }
   ],
   "source": [
    "df_alumnos.head(10)"
   ]
  },
  {
   "cell_type": "code",
   "execution_count": 5,
   "metadata": {},
   "outputs": [
    {
     "data": {
      "text/plain": [
       "(6, 3)"
      ]
     },
     "execution_count": 5,
     "metadata": {},
     "output_type": "execute_result"
    }
   ],
   "source": [
    "df_alumnos.shape"
   ]
  },
  {
   "cell_type": "code",
   "execution_count": 6,
   "metadata": {},
   "outputs": [
    {
     "data": {
      "text/plain": [
       "RangeIndex(start=0, stop=6, step=1)"
      ]
     },
     "execution_count": 6,
     "metadata": {},
     "output_type": "execute_result"
    }
   ],
   "source": [
    "df_alumnos.index"
   ]
  },
  {
   "cell_type": "code",
   "execution_count": 7,
   "metadata": {},
   "outputs": [
    {
     "data": {
      "text/plain": [
       "Index(['Nombre', 'Evaluación Matemáticas', 'Evaluación Lengua'], dtype='object')"
      ]
     },
     "execution_count": 7,
     "metadata": {},
     "output_type": "execute_result"
    }
   ],
   "source": [
    "df_alumnos.columns"
   ]
  },
  {
   "cell_type": "code",
   "execution_count": 8,
   "metadata": {},
   "outputs": [
    {
     "name": "stdout",
     "output_type": "stream",
     "text": [
      "<class 'pandas.core.frame.DataFrame'>\n",
      "RangeIndex: 6 entries, 0 to 5\n",
      "Data columns (total 3 columns):\n",
      " #   Column                  Non-Null Count  Dtype  \n",
      "---  ------                  --------------  -----  \n",
      " 0   Nombre                  6 non-null      object \n",
      " 1   Evaluación Matemáticas  5 non-null      float64\n",
      " 2   Evaluación Lengua       6 non-null      int64  \n",
      "dtypes: float64(1), int64(1), object(1)\n",
      "memory usage: 272.0+ bytes\n"
     ]
    }
   ],
   "source": [
    "df_alumnos.info()"
   ]
  },
  {
   "cell_type": "code",
   "execution_count": 11,
   "metadata": {},
   "outputs": [
    {
     "data": {
      "text/plain": [
       "Nombre                    6\n",
       "Evaluación Matemáticas    5\n",
       "Evaluación Lengua         6\n",
       "dtype: int64"
      ]
     },
     "execution_count": 11,
     "metadata": {},
     "output_type": "execute_result"
    }
   ],
   "source": [
    "df_alumnos.count()\n",
    "#valores no NAN de cada columna"
   ]
  },
  {
   "cell_type": "code",
   "execution_count": 14,
   "metadata": {},
   "outputs": [
    {
     "data": {
      "text/plain": [
       "Nombre                    6\n",
       "Evaluación Matemáticas    5\n",
       "Evaluación Lengua         6\n",
       "dtype: int64"
      ]
     },
     "execution_count": 14,
     "metadata": {},
     "output_type": "execute_result"
    }
   ],
   "source": [
    "df_alumnos.count(0)\n",
    "#valores no NAN de cada columna"
   ]
  },
  {
   "cell_type": "code",
   "execution_count": 12,
   "metadata": {},
   "outputs": [
    {
     "data": {
      "text/plain": [
       "0    3\n",
       "1    3\n",
       "2    3\n",
       "3    3\n",
       "4    3\n",
       "5    2\n",
       "dtype: int64"
      ]
     },
     "execution_count": 12,
     "metadata": {},
     "output_type": "execute_result"
    }
   ],
   "source": [
    "df_alumnos.count(axis=\"columns\")\n",
    "#valores no NAN de cada fila"
   ]
  },
  {
   "cell_type": "code",
   "execution_count": 15,
   "metadata": {},
   "outputs": [
    {
     "data": {
      "text/plain": [
       "0    3\n",
       "1    3\n",
       "2    3\n",
       "3    3\n",
       "4    3\n",
       "5    2\n",
       "dtype: int64"
      ]
     },
     "execution_count": 15,
     "metadata": {},
     "output_type": "execute_result"
    }
   ],
   "source": [
    "df_alumnos.count(1)\n",
    "#valores no NAN de cada fila"
   ]
  },
  {
   "cell_type": "code",
   "execution_count": 16,
   "metadata": {},
   "outputs": [
    {
     "data": {
      "text/plain": [
       "6.8"
      ]
     },
     "execution_count": 16,
     "metadata": {},
     "output_type": "execute_result"
    }
   ],
   "source": [
    "df_alumnos[\"Evaluación Matemáticas\"].mean()"
   ]
  },
  {
   "cell_type": "code",
   "execution_count": 17,
   "metadata": {},
   "outputs": [
    {
     "data": {
      "text/plain": [
       "8.4"
      ]
     },
     "execution_count": 17,
     "metadata": {},
     "output_type": "execute_result"
    }
   ],
   "source": [
    "df_alumnos[\"Evaluación Matemáticas\"].quantile(0.8)"
   ]
  },
  {
   "cell_type": "code",
   "execution_count": 18,
   "metadata": {},
   "outputs": [
    {
     "data": {
      "text/plain": [
       "4.0"
      ]
     },
     "execution_count": 18,
     "metadata": {},
     "output_type": "execute_result"
    }
   ],
   "source": [
    "df_alumnos[\"Evaluación Matemáticas\"].min()"
   ]
  },
  {
   "cell_type": "code",
   "execution_count": 19,
   "metadata": {},
   "outputs": [
    {
     "data": {
      "text/plain": [
       "10.0"
      ]
     },
     "execution_count": 19,
     "metadata": {},
     "output_type": "execute_result"
    }
   ],
   "source": [
    "df_alumnos[\"Evaluación Matemáticas\"].max()"
   ]
  },
  {
   "cell_type": "code",
   "execution_count": 20,
   "metadata": {},
   "outputs": [
    {
     "data": {
      "text/html": [
       "<div>\n",
       "<style scoped>\n",
       "    .dataframe tbody tr th:only-of-type {\n",
       "        vertical-align: middle;\n",
       "    }\n",
       "\n",
       "    .dataframe tbody tr th {\n",
       "        vertical-align: top;\n",
       "    }\n",
       "\n",
       "    .dataframe thead th {\n",
       "        text-align: right;\n",
       "    }\n",
       "</style>\n",
       "<table border=\"1\" class=\"dataframe\">\n",
       "  <thead>\n",
       "    <tr style=\"text-align: right;\">\n",
       "      <th></th>\n",
       "      <th>Evaluación Matemáticas</th>\n",
       "      <th>Evaluación Lengua</th>\n",
       "    </tr>\n",
       "  </thead>\n",
       "  <tbody>\n",
       "    <tr>\n",
       "      <th>count</th>\n",
       "      <td>5.000000</td>\n",
       "      <td>6.000000</td>\n",
       "    </tr>\n",
       "    <tr>\n",
       "      <th>mean</th>\n",
       "      <td>6.800000</td>\n",
       "      <td>7.166667</td>\n",
       "    </tr>\n",
       "    <tr>\n",
       "      <th>std</th>\n",
       "      <td>2.387467</td>\n",
       "      <td>1.471960</td>\n",
       "    </tr>\n",
       "    <tr>\n",
       "      <th>min</th>\n",
       "      <td>4.000000</td>\n",
       "      <td>5.000000</td>\n",
       "    </tr>\n",
       "    <tr>\n",
       "      <th>25%</th>\n",
       "      <td>5.000000</td>\n",
       "      <td>6.250000</td>\n",
       "    </tr>\n",
       "    <tr>\n",
       "      <th>50%</th>\n",
       "      <td>7.000000</td>\n",
       "      <td>7.500000</td>\n",
       "    </tr>\n",
       "    <tr>\n",
       "      <th>75%</th>\n",
       "      <td>8.000000</td>\n",
       "      <td>8.000000</td>\n",
       "    </tr>\n",
       "    <tr>\n",
       "      <th>max</th>\n",
       "      <td>10.000000</td>\n",
       "      <td>9.000000</td>\n",
       "    </tr>\n",
       "  </tbody>\n",
       "</table>\n",
       "</div>"
      ],
      "text/plain": [
       "       Evaluación Matemáticas  Evaluación Lengua\n",
       "count                5.000000           6.000000\n",
       "mean                 6.800000           7.166667\n",
       "std                  2.387467           1.471960\n",
       "min                  4.000000           5.000000\n",
       "25%                  5.000000           6.250000\n",
       "50%                  7.000000           7.500000\n",
       "75%                  8.000000           8.000000\n",
       "max                 10.000000           9.000000"
      ]
     },
     "execution_count": 20,
     "metadata": {},
     "output_type": "execute_result"
    }
   ],
   "source": [
    "df_alumnos.describe()\n",
    "#genera valores estadísticos de las columnas, sin contar NaN"
   ]
  },
  {
   "attachments": {},
   "cell_type": "markdown",
   "metadata": {},
   "source": [
    "# Ejemplo"
   ]
  },
  {
   "cell_type": "code",
   "execution_count": 26,
   "metadata": {},
   "outputs": [],
   "source": [
    "# lee archivo csv indicando el delimitador y la columna que será el index"
   ]
  },
  {
   "cell_type": "code",
   "execution_count": 23,
   "metadata": {},
   "outputs": [
    {
     "name": "stderr",
     "output_type": "stream",
     "text": [
      "C:\\Users\\j\\AppData\\Local\\Temp\\ipykernel_12032\\2535681666.py:1: DtypeWarning: Columns (0,1,2,5,6,9,10,11) have mixed types. Specify dtype option on import or set low_memory=False.\n",
      "  df = pd.read_csv(r'./Datasets/PEATONES_2020_mod.csv', encoding = \"ISO-8859-1\",delimiter=\";\",index_col=2)\n"
     ]
    }
   ],
   "source": [
    "df = pd.read_csv(r'./Datasets/PEATONES_2020_mod.csv', encoding = \"ISO-8859-1\",delimiter=\";\",index_col=2)"
   ]
  },
  {
   "attachments": {},
   "cell_type": "markdown",
   "metadata": {},
   "source": [
    "# Información básica Dataframe"
   ]
  },
  {
   "cell_type": "code",
   "execution_count": 24,
   "metadata": {},
   "outputs": [
    {
     "data": {
      "text/html": [
       "<div>\n",
       "<style scoped>\n",
       "    .dataframe tbody tr th:only-of-type {\n",
       "        vertical-align: middle;\n",
       "    }\n",
       "\n",
       "    .dataframe tbody tr th {\n",
       "        vertical-align: top;\n",
       "    }\n",
       "\n",
       "    .dataframe thead th {\n",
       "        text-align: right;\n",
       "    }\n",
       "</style>\n",
       "<table border=\"1\" class=\"dataframe\">\n",
       "  <thead>\n",
       "    <tr style=\"text-align: right;\">\n",
       "      <th></th>\n",
       "      <th>FECHA</th>\n",
       "      <th>HORA</th>\n",
       "      <th>PEATONES</th>\n",
       "      <th>NÚMERO_DISTRITO</th>\n",
       "      <th>DISTRITO</th>\n",
       "      <th>NOMBRE_VIAL</th>\n",
       "      <th>NÚMERO</th>\n",
       "      <th>CÓDIGO_POSTAL</th>\n",
       "      <th>OBSERVACIONES_DIRECCION</th>\n",
       "      <th>LATITUD</th>\n",
       "      <th>LONGITUD</th>\n",
       "    </tr>\n",
       "    <tr>\n",
       "      <th>IDENTIFICADOR</th>\n",
       "      <th></th>\n",
       "      <th></th>\n",
       "      <th></th>\n",
       "      <th></th>\n",
       "      <th></th>\n",
       "      <th></th>\n",
       "      <th></th>\n",
       "      <th></th>\n",
       "      <th></th>\n",
       "      <th></th>\n",
       "      <th></th>\n",
       "    </tr>\n",
       "  </thead>\n",
       "  <tbody>\n",
       "    <tr>\n",
       "      <th>PERM_PEA02_PM01</th>\n",
       "      <td>01/01/2020</td>\n",
       "      <td>0:00:00</td>\n",
       "      <td>497.0</td>\n",
       "      <td>1.0</td>\n",
       "      <td>Centro</td>\n",
       "      <td>Calle Fuencarral</td>\n",
       "      <td>22.0</td>\n",
       "      <td>28004.0</td>\n",
       "      <td>Calle peatonal Datos en prueba</td>\n",
       "      <td>40,422009</td>\n",
       "      <td>-3,7008917</td>\n",
       "    </tr>\n",
       "    <tr>\n",
       "      <th>PERM_PEA02_PM01</th>\n",
       "      <td>01/01/2020</td>\n",
       "      <td>0:15:00</td>\n",
       "      <td>244.0</td>\n",
       "      <td>1.0</td>\n",
       "      <td>Centro</td>\n",
       "      <td>Calle Fuencarral</td>\n",
       "      <td>22.0</td>\n",
       "      <td>28004.0</td>\n",
       "      <td>Calle peatonal Datos en prueba</td>\n",
       "      <td>40,422009</td>\n",
       "      <td>-3,7008917</td>\n",
       "    </tr>\n",
       "    <tr>\n",
       "      <th>PERM_PEA02_PM01</th>\n",
       "      <td>01/01/2020</td>\n",
       "      <td>0:30:00</td>\n",
       "      <td>179.0</td>\n",
       "      <td>1.0</td>\n",
       "      <td>Centro</td>\n",
       "      <td>Calle Fuencarral</td>\n",
       "      <td>22.0</td>\n",
       "      <td>28004.0</td>\n",
       "      <td>Calle peatonal Datos en prueba</td>\n",
       "      <td>40,422009</td>\n",
       "      <td>-3,7008917</td>\n",
       "    </tr>\n",
       "    <tr>\n",
       "      <th>PERM_PEA02_PM01</th>\n",
       "      <td>01/01/2020</td>\n",
       "      <td>0:45:00</td>\n",
       "      <td>174.0</td>\n",
       "      <td>1.0</td>\n",
       "      <td>Centro</td>\n",
       "      <td>Calle Fuencarral</td>\n",
       "      <td>22.0</td>\n",
       "      <td>28004.0</td>\n",
       "      <td>Calle peatonal Datos en prueba</td>\n",
       "      <td>40,422009</td>\n",
       "      <td>-3,7008917</td>\n",
       "    </tr>\n",
       "    <tr>\n",
       "      <th>PERM_PEA02_PM01</th>\n",
       "      <td>01/01/2020</td>\n",
       "      <td>1:00:00</td>\n",
       "      <td>131.0</td>\n",
       "      <td>1.0</td>\n",
       "      <td>Centro</td>\n",
       "      <td>Calle Fuencarral</td>\n",
       "      <td>22.0</td>\n",
       "      <td>28004.0</td>\n",
       "      <td>Calle peatonal Datos en prueba</td>\n",
       "      <td>40,422009</td>\n",
       "      <td>-3,7008917</td>\n",
       "    </tr>\n",
       "  </tbody>\n",
       "</table>\n",
       "</div>"
      ],
      "text/plain": [
       "                      FECHA     HORA  PEATONES  NÚMERO_DISTRITO DISTRITO   \n",
       "IDENTIFICADOR                                                              \n",
       "PERM_PEA02_PM01  01/01/2020  0:00:00     497.0              1.0   Centro  \\\n",
       "PERM_PEA02_PM01  01/01/2020  0:15:00     244.0              1.0   Centro   \n",
       "PERM_PEA02_PM01  01/01/2020  0:30:00     179.0              1.0   Centro   \n",
       "PERM_PEA02_PM01  01/01/2020  0:45:00     174.0              1.0   Centro   \n",
       "PERM_PEA02_PM01  01/01/2020  1:00:00     131.0              1.0   Centro   \n",
       "\n",
       "                      NOMBRE_VIAL  NÚMERO  CÓDIGO_POSTAL   \n",
       "IDENTIFICADOR                                              \n",
       "PERM_PEA02_PM01  Calle Fuencarral    22.0        28004.0  \\\n",
       "PERM_PEA02_PM01  Calle Fuencarral    22.0        28004.0   \n",
       "PERM_PEA02_PM01  Calle Fuencarral    22.0        28004.0   \n",
       "PERM_PEA02_PM01  Calle Fuencarral    22.0        28004.0   \n",
       "PERM_PEA02_PM01  Calle Fuencarral    22.0        28004.0   \n",
       "\n",
       "                        OBSERVACIONES_DIRECCION    LATITUD    LONGITUD  \n",
       "IDENTIFICADOR                                                           \n",
       "PERM_PEA02_PM01  Calle peatonal Datos en prueba  40,422009  -3,7008917  \n",
       "PERM_PEA02_PM01  Calle peatonal Datos en prueba  40,422009  -3,7008917  \n",
       "PERM_PEA02_PM01  Calle peatonal Datos en prueba  40,422009  -3,7008917  \n",
       "PERM_PEA02_PM01  Calle peatonal Datos en prueba  40,422009  -3,7008917  \n",
       "PERM_PEA02_PM01  Calle peatonal Datos en prueba  40,422009  -3,7008917  "
      ]
     },
     "execution_count": 24,
     "metadata": {},
     "output_type": "execute_result"
    }
   ],
   "source": [
    "df.head()"
   ]
  },
  {
   "cell_type": "code",
   "execution_count": 25,
   "metadata": {},
   "outputs": [
    {
     "data": {
      "text/plain": [
       "(288755, 11)"
      ]
     },
     "execution_count": 25,
     "metadata": {},
     "output_type": "execute_result"
    }
   ],
   "source": [
    "df.shape"
   ]
  },
  {
   "cell_type": "code",
   "execution_count": 28,
   "metadata": {},
   "outputs": [
    {
     "name": "stdout",
     "output_type": "stream",
     "text": [
      "filas: 288755\n"
     ]
    }
   ],
   "source": [
    "m=df.shape\n",
    "print(\"filas: {}\".format(m[0]))"
   ]
  },
  {
   "cell_type": "code",
   "execution_count": 29,
   "metadata": {},
   "outputs": [
    {
     "data": {
      "text/plain": [
       "Index(['PERM_PEA02_PM01', 'PERM_PEA02_PM01', 'PERM_PEA02_PM01',\n",
       "       'PERM_PEA02_PM01', 'PERM_PEA02_PM01', 'PERM_PEA02_PM01',\n",
       "       'PERM_PEA02_PM01', 'PERM_PEA02_PM01', 'PERM_PEA02_PM01',\n",
       "       'PERM_PEA02_PM01',\n",
       "       ...\n",
       "                     nan,               nan,               nan,\n",
       "                     nan,               nan,               nan,\n",
       "                     nan,               nan,               nan,\n",
       "                     nan],\n",
       "      dtype='object', name='IDENTIFICADOR', length=288755)"
      ]
     },
     "execution_count": 29,
     "metadata": {},
     "output_type": "execute_result"
    }
   ],
   "source": [
    "df.index"
   ]
  },
  {
   "cell_type": "code",
   "execution_count": 30,
   "metadata": {},
   "outputs": [
    {
     "data": {
      "text/plain": [
       "Index(['FECHA', 'HORA', 'PEATONES', 'NÚMERO_DISTRITO', 'DISTRITO',\n",
       "       'NOMBRE_VIAL', 'NÚMERO', 'CÓDIGO_POSTAL', 'OBSERVACIONES_DIRECCION',\n",
       "       'LATITUD', 'LONGITUD'],\n",
       "      dtype='object')"
      ]
     },
     "execution_count": 30,
     "metadata": {},
     "output_type": "execute_result"
    }
   ],
   "source": [
    "df.columns"
   ]
  },
  {
   "cell_type": "code",
   "execution_count": 31,
   "metadata": {},
   "outputs": [
    {
     "name": "stdout",
     "output_type": "stream",
     "text": [
      "<class 'pandas.core.frame.DataFrame'>\n",
      "Index: 288755 entries, PERM_PEA02_PM01 to nan\n",
      "Data columns (total 11 columns):\n",
      " #   Column                   Non-Null Count   Dtype  \n",
      "---  ------                   --------------   -----  \n",
      " 0   FECHA                    130542 non-null  object \n",
      " 1   HORA                     130542 non-null  object \n",
      " 2   PEATONES                 130539 non-null  float64\n",
      " 3   NÚMERO_DISTRITO          130542 non-null  float64\n",
      " 4   DISTRITO                 130542 non-null  object \n",
      " 5   NOMBRE_VIAL              130542 non-null  object \n",
      " 6   NÚMERO                   130542 non-null  float64\n",
      " 7   CÓDIGO_POSTAL            130542 non-null  float64\n",
      " 8   OBSERVACIONES_DIRECCION  130542 non-null  object \n",
      " 9   LATITUD                  130542 non-null  object \n",
      " 10  LONGITUD                 130542 non-null  object \n",
      "dtypes: float64(4), object(7)\n",
      "memory usage: 26.4+ MB\n"
     ]
    }
   ],
   "source": [
    "df.info()"
   ]
  },
  {
   "cell_type": "code",
   "execution_count": 32,
   "metadata": {},
   "outputs": [
    {
     "data": {
      "text/plain": [
       "FECHA                      130542\n",
       "HORA                       130542\n",
       "PEATONES                   130539\n",
       "NÚMERO_DISTRITO            130542\n",
       "DISTRITO                   130542\n",
       "NOMBRE_VIAL                130542\n",
       "NÚMERO                     130542\n",
       "CÓDIGO_POSTAL              130542\n",
       "OBSERVACIONES_DIRECCION    130542\n",
       "LATITUD                    130542\n",
       "LONGITUD                   130542\n",
       "dtype: int64"
      ]
     },
     "execution_count": 32,
     "metadata": {},
     "output_type": "execute_result"
    }
   ],
   "source": [
    "df.count()"
   ]
  },
  {
   "attachments": {},
   "cell_type": "markdown",
   "metadata": {},
   "source": [
    "# Datos estadísticos Dataframe"
   ]
  },
  {
   "cell_type": "code",
   "execution_count": 33,
   "metadata": {},
   "outputs": [
    {
     "data": {
      "text/plain": [
       "61284918.0"
      ]
     },
     "execution_count": 33,
     "metadata": {},
     "output_type": "execute_result"
    }
   ],
   "source": [
    "df[\"PEATONES\"].sum()"
   ]
  },
  {
   "cell_type": "code",
   "execution_count": 34,
   "metadata": {},
   "outputs": [
    {
     "data": {
      "text/plain": [
       "469.4759267345391"
      ]
     },
     "execution_count": 34,
     "metadata": {},
     "output_type": "execute_result"
    }
   ],
   "source": [
    "df[\"PEATONES\"].mean()"
   ]
  },
  {
   "cell_type": "code",
   "execution_count": 35,
   "metadata": {},
   "outputs": [
    {
     "data": {
      "text/plain": [
       "383.0"
      ]
     },
     "execution_count": 35,
     "metadata": {},
     "output_type": "execute_result"
    }
   ],
   "source": [
    "df[\"PEATONES\"].median()"
   ]
  },
  {
   "cell_type": "code",
   "execution_count": 36,
   "metadata": {},
   "outputs": [
    {
     "data": {
      "text/plain": [
       "1000.0"
      ]
     },
     "execution_count": 36,
     "metadata": {},
     "output_type": "execute_result"
    }
   ],
   "source": [
    "df[\"PEATONES\"].quantile(0.9)"
   ]
  },
  {
   "cell_type": "code",
   "execution_count": 37,
   "metadata": {},
   "outputs": [
    {
     "ename": "TypeError",
     "evalue": "'<=' not supported between instances of 'str' and 'float'",
     "output_type": "error",
     "traceback": [
      "\u001b[1;31m---------------------------------------------------------------------------\u001b[0m",
      "\u001b[1;31mTypeError\u001b[0m                                 Traceback (most recent call last)",
      "Cell \u001b[1;32mIn[37], line 1\u001b[0m\n\u001b[1;32m----> 1\u001b[0m df[\u001b[39m\"\u001b[39;49m\u001b[39mFECHA\u001b[39;49m\u001b[39m\"\u001b[39;49m]\u001b[39m.\u001b[39;49mmin()\n",
      "File \u001b[1;32mc:\\Users\\j\\miniconda3\\envs\\ramp_up_py395\\lib\\site-packages\\pandas\\core\\generic.py:11669\u001b[0m, in \u001b[0;36mNDFrame._add_numeric_operations.<locals>.min\u001b[1;34m(self, axis, skipna, numeric_only, **kwargs)\u001b[0m\n\u001b[0;32m  11650\u001b[0m \u001b[39m@doc\u001b[39m(\n\u001b[0;32m  11651\u001b[0m     _num_doc,\n\u001b[0;32m  11652\u001b[0m     desc\u001b[39m=\u001b[39m\u001b[39m\"\u001b[39m\u001b[39mReturn the minimum of the values over the requested axis.\u001b[39m\u001b[39m\\n\u001b[39;00m\u001b[39m\\n\u001b[39;00m\u001b[39m\"\u001b[39m\n\u001b[1;32m   (...)\u001b[0m\n\u001b[0;32m  11667\u001b[0m     \u001b[39m*\u001b[39m\u001b[39m*\u001b[39mkwargs,\n\u001b[0;32m  11668\u001b[0m ):\n\u001b[1;32m> 11669\u001b[0m     \u001b[39mreturn\u001b[39;00m NDFrame\u001b[39m.\u001b[39mmin(\u001b[39mself\u001b[39m, axis, skipna, numeric_only, \u001b[39m*\u001b[39m\u001b[39m*\u001b[39mkwargs)\n",
      "File \u001b[1;32mc:\\Users\\j\\miniconda3\\envs\\ramp_up_py395\\lib\\site-packages\\pandas\\core\\generic.py:11169\u001b[0m, in \u001b[0;36mNDFrame.min\u001b[1;34m(self, axis, skipna, numeric_only, **kwargs)\u001b[0m\n\u001b[0;32m  11162\u001b[0m \u001b[39mdef\u001b[39;00m \u001b[39mmin\u001b[39m(\n\u001b[0;32m  11163\u001b[0m     \u001b[39mself\u001b[39m,\n\u001b[0;32m  11164\u001b[0m     axis: Axis \u001b[39m|\u001b[39m \u001b[39mNone\u001b[39;00m \u001b[39m=\u001b[39m \u001b[39m0\u001b[39m,\n\u001b[1;32m   (...)\u001b[0m\n\u001b[0;32m  11167\u001b[0m     \u001b[39m*\u001b[39m\u001b[39m*\u001b[39mkwargs,\n\u001b[0;32m  11168\u001b[0m ):\n\u001b[1;32m> 11169\u001b[0m     \u001b[39mreturn\u001b[39;00m \u001b[39mself\u001b[39m\u001b[39m.\u001b[39m_stat_function(\n\u001b[0;32m  11170\u001b[0m         \u001b[39m\"\u001b[39m\u001b[39mmin\u001b[39m\u001b[39m\"\u001b[39m,\n\u001b[0;32m  11171\u001b[0m         nanops\u001b[39m.\u001b[39mnanmin,\n\u001b[0;32m  11172\u001b[0m         axis,\n\u001b[0;32m  11173\u001b[0m         skipna,\n\u001b[0;32m  11174\u001b[0m         numeric_only,\n\u001b[0;32m  11175\u001b[0m         \u001b[39m*\u001b[39m\u001b[39m*\u001b[39mkwargs,\n\u001b[0;32m  11176\u001b[0m     )\n",
      "File \u001b[1;32mc:\\Users\\j\\miniconda3\\envs\\ramp_up_py395\\lib\\site-packages\\pandas\\core\\generic.py:11158\u001b[0m, in \u001b[0;36mNDFrame._stat_function\u001b[1;34m(self, name, func, axis, skipna, numeric_only, **kwargs)\u001b[0m\n\u001b[0;32m  11154\u001b[0m     nv\u001b[39m.\u001b[39mvalidate_stat_func((), kwargs, fname\u001b[39m=\u001b[39mname)\n\u001b[0;32m  11156\u001b[0m validate_bool_kwarg(skipna, \u001b[39m\"\u001b[39m\u001b[39mskipna\u001b[39m\u001b[39m\"\u001b[39m, none_allowed\u001b[39m=\u001b[39m\u001b[39mFalse\u001b[39;00m)\n\u001b[1;32m> 11158\u001b[0m \u001b[39mreturn\u001b[39;00m \u001b[39mself\u001b[39;49m\u001b[39m.\u001b[39;49m_reduce(\n\u001b[0;32m  11159\u001b[0m     func, name\u001b[39m=\u001b[39;49mname, axis\u001b[39m=\u001b[39;49maxis, skipna\u001b[39m=\u001b[39;49mskipna, numeric_only\u001b[39m=\u001b[39;49mnumeric_only\n\u001b[0;32m  11160\u001b[0m )\n",
      "File \u001b[1;32mc:\\Users\\j\\miniconda3\\envs\\ramp_up_py395\\lib\\site-packages\\pandas\\core\\series.py:4666\u001b[0m, in \u001b[0;36mSeries._reduce\u001b[1;34m(self, op, name, axis, skipna, numeric_only, filter_type, **kwds)\u001b[0m\n\u001b[0;32m   4661\u001b[0m     \u001b[39mraise\u001b[39;00m \u001b[39mTypeError\u001b[39;00m(\n\u001b[0;32m   4662\u001b[0m         \u001b[39mf\u001b[39m\u001b[39m\"\u001b[39m\u001b[39mSeries.\u001b[39m\u001b[39m{\u001b[39;00mname\u001b[39m}\u001b[39;00m\u001b[39m does not allow \u001b[39m\u001b[39m{\u001b[39;00mkwd_name\u001b[39m}\u001b[39;00m\u001b[39m=\u001b[39m\u001b[39m{\u001b[39;00mnumeric_only\u001b[39m}\u001b[39;00m\u001b[39m \u001b[39m\u001b[39m\"\u001b[39m\n\u001b[0;32m   4663\u001b[0m         \u001b[39m\"\u001b[39m\u001b[39mwith non-numeric dtypes.\u001b[39m\u001b[39m\"\u001b[39m\n\u001b[0;32m   4664\u001b[0m     )\n\u001b[0;32m   4665\u001b[0m \u001b[39mwith\u001b[39;00m np\u001b[39m.\u001b[39merrstate(\u001b[39mall\u001b[39m\u001b[39m=\u001b[39m\u001b[39m\"\u001b[39m\u001b[39mignore\u001b[39m\u001b[39m\"\u001b[39m):\n\u001b[1;32m-> 4666\u001b[0m     \u001b[39mreturn\u001b[39;00m op(delegate, skipna\u001b[39m=\u001b[39mskipna, \u001b[39m*\u001b[39m\u001b[39m*\u001b[39mkwds)\n",
      "File \u001b[1;32mc:\\Users\\j\\miniconda3\\envs\\ramp_up_py395\\lib\\site-packages\\pandas\\core\\nanops.py:158\u001b[0m, in \u001b[0;36mbottleneck_switch.__call__.<locals>.f\u001b[1;34m(values, axis, skipna, **kwds)\u001b[0m\n\u001b[0;32m    156\u001b[0m         result \u001b[39m=\u001b[39m alt(values, axis\u001b[39m=\u001b[39maxis, skipna\u001b[39m=\u001b[39mskipna, \u001b[39m*\u001b[39m\u001b[39m*\u001b[39mkwds)\n\u001b[0;32m    157\u001b[0m \u001b[39melse\u001b[39;00m:\n\u001b[1;32m--> 158\u001b[0m     result \u001b[39m=\u001b[39m alt(values, axis\u001b[39m=\u001b[39maxis, skipna\u001b[39m=\u001b[39mskipna, \u001b[39m*\u001b[39m\u001b[39m*\u001b[39mkwds)\n\u001b[0;32m    160\u001b[0m \u001b[39mreturn\u001b[39;00m result\n",
      "File \u001b[1;32mc:\\Users\\j\\miniconda3\\envs\\ramp_up_py395\\lib\\site-packages\\pandas\\core\\nanops.py:421\u001b[0m, in \u001b[0;36m_datetimelike_compat.<locals>.new_func\u001b[1;34m(values, axis, skipna, mask, **kwargs)\u001b[0m\n\u001b[0;32m    418\u001b[0m \u001b[39mif\u001b[39;00m datetimelike \u001b[39mand\u001b[39;00m mask \u001b[39mis\u001b[39;00m \u001b[39mNone\u001b[39;00m:\n\u001b[0;32m    419\u001b[0m     mask \u001b[39m=\u001b[39m isna(values)\n\u001b[1;32m--> 421\u001b[0m result \u001b[39m=\u001b[39m func(values, axis\u001b[39m=\u001b[39maxis, skipna\u001b[39m=\u001b[39mskipna, mask\u001b[39m=\u001b[39mmask, \u001b[39m*\u001b[39m\u001b[39m*\u001b[39mkwargs)\n\u001b[0;32m    423\u001b[0m \u001b[39mif\u001b[39;00m datetimelike:\n\u001b[0;32m    424\u001b[0m     result \u001b[39m=\u001b[39m _wrap_results(result, orig_values\u001b[39m.\u001b[39mdtype, fill_value\u001b[39m=\u001b[39miNaT)\n",
      "File \u001b[1;32mc:\\Users\\j\\miniconda3\\envs\\ramp_up_py395\\lib\\site-packages\\pandas\\core\\nanops.py:1094\u001b[0m, in \u001b[0;36m_nanminmax.<locals>.reduction\u001b[1;34m(values, axis, skipna, mask)\u001b[0m\n\u001b[0;32m   1092\u001b[0m         result \u001b[39m=\u001b[39m np\u001b[39m.\u001b[39mnan\n\u001b[0;32m   1093\u001b[0m \u001b[39melse\u001b[39;00m:\n\u001b[1;32m-> 1094\u001b[0m     result \u001b[39m=\u001b[39m \u001b[39mgetattr\u001b[39;49m(values, meth)(axis)\n\u001b[0;32m   1096\u001b[0m result \u001b[39m=\u001b[39m _maybe_null_out(result, axis, mask, values\u001b[39m.\u001b[39mshape)\n\u001b[0;32m   1097\u001b[0m \u001b[39mreturn\u001b[39;00m result\n",
      "File \u001b[1;32mc:\\Users\\j\\miniconda3\\envs\\ramp_up_py395\\lib\\site-packages\\numpy\\core\\_methods.py:45\u001b[0m, in \u001b[0;36m_amin\u001b[1;34m(a, axis, out, keepdims, initial, where)\u001b[0m\n\u001b[0;32m     43\u001b[0m \u001b[39mdef\u001b[39;00m \u001b[39m_amin\u001b[39m(a, axis\u001b[39m=\u001b[39m\u001b[39mNone\u001b[39;00m, out\u001b[39m=\u001b[39m\u001b[39mNone\u001b[39;00m, keepdims\u001b[39m=\u001b[39m\u001b[39mFalse\u001b[39;00m,\n\u001b[0;32m     44\u001b[0m           initial\u001b[39m=\u001b[39m_NoValue, where\u001b[39m=\u001b[39m\u001b[39mTrue\u001b[39;00m):\n\u001b[1;32m---> 45\u001b[0m     \u001b[39mreturn\u001b[39;00m umr_minimum(a, axis, \u001b[39mNone\u001b[39;49;00m, out, keepdims, initial, where)\n",
      "\u001b[1;31mTypeError\u001b[0m: '<=' not supported between instances of 'str' and 'float'"
     ]
    }
   ],
   "source": [
    "df[\"FECHA\"].min()"
   ]
  },
  {
   "cell_type": "code",
   "execution_count": 38,
   "metadata": {},
   "outputs": [
    {
     "ename": "TypeError",
     "evalue": "'>=' not supported between instances of 'str' and 'float'",
     "output_type": "error",
     "traceback": [
      "\u001b[1;31m---------------------------------------------------------------------------\u001b[0m",
      "\u001b[1;31mTypeError\u001b[0m                                 Traceback (most recent call last)",
      "Cell \u001b[1;32mIn[38], line 1\u001b[0m\n\u001b[1;32m----> 1\u001b[0m df[\u001b[39m\"\u001b[39;49m\u001b[39mFECHA\u001b[39;49m\u001b[39m\"\u001b[39;49m]\u001b[39m.\u001b[39;49mmax()\n",
      "File \u001b[1;32mc:\\Users\\j\\miniconda3\\envs\\ramp_up_py395\\lib\\site-packages\\pandas\\core\\generic.py:11646\u001b[0m, in \u001b[0;36mNDFrame._add_numeric_operations.<locals>.max\u001b[1;34m(self, axis, skipna, numeric_only, **kwargs)\u001b[0m\n\u001b[0;32m  11627\u001b[0m \u001b[39m@doc\u001b[39m(\n\u001b[0;32m  11628\u001b[0m     _num_doc,\n\u001b[0;32m  11629\u001b[0m     desc\u001b[39m=\u001b[39m\u001b[39m\"\u001b[39m\u001b[39mReturn the maximum of the values over the requested axis.\u001b[39m\u001b[39m\\n\u001b[39;00m\u001b[39m\\n\u001b[39;00m\u001b[39m\"\u001b[39m\n\u001b[1;32m   (...)\u001b[0m\n\u001b[0;32m  11644\u001b[0m     \u001b[39m*\u001b[39m\u001b[39m*\u001b[39mkwargs,\n\u001b[0;32m  11645\u001b[0m ):\n\u001b[1;32m> 11646\u001b[0m     \u001b[39mreturn\u001b[39;00m NDFrame\u001b[39m.\u001b[39mmax(\u001b[39mself\u001b[39m, axis, skipna, numeric_only, \u001b[39m*\u001b[39m\u001b[39m*\u001b[39mkwargs)\n",
      "File \u001b[1;32mc:\\Users\\j\\miniconda3\\envs\\ramp_up_py395\\lib\\site-packages\\pandas\\core\\generic.py:11185\u001b[0m, in \u001b[0;36mNDFrame.max\u001b[1;34m(self, axis, skipna, numeric_only, **kwargs)\u001b[0m\n\u001b[0;32m  11178\u001b[0m \u001b[39mdef\u001b[39;00m \u001b[39mmax\u001b[39m(\n\u001b[0;32m  11179\u001b[0m     \u001b[39mself\u001b[39m,\n\u001b[0;32m  11180\u001b[0m     axis: Axis \u001b[39m|\u001b[39m \u001b[39mNone\u001b[39;00m \u001b[39m=\u001b[39m \u001b[39m0\u001b[39m,\n\u001b[1;32m   (...)\u001b[0m\n\u001b[0;32m  11183\u001b[0m     \u001b[39m*\u001b[39m\u001b[39m*\u001b[39mkwargs,\n\u001b[0;32m  11184\u001b[0m ):\n\u001b[1;32m> 11185\u001b[0m     \u001b[39mreturn\u001b[39;00m \u001b[39mself\u001b[39m\u001b[39m.\u001b[39m_stat_function(\n\u001b[0;32m  11186\u001b[0m         \u001b[39m\"\u001b[39m\u001b[39mmax\u001b[39m\u001b[39m\"\u001b[39m,\n\u001b[0;32m  11187\u001b[0m         nanops\u001b[39m.\u001b[39mnanmax,\n\u001b[0;32m  11188\u001b[0m         axis,\n\u001b[0;32m  11189\u001b[0m         skipna,\n\u001b[0;32m  11190\u001b[0m         numeric_only,\n\u001b[0;32m  11191\u001b[0m         \u001b[39m*\u001b[39m\u001b[39m*\u001b[39mkwargs,\n\u001b[0;32m  11192\u001b[0m     )\n",
      "File \u001b[1;32mc:\\Users\\j\\miniconda3\\envs\\ramp_up_py395\\lib\\site-packages\\pandas\\core\\generic.py:11158\u001b[0m, in \u001b[0;36mNDFrame._stat_function\u001b[1;34m(self, name, func, axis, skipna, numeric_only, **kwargs)\u001b[0m\n\u001b[0;32m  11154\u001b[0m     nv\u001b[39m.\u001b[39mvalidate_stat_func((), kwargs, fname\u001b[39m=\u001b[39mname)\n\u001b[0;32m  11156\u001b[0m validate_bool_kwarg(skipna, \u001b[39m\"\u001b[39m\u001b[39mskipna\u001b[39m\u001b[39m\"\u001b[39m, none_allowed\u001b[39m=\u001b[39m\u001b[39mFalse\u001b[39;00m)\n\u001b[1;32m> 11158\u001b[0m \u001b[39mreturn\u001b[39;00m \u001b[39mself\u001b[39;49m\u001b[39m.\u001b[39;49m_reduce(\n\u001b[0;32m  11159\u001b[0m     func, name\u001b[39m=\u001b[39;49mname, axis\u001b[39m=\u001b[39;49maxis, skipna\u001b[39m=\u001b[39;49mskipna, numeric_only\u001b[39m=\u001b[39;49mnumeric_only\n\u001b[0;32m  11160\u001b[0m )\n",
      "File \u001b[1;32mc:\\Users\\j\\miniconda3\\envs\\ramp_up_py395\\lib\\site-packages\\pandas\\core\\series.py:4666\u001b[0m, in \u001b[0;36mSeries._reduce\u001b[1;34m(self, op, name, axis, skipna, numeric_only, filter_type, **kwds)\u001b[0m\n\u001b[0;32m   4661\u001b[0m     \u001b[39mraise\u001b[39;00m \u001b[39mTypeError\u001b[39;00m(\n\u001b[0;32m   4662\u001b[0m         \u001b[39mf\u001b[39m\u001b[39m\"\u001b[39m\u001b[39mSeries.\u001b[39m\u001b[39m{\u001b[39;00mname\u001b[39m}\u001b[39;00m\u001b[39m does not allow \u001b[39m\u001b[39m{\u001b[39;00mkwd_name\u001b[39m}\u001b[39;00m\u001b[39m=\u001b[39m\u001b[39m{\u001b[39;00mnumeric_only\u001b[39m}\u001b[39;00m\u001b[39m \u001b[39m\u001b[39m\"\u001b[39m\n\u001b[0;32m   4663\u001b[0m         \u001b[39m\"\u001b[39m\u001b[39mwith non-numeric dtypes.\u001b[39m\u001b[39m\"\u001b[39m\n\u001b[0;32m   4664\u001b[0m     )\n\u001b[0;32m   4665\u001b[0m \u001b[39mwith\u001b[39;00m np\u001b[39m.\u001b[39merrstate(\u001b[39mall\u001b[39m\u001b[39m=\u001b[39m\u001b[39m\"\u001b[39m\u001b[39mignore\u001b[39m\u001b[39m\"\u001b[39m):\n\u001b[1;32m-> 4666\u001b[0m     \u001b[39mreturn\u001b[39;00m op(delegate, skipna\u001b[39m=\u001b[39mskipna, \u001b[39m*\u001b[39m\u001b[39m*\u001b[39mkwds)\n",
      "File \u001b[1;32mc:\\Users\\j\\miniconda3\\envs\\ramp_up_py395\\lib\\site-packages\\pandas\\core\\nanops.py:158\u001b[0m, in \u001b[0;36mbottleneck_switch.__call__.<locals>.f\u001b[1;34m(values, axis, skipna, **kwds)\u001b[0m\n\u001b[0;32m    156\u001b[0m         result \u001b[39m=\u001b[39m alt(values, axis\u001b[39m=\u001b[39maxis, skipna\u001b[39m=\u001b[39mskipna, \u001b[39m*\u001b[39m\u001b[39m*\u001b[39mkwds)\n\u001b[0;32m    157\u001b[0m \u001b[39melse\u001b[39;00m:\n\u001b[1;32m--> 158\u001b[0m     result \u001b[39m=\u001b[39m alt(values, axis\u001b[39m=\u001b[39maxis, skipna\u001b[39m=\u001b[39mskipna, \u001b[39m*\u001b[39m\u001b[39m*\u001b[39mkwds)\n\u001b[0;32m    160\u001b[0m \u001b[39mreturn\u001b[39;00m result\n",
      "File \u001b[1;32mc:\\Users\\j\\miniconda3\\envs\\ramp_up_py395\\lib\\site-packages\\pandas\\core\\nanops.py:421\u001b[0m, in \u001b[0;36m_datetimelike_compat.<locals>.new_func\u001b[1;34m(values, axis, skipna, mask, **kwargs)\u001b[0m\n\u001b[0;32m    418\u001b[0m \u001b[39mif\u001b[39;00m datetimelike \u001b[39mand\u001b[39;00m mask \u001b[39mis\u001b[39;00m \u001b[39mNone\u001b[39;00m:\n\u001b[0;32m    419\u001b[0m     mask \u001b[39m=\u001b[39m isna(values)\n\u001b[1;32m--> 421\u001b[0m result \u001b[39m=\u001b[39m func(values, axis\u001b[39m=\u001b[39maxis, skipna\u001b[39m=\u001b[39mskipna, mask\u001b[39m=\u001b[39mmask, \u001b[39m*\u001b[39m\u001b[39m*\u001b[39mkwargs)\n\u001b[0;32m    423\u001b[0m \u001b[39mif\u001b[39;00m datetimelike:\n\u001b[0;32m    424\u001b[0m     result \u001b[39m=\u001b[39m _wrap_results(result, orig_values\u001b[39m.\u001b[39mdtype, fill_value\u001b[39m=\u001b[39miNaT)\n",
      "File \u001b[1;32mc:\\Users\\j\\miniconda3\\envs\\ramp_up_py395\\lib\\site-packages\\pandas\\core\\nanops.py:1094\u001b[0m, in \u001b[0;36m_nanminmax.<locals>.reduction\u001b[1;34m(values, axis, skipna, mask)\u001b[0m\n\u001b[0;32m   1092\u001b[0m         result \u001b[39m=\u001b[39m np\u001b[39m.\u001b[39mnan\n\u001b[0;32m   1093\u001b[0m \u001b[39melse\u001b[39;00m:\n\u001b[1;32m-> 1094\u001b[0m     result \u001b[39m=\u001b[39m \u001b[39mgetattr\u001b[39;49m(values, meth)(axis)\n\u001b[0;32m   1096\u001b[0m result \u001b[39m=\u001b[39m _maybe_null_out(result, axis, mask, values\u001b[39m.\u001b[39mshape)\n\u001b[0;32m   1097\u001b[0m \u001b[39mreturn\u001b[39;00m result\n",
      "File \u001b[1;32mc:\\Users\\j\\miniconda3\\envs\\ramp_up_py395\\lib\\site-packages\\numpy\\core\\_methods.py:41\u001b[0m, in \u001b[0;36m_amax\u001b[1;34m(a, axis, out, keepdims, initial, where)\u001b[0m\n\u001b[0;32m     39\u001b[0m \u001b[39mdef\u001b[39;00m \u001b[39m_amax\u001b[39m(a, axis\u001b[39m=\u001b[39m\u001b[39mNone\u001b[39;00m, out\u001b[39m=\u001b[39m\u001b[39mNone\u001b[39;00m, keepdims\u001b[39m=\u001b[39m\u001b[39mFalse\u001b[39;00m,\n\u001b[0;32m     40\u001b[0m           initial\u001b[39m=\u001b[39m_NoValue, where\u001b[39m=\u001b[39m\u001b[39mTrue\u001b[39;00m):\n\u001b[1;32m---> 41\u001b[0m     \u001b[39mreturn\u001b[39;00m umr_maximum(a, axis, \u001b[39mNone\u001b[39;49;00m, out, keepdims, initial, where)\n",
      "\u001b[1;31mTypeError\u001b[0m: '>=' not supported between instances of 'str' and 'float'"
     ]
    }
   ],
   "source": [
    "df[\"FECHA\"].max()"
   ]
  },
  {
   "cell_type": "code",
   "execution_count": 39,
   "metadata": {},
   "outputs": [
    {
     "data": {
      "text/html": [
       "<div>\n",
       "<style scoped>\n",
       "    .dataframe tbody tr th:only-of-type {\n",
       "        vertical-align: middle;\n",
       "    }\n",
       "\n",
       "    .dataframe tbody tr th {\n",
       "        vertical-align: top;\n",
       "    }\n",
       "\n",
       "    .dataframe thead th {\n",
       "        text-align: right;\n",
       "    }\n",
       "</style>\n",
       "<table border=\"1\" class=\"dataframe\">\n",
       "  <thead>\n",
       "    <tr style=\"text-align: right;\">\n",
       "      <th></th>\n",
       "      <th>PEATONES</th>\n",
       "      <th>NÚMERO_DISTRITO</th>\n",
       "      <th>NÚMERO</th>\n",
       "      <th>CÓDIGO_POSTAL</th>\n",
       "    </tr>\n",
       "  </thead>\n",
       "  <tbody>\n",
       "    <tr>\n",
       "      <th>count</th>\n",
       "      <td>130539.000000</td>\n",
       "      <td>130542.000000</td>\n",
       "      <td>130542.000000</td>\n",
       "      <td>130542.000000</td>\n",
       "    </tr>\n",
       "    <tr>\n",
       "      <th>mean</th>\n",
       "      <td>469.475927</td>\n",
       "      <td>2.523471</td>\n",
       "      <td>28.642108</td>\n",
       "      <td>28009.951916</td>\n",
       "    </tr>\n",
       "    <tr>\n",
       "      <th>std</th>\n",
       "      <td>388.035098</td>\n",
       "      <td>2.930520</td>\n",
       "      <td>24.724800</td>\n",
       "      <td>4.282434</td>\n",
       "    </tr>\n",
       "    <tr>\n",
       "      <th>min</th>\n",
       "      <td>1.000000</td>\n",
       "      <td>1.000000</td>\n",
       "      <td>1.000000</td>\n",
       "      <td>28001.000000</td>\n",
       "    </tr>\n",
       "    <tr>\n",
       "      <th>25%</th>\n",
       "      <td>144.000000</td>\n",
       "      <td>1.000000</td>\n",
       "      <td>4.000000</td>\n",
       "      <td>28005.000000</td>\n",
       "    </tr>\n",
       "    <tr>\n",
       "      <th>50%</th>\n",
       "      <td>383.000000</td>\n",
       "      <td>1.000000</td>\n",
       "      <td>34.000000</td>\n",
       "      <td>28012.000000</td>\n",
       "    </tr>\n",
       "    <tr>\n",
       "      <th>75%</th>\n",
       "      <td>716.000000</td>\n",
       "      <td>2.000000</td>\n",
       "      <td>37.000000</td>\n",
       "      <td>28013.000000</td>\n",
       "    </tr>\n",
       "    <tr>\n",
       "      <th>max</th>\n",
       "      <td>4759.000000</td>\n",
       "      <td>10.000000</td>\n",
       "      <td>91.000000</td>\n",
       "      <td>28015.000000</td>\n",
       "    </tr>\n",
       "  </tbody>\n",
       "</table>\n",
       "</div>"
      ],
      "text/plain": [
       "            PEATONES  NÚMERO_DISTRITO         NÚMERO  CÓDIGO_POSTAL\n",
       "count  130539.000000    130542.000000  130542.000000  130542.000000\n",
       "mean      469.475927         2.523471      28.642108   28009.951916\n",
       "std       388.035098         2.930520      24.724800       4.282434\n",
       "min         1.000000         1.000000       1.000000   28001.000000\n",
       "25%       144.000000         1.000000       4.000000   28005.000000\n",
       "50%       383.000000         1.000000      34.000000   28012.000000\n",
       "75%       716.000000         2.000000      37.000000   28013.000000\n",
       "max      4759.000000        10.000000      91.000000   28015.000000"
      ]
     },
     "execution_count": 39,
     "metadata": {},
     "output_type": "execute_result"
    }
   ],
   "source": [
    "df.describe()"
   ]
  },
  {
   "cell_type": "code",
   "execution_count": 45,
   "metadata": {},
   "outputs": [],
   "source": [
    "df[\"PEATONES_cum\"] = df[\"PEATONES\"].cumsum()\n",
    "#crea una nueva columna, que es la suma acumulada (cumsum) sobre sobre el eje index ( si es cumsum(1) seria sobre las columnas"
   ]
  },
  {
   "cell_type": "code",
   "execution_count": 48,
   "metadata": {},
   "outputs": [
    {
     "data": {
      "text/html": [
       "<div>\n",
       "<style scoped>\n",
       "    .dataframe tbody tr th:only-of-type {\n",
       "        vertical-align: middle;\n",
       "    }\n",
       "\n",
       "    .dataframe tbody tr th {\n",
       "        vertical-align: top;\n",
       "    }\n",
       "\n",
       "    .dataframe thead th {\n",
       "        text-align: right;\n",
       "    }\n",
       "</style>\n",
       "<table border=\"1\" class=\"dataframe\">\n",
       "  <thead>\n",
       "    <tr style=\"text-align: right;\">\n",
       "      <th></th>\n",
       "      <th>PEATONES</th>\n",
       "      <th>PEATONES_cum</th>\n",
       "    </tr>\n",
       "    <tr>\n",
       "      <th>IDENTIFICADOR</th>\n",
       "      <th></th>\n",
       "      <th></th>\n",
       "    </tr>\n",
       "  </thead>\n",
       "  <tbody>\n",
       "    <tr>\n",
       "      <th>PERM_PEA02_PM01</th>\n",
       "      <td>497.0</td>\n",
       "      <td>497.0</td>\n",
       "    </tr>\n",
       "    <tr>\n",
       "      <th>PERM_PEA02_PM01</th>\n",
       "      <td>244.0</td>\n",
       "      <td>741.0</td>\n",
       "    </tr>\n",
       "    <tr>\n",
       "      <th>PERM_PEA02_PM01</th>\n",
       "      <td>179.0</td>\n",
       "      <td>920.0</td>\n",
       "    </tr>\n",
       "    <tr>\n",
       "      <th>PERM_PEA02_PM01</th>\n",
       "      <td>174.0</td>\n",
       "      <td>1094.0</td>\n",
       "    </tr>\n",
       "    <tr>\n",
       "      <th>PERM_PEA02_PM01</th>\n",
       "      <td>131.0</td>\n",
       "      <td>1225.0</td>\n",
       "    </tr>\n",
       "    <tr>\n",
       "      <th>...</th>\n",
       "      <td>...</td>\n",
       "      <td>...</td>\n",
       "    </tr>\n",
       "    <tr>\n",
       "      <th>NaN</th>\n",
       "      <td>NaN</td>\n",
       "      <td>NaN</td>\n",
       "    </tr>\n",
       "    <tr>\n",
       "      <th>NaN</th>\n",
       "      <td>NaN</td>\n",
       "      <td>NaN</td>\n",
       "    </tr>\n",
       "    <tr>\n",
       "      <th>NaN</th>\n",
       "      <td>NaN</td>\n",
       "      <td>NaN</td>\n",
       "    </tr>\n",
       "    <tr>\n",
       "      <th>NaN</th>\n",
       "      <td>NaN</td>\n",
       "      <td>NaN</td>\n",
       "    </tr>\n",
       "    <tr>\n",
       "      <th>NaN</th>\n",
       "      <td>NaN</td>\n",
       "      <td>NaN</td>\n",
       "    </tr>\n",
       "  </tbody>\n",
       "</table>\n",
       "<p>288755 rows × 2 columns</p>\n",
       "</div>"
      ],
      "text/plain": [
       "                 PEATONES  PEATONES_cum\n",
       "IDENTIFICADOR                          \n",
       "PERM_PEA02_PM01     497.0         497.0\n",
       "PERM_PEA02_PM01     244.0         741.0\n",
       "PERM_PEA02_PM01     179.0         920.0\n",
       "PERM_PEA02_PM01     174.0        1094.0\n",
       "PERM_PEA02_PM01     131.0        1225.0\n",
       "...                   ...           ...\n",
       "NaN                   NaN           NaN\n",
       "NaN                   NaN           NaN\n",
       "NaN                   NaN           NaN\n",
       "NaN                   NaN           NaN\n",
       "NaN                   NaN           NaN\n",
       "\n",
       "[288755 rows x 2 columns]"
      ]
     },
     "execution_count": 48,
     "metadata": {},
     "output_type": "execute_result"
    }
   ],
   "source": [
    "df[[\"PEATONES\", \"PEATONES_cum\"]]\n",
    "# En la nueva columna cada valor de la fila es la suma de los valores anteriores.\n",
    "# Los NaN los ignora, salvo que se indique .cumsum(skipna=false)"
   ]
  },
  {
   "cell_type": "code",
   "execution_count": 49,
   "metadata": {},
   "outputs": [
    {
     "data": {
      "text/html": [
       "<div>\n",
       "<style scoped>\n",
       "    .dataframe tbody tr th:only-of-type {\n",
       "        vertical-align: middle;\n",
       "    }\n",
       "\n",
       "    .dataframe tbody tr th {\n",
       "        vertical-align: top;\n",
       "    }\n",
       "\n",
       "    .dataframe thead th {\n",
       "        text-align: right;\n",
       "    }\n",
       "</style>\n",
       "<table border=\"1\" class=\"dataframe\">\n",
       "  <thead>\n",
       "    <tr style=\"text-align: right;\">\n",
       "      <th></th>\n",
       "      <th>PEATONES</th>\n",
       "      <th>PEATONES_cum</th>\n",
       "    </tr>\n",
       "    <tr>\n",
       "      <th>IDENTIFICADOR</th>\n",
       "      <th></th>\n",
       "      <th></th>\n",
       "    </tr>\n",
       "  </thead>\n",
       "  <tbody>\n",
       "    <tr>\n",
       "      <th>PERM_PEA02_PM01</th>\n",
       "      <td>497.0</td>\n",
       "      <td>497.0</td>\n",
       "    </tr>\n",
       "    <tr>\n",
       "      <th>PERM_PEA02_PM01</th>\n",
       "      <td>244.0</td>\n",
       "      <td>741.0</td>\n",
       "    </tr>\n",
       "    <tr>\n",
       "      <th>PERM_PEA02_PM01</th>\n",
       "      <td>179.0</td>\n",
       "      <td>920.0</td>\n",
       "    </tr>\n",
       "    <tr>\n",
       "      <th>PERM_PEA02_PM01</th>\n",
       "      <td>174.0</td>\n",
       "      <td>1094.0</td>\n",
       "    </tr>\n",
       "    <tr>\n",
       "      <th>PERM_PEA02_PM01</th>\n",
       "      <td>131.0</td>\n",
       "      <td>1225.0</td>\n",
       "    </tr>\n",
       "  </tbody>\n",
       "</table>\n",
       "</div>"
      ],
      "text/plain": [
       "                 PEATONES  PEATONES_cum\n",
       "IDENTIFICADOR                          \n",
       "PERM_PEA02_PM01     497.0         497.0\n",
       "PERM_PEA02_PM01     244.0         741.0\n",
       "PERM_PEA02_PM01     179.0         920.0\n",
       "PERM_PEA02_PM01     174.0        1094.0\n",
       "PERM_PEA02_PM01     131.0        1225.0"
      ]
     },
     "execution_count": 49,
     "metadata": {},
     "output_type": "execute_result"
    }
   ],
   "source": [
    "df[[\"PEATONES\", \"PEATONES_cum\"]].head()"
   ]
  },
  {
   "cell_type": "code",
   "execution_count": 41,
   "metadata": {},
   "outputs": [
    {
     "data": {
      "text/html": [
       "<div>\n",
       "<style scoped>\n",
       "    .dataframe tbody tr th:only-of-type {\n",
       "        vertical-align: middle;\n",
       "    }\n",
       "\n",
       "    .dataframe tbody tr th {\n",
       "        vertical-align: top;\n",
       "    }\n",
       "\n",
       "    .dataframe thead th {\n",
       "        text-align: right;\n",
       "    }\n",
       "</style>\n",
       "<table border=\"1\" class=\"dataframe\">\n",
       "  <thead>\n",
       "    <tr style=\"text-align: right;\">\n",
       "      <th></th>\n",
       "      <th>FECHA</th>\n",
       "      <th>HORA</th>\n",
       "      <th>PEATONES</th>\n",
       "      <th>NÚMERO_DISTRITO</th>\n",
       "      <th>DISTRITO</th>\n",
       "      <th>NOMBRE_VIAL</th>\n",
       "      <th>NÚMERO</th>\n",
       "      <th>CÓDIGO_POSTAL</th>\n",
       "      <th>OBSERVACIONES_DIRECCION</th>\n",
       "      <th>LATITUD</th>\n",
       "      <th>LONGITUD</th>\n",
       "      <th>PEATONES_cum</th>\n",
       "    </tr>\n",
       "    <tr>\n",
       "      <th>IDENTIFICADOR</th>\n",
       "      <th></th>\n",
       "      <th></th>\n",
       "      <th></th>\n",
       "      <th></th>\n",
       "      <th></th>\n",
       "      <th></th>\n",
       "      <th></th>\n",
       "      <th></th>\n",
       "      <th></th>\n",
       "      <th></th>\n",
       "      <th></th>\n",
       "      <th></th>\n",
       "    </tr>\n",
       "  </thead>\n",
       "  <tbody>\n",
       "    <tr>\n",
       "      <th>PERM_PEA02_PM01</th>\n",
       "      <td>01/01/2020</td>\n",
       "      <td>0:00:00</td>\n",
       "      <td>497.0</td>\n",
       "      <td>1.0</td>\n",
       "      <td>Centro</td>\n",
       "      <td>Calle Fuencarral</td>\n",
       "      <td>22.0</td>\n",
       "      <td>28004.0</td>\n",
       "      <td>Calle peatonal Datos en prueba</td>\n",
       "      <td>40,422009</td>\n",
       "      <td>-3,7008917</td>\n",
       "      <td>497.0</td>\n",
       "    </tr>\n",
       "    <tr>\n",
       "      <th>PERM_PEA02_PM01</th>\n",
       "      <td>01/01/2020</td>\n",
       "      <td>0:15:00</td>\n",
       "      <td>244.0</td>\n",
       "      <td>1.0</td>\n",
       "      <td>Centro</td>\n",
       "      <td>Calle Fuencarral</td>\n",
       "      <td>22.0</td>\n",
       "      <td>28004.0</td>\n",
       "      <td>Calle peatonal Datos en prueba</td>\n",
       "      <td>40,422009</td>\n",
       "      <td>-3,7008917</td>\n",
       "      <td>741.0</td>\n",
       "    </tr>\n",
       "    <tr>\n",
       "      <th>PERM_PEA02_PM01</th>\n",
       "      <td>01/01/2020</td>\n",
       "      <td>0:30:00</td>\n",
       "      <td>179.0</td>\n",
       "      <td>1.0</td>\n",
       "      <td>Centro</td>\n",
       "      <td>Calle Fuencarral</td>\n",
       "      <td>22.0</td>\n",
       "      <td>28004.0</td>\n",
       "      <td>Calle peatonal Datos en prueba</td>\n",
       "      <td>40,422009</td>\n",
       "      <td>-3,7008917</td>\n",
       "      <td>920.0</td>\n",
       "    </tr>\n",
       "    <tr>\n",
       "      <th>PERM_PEA02_PM01</th>\n",
       "      <td>01/01/2020</td>\n",
       "      <td>0:45:00</td>\n",
       "      <td>174.0</td>\n",
       "      <td>1.0</td>\n",
       "      <td>Centro</td>\n",
       "      <td>Calle Fuencarral</td>\n",
       "      <td>22.0</td>\n",
       "      <td>28004.0</td>\n",
       "      <td>Calle peatonal Datos en prueba</td>\n",
       "      <td>40,422009</td>\n",
       "      <td>-3,7008917</td>\n",
       "      <td>1094.0</td>\n",
       "    </tr>\n",
       "    <tr>\n",
       "      <th>PERM_PEA02_PM01</th>\n",
       "      <td>01/01/2020</td>\n",
       "      <td>1:00:00</td>\n",
       "      <td>131.0</td>\n",
       "      <td>1.0</td>\n",
       "      <td>Centro</td>\n",
       "      <td>Calle Fuencarral</td>\n",
       "      <td>22.0</td>\n",
       "      <td>28004.0</td>\n",
       "      <td>Calle peatonal Datos en prueba</td>\n",
       "      <td>40,422009</td>\n",
       "      <td>-3,7008917</td>\n",
       "      <td>1225.0</td>\n",
       "    </tr>\n",
       "  </tbody>\n",
       "</table>\n",
       "</div>"
      ],
      "text/plain": [
       "                      FECHA     HORA  PEATONES  NÚMERO_DISTRITO DISTRITO   \n",
       "IDENTIFICADOR                                                              \n",
       "PERM_PEA02_PM01  01/01/2020  0:00:00     497.0              1.0   Centro  \\\n",
       "PERM_PEA02_PM01  01/01/2020  0:15:00     244.0              1.0   Centro   \n",
       "PERM_PEA02_PM01  01/01/2020  0:30:00     179.0              1.0   Centro   \n",
       "PERM_PEA02_PM01  01/01/2020  0:45:00     174.0              1.0   Centro   \n",
       "PERM_PEA02_PM01  01/01/2020  1:00:00     131.0              1.0   Centro   \n",
       "\n",
       "                      NOMBRE_VIAL  NÚMERO  CÓDIGO_POSTAL   \n",
       "IDENTIFICADOR                                              \n",
       "PERM_PEA02_PM01  Calle Fuencarral    22.0        28004.0  \\\n",
       "PERM_PEA02_PM01  Calle Fuencarral    22.0        28004.0   \n",
       "PERM_PEA02_PM01  Calle Fuencarral    22.0        28004.0   \n",
       "PERM_PEA02_PM01  Calle Fuencarral    22.0        28004.0   \n",
       "PERM_PEA02_PM01  Calle Fuencarral    22.0        28004.0   \n",
       "\n",
       "                        OBSERVACIONES_DIRECCION    LATITUD    LONGITUD   \n",
       "IDENTIFICADOR                                                            \n",
       "PERM_PEA02_PM01  Calle peatonal Datos en prueba  40,422009  -3,7008917  \\\n",
       "PERM_PEA02_PM01  Calle peatonal Datos en prueba  40,422009  -3,7008917   \n",
       "PERM_PEA02_PM01  Calle peatonal Datos en prueba  40,422009  -3,7008917   \n",
       "PERM_PEA02_PM01  Calle peatonal Datos en prueba  40,422009  -3,7008917   \n",
       "PERM_PEA02_PM01  Calle peatonal Datos en prueba  40,422009  -3,7008917   \n",
       "\n",
       "                 PEATONES_cum  \n",
       "IDENTIFICADOR                  \n",
       "PERM_PEA02_PM01         497.0  \n",
       "PERM_PEA02_PM01         741.0  \n",
       "PERM_PEA02_PM01         920.0  \n",
       "PERM_PEA02_PM01        1094.0  \n",
       "PERM_PEA02_PM01        1225.0  "
      ]
     },
     "execution_count": 41,
     "metadata": {},
     "output_type": "execute_result"
    }
   ],
   "source": [
    "df.head()"
   ]
  }
 ],
 "metadata": {
  "kernelspec": {
   "display_name": "Python 3",
   "language": "python",
   "name": "python3"
  },
  "language_info": {
   "codemirror_mode": {
    "name": "ipython",
    "version": 3
   },
   "file_extension": ".py",
   "mimetype": "text/x-python",
   "name": "python",
   "nbconvert_exporter": "python",
   "pygments_lexer": "ipython3",
   "version": "3.7.3"
  }
 },
 "nbformat": 4,
 "nbformat_minor": 2
}
