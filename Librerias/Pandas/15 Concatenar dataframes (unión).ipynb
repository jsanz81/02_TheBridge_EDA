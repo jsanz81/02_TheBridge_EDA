{
 "cells": [
  {
   "cell_type": "code",
   "execution_count": null,
   "metadata": {},
   "outputs": [],
   "source": [
    "import pandas as pd"
   ]
  },
  {
   "cell_type": "code",
   "execution_count": null,
   "metadata": {},
   "outputs": [],
   "source": [
    "df_ventas = pd.read_csv(r'./Datasets/Ventas.csv',encoding = \"ISO-8859-1\",delimiter=';')"
   ]
  },
  {
   "cell_type": "code",
   "execution_count": null,
   "metadata": {},
   "outputs": [],
   "source": [
    "df_ventas[\"Total Venta\"]=df_ventas[\"Total Venta\"].apply(lambda x:x.replace(\",\",\".\"))\n",
    "df_ventas[\"Precio Unitario\"]=df_ventas[\"Precio Unitario\"].apply(lambda x:x.replace(\",\",\".\"))\n",
    "df_ventas[\"Total Venta\"]=pd.to_numeric(df_ventas[\"Total Venta\"])\n",
    "df_ventas[\"Precio Unitario\"]=pd.to_numeric(df_ventas[\"Precio Unitario\"])"
   ]
  },
  {
   "cell_type": "code",
   "execution_count": null,
   "metadata": {},
   "outputs": [],
   "source": [
    "df_1 = df_ventas[df_ventas[\"Fecha\"]==\"01/06/2022\"]"
   ]
  },
  {
   "cell_type": "code",
   "execution_count": null,
   "metadata": {},
   "outputs": [],
   "source": [
    "df_2 = df_ventas[df_ventas[\"Fecha\"]==\"01/07/2022\"]"
   ]
  },
  {
   "attachments": {},
   "cell_type": "markdown",
   "metadata": {},
   "source": [
    "Concatenaremos una dataframe *debajo* del otro"
   ]
  },
  {
   "cell_type": "code",
   "execution_count": null,
   "metadata": {},
   "outputs": [],
   "source": [
    "df_concatenado = pd.concat([df_1, df_2],ignore_index=True)"
   ]
  },
  {
   "cell_type": "code",
   "execution_count": null,
   "metadata": {},
   "outputs": [],
   "source": [
    "df_concatenado"
   ]
  }
 ],
 "metadata": {
  "kernelspec": {
   "display_name": "Python 3",
   "language": "python",
   "name": "python3"
  },
  "language_info": {
   "codemirror_mode": {
    "name": "ipython",
    "version": 3
   },
   "file_extension": ".py",
   "mimetype": "text/x-python",
   "name": "python",
   "nbconvert_exporter": "python",
   "pygments_lexer": "ipython3",
   "version": "3.7.3"
  }
 },
 "nbformat": 4,
 "nbformat_minor": 2
}
