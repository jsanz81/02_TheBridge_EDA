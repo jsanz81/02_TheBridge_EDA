{
 "cells": [
  {
   "attachments": {},
   "cell_type": "markdown",
   "metadata": {},
   "source": [
    "# Ejercicios"
   ]
  },
  {
   "attachments": {},
   "cell_type": "markdown",
   "metadata": {},
   "source": [
    "Los tres dataset que se encuentran la carpeta Dataset nontienen:\n",
    "* **Cast**\n",
    "    * La base de datos de elenco de peliculas, de imdb.\n",
    "* **Titles**\n",
    "    * La base de datos imdb de titulos de peliculas\n",
    "* **Release_dates**\n",
    "    * La base de datos imdb de titulos de peliculas y la fecha del estreno en cada país"
   ]
  },
  {
   "attachments": {},
   "cell_type": "markdown",
   "metadata": {},
   "source": [
    "## Ejercicio 1\n",
    "Del fichero **cast.csv** del la carpeta Dataset realice:\n",
    "\n",
    "* ¿Cuántas peliculas estan listadas por el nombre ``Dracula`` ?\n",
    "* Titulos mas comunes en la historia filmografica.\n",
    "* ¿Cuál fue la primer pelicula hecha titulada ``Romeo and Juliet`` ?\n",
    "* Listar todas las peliculas que contengan la palabra ``Exorcist`` ordenadas de la más antigua a la más reciente.\n",
    "* ¿Cuántas peliculas fueron hechas en el año 1950?\n",
    "* ¿Cuántas peliculas fueron hechas en el año 1970?\n",
    "* ¿Cuántas peliculas fueron hechas de 1950 a 1959.\n",
    "* ¿En qué años alguna pelicula llamada ``Batman`` se estrenó?\n",
    "* ¿Cuántos roles o papeles hubo en la pelicula ``The Godfather``?\n",
    "* ¿Cuántos papeles en la pelicula ``The Godfather`` no estan clasificados en algun valor ``n``?\n",
    "* ¿Cuántos papeles en la pelicula ``The Godfather`` si estuvieron clasificados con un valor ``n``?\n",
    "* Mostrar el elenco completo de la pelicula ``2001: A Space Odyssey``  ordenado por su clasificasión ``n``, ignorando los papeles que no se les asigno ningun valor ``n``.\n",
    "* Mostrar el elenco completo ordenado por la clasificacion ``n`` de la pelicula ``Dracula`` de 1958\n",
    "* ¿Cuantos papeles fueron listados en la pelicula ``The Wizard of Oz`` de 1939?\n",
    "* ¿Cuántos papeles de ``Bruce Wayne`` han sido hechos en la historia de las peliculas?\n",
    "* ¿Cuánta gente ah hecho el papel de ``Romeo``?\n",
    "* ¿Cuántos papeles ah hecho ``Robert De Niro`` en su carrera?\n",
    "* Listado de papeles de soporte que tuvo el actor ``Charlton Heston`` en la decada de los 50's, ordenado por año.\n",
    "* Listado de papeles como protagonista que tuvo el actor ``Charlton Heston`` en la decada de los 60's, ordenado por año de forma descendente.\n",
    "* ¿Cuántos papeles para actores hubo en la decada de los 50's?\n",
    "* ¿Cuántos papeles para actrices hubo en la decada de los 50's ?\n",
    "* ¿Cuantos papeles protagonicos existen desde el principio de la historia filmatografica hasta 1970 ?\n",
    "\n",
    "## Ejercicio 2\n",
    "* Graficar la diferencia entre el numero de papeles  para actores cada año y el numero de papeles para actrices cada año en la historia de la filmografia.\n",
    "* Graficar en numero de papeles de actores cada año y el numero de papeles para actrices cada año.\n",
    "* El mismo grafico anterior pero categorizado por decada y con un grafico de area.\n",
    "* Graficar el porcentaje de papeles que han sido actores cada año en la historia de la filmografia\n",
    "* Graficar el porcentaje de papeles que han sido  actores cada año en la historia de la filmografia junto al mismo porcentaje pero de actrices\n",
    "* Graficar 3 lines con clasificacion \"n\" de 1 al 3 donde cada  linea represente el porcentaje de la clasificacion para  los papeles de actores en cada año.\n",
    "* Encontrar las 5 peliculas de la historia tengan más actrices que actores\n",
    "\n",
    "\n",
    "## Ejericicio 3\n",
    "* En que fechas fue lanzada cada pelicula de ``Salma Hayek`` desde  1990 al presente en Mexico\n",
    "* En que dia de la semana se han lanzado en USA las peliculas de donde aparece ``Tom Cuise``. Incluir un grafico \n",
    "* ¿Que peliculas han sido lanzadas en la mayor cantidad de paises?, incluir en un grafico las 5 mayores.\n",
    "* ¿Quien tiende a ser el actor si clasificado (n > 1) que mas a  participado en peliculas donde el protagonista es ``Leonardo DiCaprio``? "
   ]
  }
 ],
 "metadata": {
  "language_info": {
   "name": "python"
  },
  "orig_nbformat": 4
 },
 "nbformat": 4,
 "nbformat_minor": 2
}
