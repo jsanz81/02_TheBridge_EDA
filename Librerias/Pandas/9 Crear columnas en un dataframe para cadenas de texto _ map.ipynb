{
 "cells": [
  {
   "attachments": {},
   "cell_type": "markdown",
   "metadata": {},
   "source": [
    "## Libería Pandas\n",
    "Creación de columnas para cadenas de texto\n",
    "para ello se empleará la función ``map()``"
   ]
  },
  {
   "cell_type": "code",
   "execution_count": null,
   "metadata": {},
   "outputs": [],
   "source": [
    "import pandas as pd"
   ]
  },
  {
   "cell_type": "code",
   "execution_count": null,
   "metadata": {},
   "outputs": [],
   "source": [
    "info_pais = {\"pais\":[\"España\", \"Francia\", \"Italia\", \"Austria\", \"Bélgica\", \"Alemania\"],\n",
    "             \"capital\":[\"Madrid\",\"París\",\"Roma\",\"Viena\",\"Bruselas\",\"Berlin\"],\n",
    "             \"superficie (Mkm2)\": [8.5, 1.9, 1.2, 0.5, 1.1,0.9]}"
   ]
  },
  {
   "cell_type": "code",
   "execution_count": null,
   "metadata": {},
   "outputs": [],
   "source": [
    "df_pais = pd.DataFrame(info_pais)"
   ]
  },
  {
   "cell_type": "code",
   "execution_count": null,
   "metadata": {},
   "outputs": [],
   "source": [
    "df_pais"
   ]
  },
  {
   "cell_type": "code",
   "execution_count": null,
   "metadata": {},
   "outputs": [],
   "source": [
    "df_pais[\"pais-capital\"]=df_pais[\"pais\"] + \"-\" + df_pais[\"capital\"]"
   ]
  },
  {
   "cell_type": "code",
   "execution_count": null,
   "metadata": {},
   "outputs": [],
   "source": [
    "df_pais"
   ]
  },
  {
   "cell_type": "code",
   "execution_count": null,
   "metadata": {},
   "outputs": [],
   "source": [
    "df_pais[\"pais-sup\"]=df_pais[\"pais\"] + \"-\" + df_pais[\"superficie (Mkm2)\"].astype(str)"
   ]
  },
  {
   "cell_type": "code",
   "execution_count": null,
   "metadata": {},
   "outputs": [],
   "source": []
  },
  {
   "cell_type": "code",
   "execution_count": null,
   "metadata": {},
   "outputs": [],
   "source": [
    "df_pais"
   ]
  },
  {
   "cell_type": "code",
   "execution_count": null,
   "metadata": {},
   "outputs": [],
   "source": [
    "df_pais[\"pais_etiqueta\"]=df_pais[\"pais\"].str[0:2]"
   ]
  },
  {
   "cell_type": "code",
   "execution_count": null,
   "metadata": {},
   "outputs": [],
   "source": [
    "df_pais"
   ]
  },
  {
   "cell_type": "code",
   "execution_count": null,
   "metadata": {},
   "outputs": [],
   "source": [
    "dic_pc = {\"Es\":\"Europa\",\"It\":\"Europa\",\"Al\":\"Europa\",\"Fr\":\"Europa\",\"Au\":\"Europa\",\"Bé\":\"Europa\",\"Po\":\"Europa\",\"Mé\":\"América\",\"Co\":\"América\",\"Br\":\"América\",\"Cu\":\"América\",\"Ve\":\"América\",\"Pe\":\"América\",\"Ca\":\"América\",\"Chi\":\"Asia\",\"In\":\"Asia\",\"Zi\":\"África\",\"Co\":\"África\",\"Aus\":\"Oceanía\"}"
   ]
  },
  {
   "cell_type": "code",
   "execution_count": null,
   "metadata": {},
   "outputs": [],
   "source": [
    "dic_pc"
   ]
  },
  {
   "cell_type": "code",
   "execution_count": null,
   "metadata": {},
   "outputs": [],
   "source": [
    "df_pais[\"Continente\"] = df_pais[\"pais_etiqueta\"].map(dic_pc)"
   ]
  },
  {
   "cell_type": "code",
   "execution_count": null,
   "metadata": {},
   "outputs": [],
   "source": [
    "df_pais"
   ]
  },
  {
   "attachments": {},
   "cell_type": "markdown",
   "metadata": {},
   "source": [
    "## Ejercicio\n",
    "Utilizando el diccionario dic_pc cree un nuevo dataframe con los paises que falten para crear un nuevo dataframe df_onu con todos los paises. *Inventesé los datos que vea oportunos*"
   ]
  }
 ],
 "metadata": {
  "kernelspec": {
   "display_name": "Python 3",
   "language": "python",
   "name": "python3"
  },
  "language_info": {
   "codemirror_mode": {
    "name": "ipython",
    "version": 3
   },
   "file_extension": ".py",
   "mimetype": "text/x-python",
   "name": "python",
   "nbconvert_exporter": "python",
   "pygments_lexer": "ipython3",
   "version": "3.9.12"
  }
 },
 "nbformat": 4,
 "nbformat_minor": 2
}
