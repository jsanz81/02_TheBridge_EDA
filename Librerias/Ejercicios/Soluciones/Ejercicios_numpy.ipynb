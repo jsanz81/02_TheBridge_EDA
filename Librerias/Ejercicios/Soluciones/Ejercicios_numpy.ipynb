{
 "cells": [
  {
   "cell_type": "code",
   "execution_count": 1,
   "metadata": {
    "collapsed": true
   },
   "outputs": [],
   "source": [
    "import numpy as np"
   ]
  },
  {
   "attachments": {},
   "cell_type": "markdown",
   "metadata": {},
   "source": [
    "### Genere un array cuyos valores esten comprendido en el rango -123 a 145"
   ]
  },
  {
   "cell_type": "code",
   "execution_count": 4,
   "metadata": {
    "collapsed": false
   },
   "outputs": [],
   "source": [
    "a=np.arange(-123,145)"
   ]
  },
  {
   "cell_type": "code",
   "execution_count": 5,
   "metadata": {},
   "outputs": [
    {
     "data": {
      "text/plain": [
       "array([-123, -122, -121, -120, -119, -118, -117, -116, -115, -114, -113,\n",
       "       -112, -111, -110, -109, -108, -107, -106, -105, -104, -103, -102,\n",
       "       -101, -100,  -99,  -98,  -97,  -96,  -95,  -94,  -93,  -92,  -91,\n",
       "        -90,  -89,  -88,  -87,  -86,  -85,  -84,  -83,  -82,  -81,  -80,\n",
       "        -79,  -78,  -77,  -76,  -75,  -74,  -73,  -72,  -71,  -70,  -69,\n",
       "        -68,  -67,  -66,  -65,  -64,  -63,  -62,  -61,  -60,  -59,  -58,\n",
       "        -57,  -56,  -55,  -54,  -53,  -52,  -51,  -50,  -49,  -48,  -47,\n",
       "        -46,  -45,  -44,  -43,  -42,  -41,  -40,  -39,  -38,  -37,  -36,\n",
       "        -35,  -34,  -33,  -32,  -31,  -30,  -29,  -28,  -27,  -26,  -25,\n",
       "        -24,  -23,  -22,  -21,  -20,  -19,  -18,  -17,  -16,  -15,  -14,\n",
       "        -13,  -12,  -11,  -10,   -9,   -8,   -7,   -6,   -5,   -4,   -3,\n",
       "         -2,   -1,    0,    1,    2,    3,    4,    5,    6,    7,    8,\n",
       "          9,   10,   11,   12,   13,   14,   15,   16,   17,   18,   19,\n",
       "         20,   21,   22,   23,   24,   25,   26,   27,   28,   29,   30,\n",
       "         31,   32,   33,   34,   35,   36,   37,   38,   39,   40,   41,\n",
       "         42,   43,   44,   45,   46,   47,   48,   49,   50,   51,   52,\n",
       "         53,   54,   55,   56,   57,   58,   59,   60,   61,   62,   63,\n",
       "         64,   65,   66,   67,   68,   69,   70,   71,   72,   73,   74,\n",
       "         75,   76,   77,   78,   79,   80,   81,   82,   83,   84,   85,\n",
       "         86,   87,   88,   89,   90,   91,   92,   93,   94,   95,   96,\n",
       "         97,   98,   99,  100,  101,  102,  103,  104,  105,  106,  107,\n",
       "        108,  109,  110,  111,  112,  113,  114,  115,  116,  117,  118,\n",
       "        119,  120,  121,  122,  123,  124,  125,  126,  127,  128,  129,\n",
       "        130,  131,  132,  133,  134,  135,  136,  137,  138,  139,  140,\n",
       "        141,  142,  143,  144])"
      ]
     },
     "execution_count": 5,
     "metadata": {},
     "output_type": "execute_result"
    }
   ],
   "source": [
    "a"
   ]
  },
  {
   "attachments": {},
   "cell_type": "markdown",
   "metadata": {},
   "source": [
    "### Invertir el array generado en el apartado anterior"
   ]
  },
  {
   "cell_type": "code",
   "execution_count": 7,
   "metadata": {},
   "outputs": [
    {
     "data": {
      "text/plain": [
       "array([ 144,  143,  142,  141,  140,  139,  138,  137,  136,  135,  134,\n",
       "        133,  132,  131,  130,  129,  128,  127,  126,  125,  124,  123,\n",
       "        122,  121,  120,  119,  118,  117,  116,  115,  114,  113,  112,\n",
       "        111,  110,  109,  108,  107,  106,  105,  104,  103,  102,  101,\n",
       "        100,   99,   98,   97,   96,   95,   94,   93,   92,   91,   90,\n",
       "         89,   88,   87,   86,   85,   84,   83,   82,   81,   80,   79,\n",
       "         78,   77,   76,   75,   74,   73,   72,   71,   70,   69,   68,\n",
       "         67,   66,   65,   64,   63,   62,   61,   60,   59,   58,   57,\n",
       "         56,   55,   54,   53,   52,   51,   50,   49,   48,   47,   46,\n",
       "         45,   44,   43,   42,   41,   40,   39,   38,   37,   36,   35,\n",
       "         34,   33,   32,   31,   30,   29,   28,   27,   26,   25,   24,\n",
       "         23,   22,   21,   20,   19,   18,   17,   16,   15,   14,   13,\n",
       "         12,   11,   10,    9,    8,    7,    6,    5,    4,    3,    2,\n",
       "          1,    0,   -1,   -2,   -3,   -4,   -5,   -6,   -7,   -8,   -9,\n",
       "        -10,  -11,  -12,  -13,  -14,  -15,  -16,  -17,  -18,  -19,  -20,\n",
       "        -21,  -22,  -23,  -24,  -25,  -26,  -27,  -28,  -29,  -30,  -31,\n",
       "        -32,  -33,  -34,  -35,  -36,  -37,  -38,  -39,  -40,  -41,  -42,\n",
       "        -43,  -44,  -45,  -46,  -47,  -48,  -49,  -50,  -51,  -52,  -53,\n",
       "        -54,  -55,  -56,  -57,  -58,  -59,  -60,  -61,  -62,  -63,  -64,\n",
       "        -65,  -66,  -67,  -68,  -69,  -70,  -71,  -72,  -73,  -74,  -75,\n",
       "        -76,  -77,  -78,  -79,  -80,  -81,  -82,  -83,  -84,  -85,  -86,\n",
       "        -87,  -88,  -89,  -90,  -91,  -92,  -93,  -94,  -95,  -96,  -97,\n",
       "        -98,  -99, -100, -101, -102, -103, -104, -105, -106, -107, -108,\n",
       "       -109, -110, -111, -112, -113, -114, -115, -116, -117, -118, -119,\n",
       "       -120, -121, -122, -123])"
      ]
     },
     "execution_count": 7,
     "metadata": {},
     "output_type": "execute_result"
    }
   ],
   "source": [
    "np.flip(a)"
   ]
  },
  {
   "cell_type": "code",
   "execution_count": 6,
   "metadata": {
    "collapsed": false
   },
   "outputs": [
    {
     "data": {
      "text/plain": [
       "[144,\n",
       " 143,\n",
       " 142,\n",
       " 141,\n",
       " 140,\n",
       " 139,\n",
       " 138,\n",
       " 137,\n",
       " 136,\n",
       " 135,\n",
       " 134,\n",
       " 133,\n",
       " 132,\n",
       " 131,\n",
       " 130,\n",
       " 129,\n",
       " 128,\n",
       " 127,\n",
       " 126,\n",
       " 125,\n",
       " 124,\n",
       " 123,\n",
       " 122,\n",
       " 121,\n",
       " 120,\n",
       " 119,\n",
       " 118,\n",
       " 117,\n",
       " 116,\n",
       " 115,\n",
       " 114,\n",
       " 113,\n",
       " 112,\n",
       " 111,\n",
       " 110,\n",
       " 109,\n",
       " 108,\n",
       " 107,\n",
       " 106,\n",
       " 105,\n",
       " 104,\n",
       " 103,\n",
       " 102,\n",
       " 101,\n",
       " 100,\n",
       " 99,\n",
       " 98,\n",
       " 97,\n",
       " 96,\n",
       " 95,\n",
       " 94,\n",
       " 93,\n",
       " 92,\n",
       " 91,\n",
       " 90,\n",
       " 89,\n",
       " 88,\n",
       " 87,\n",
       " 86,\n",
       " 85,\n",
       " 84,\n",
       " 83,\n",
       " 82,\n",
       " 81,\n",
       " 80,\n",
       " 79,\n",
       " 78,\n",
       " 77,\n",
       " 76,\n",
       " 75,\n",
       " 74,\n",
       " 73,\n",
       " 72,\n",
       " 71,\n",
       " 70,\n",
       " 69,\n",
       " 68,\n",
       " 67,\n",
       " 66,\n",
       " 65,\n",
       " 64,\n",
       " 63,\n",
       " 62,\n",
       " 61,\n",
       " 60,\n",
       " 59,\n",
       " 58,\n",
       " 57,\n",
       " 56,\n",
       " 55,\n",
       " 54,\n",
       " 53,\n",
       " 52,\n",
       " 51,\n",
       " 50,\n",
       " 49,\n",
       " 48,\n",
       " 47,\n",
       " 46,\n",
       " 45,\n",
       " 44,\n",
       " 43,\n",
       " 42,\n",
       " 41,\n",
       " 40,\n",
       " 39,\n",
       " 38,\n",
       " 37,\n",
       " 36,\n",
       " 35,\n",
       " 34,\n",
       " 33,\n",
       " 32,\n",
       " 31,\n",
       " 30,\n",
       " 29,\n",
       " 28,\n",
       " 27,\n",
       " 26,\n",
       " 25,\n",
       " 24,\n",
       " 23,\n",
       " 22,\n",
       " 21,\n",
       " 20,\n",
       " 19,\n",
       " 18,\n",
       " 17,\n",
       " 16,\n",
       " 15,\n",
       " 14,\n",
       " 13,\n",
       " 12,\n",
       " 11,\n",
       " 10,\n",
       " 9,\n",
       " 8,\n",
       " 7,\n",
       " 6,\n",
       " 5,\n",
       " 4,\n",
       " 3,\n",
       " 2,\n",
       " 1,\n",
       " 0,\n",
       " -1,\n",
       " -2,\n",
       " -3,\n",
       " -4,\n",
       " -5,\n",
       " -6,\n",
       " -7,\n",
       " -8,\n",
       " -9,\n",
       " -10,\n",
       " -11,\n",
       " -12,\n",
       " -13,\n",
       " -14,\n",
       " -15,\n",
       " -16,\n",
       " -17,\n",
       " -18,\n",
       " -19,\n",
       " -20,\n",
       " -21,\n",
       " -22,\n",
       " -23,\n",
       " -24,\n",
       " -25,\n",
       " -26,\n",
       " -27,\n",
       " -28,\n",
       " -29,\n",
       " -30,\n",
       " -31,\n",
       " -32,\n",
       " -33,\n",
       " -34,\n",
       " -35,\n",
       " -36,\n",
       " -37,\n",
       " -38,\n",
       " -39,\n",
       " -40,\n",
       " -41,\n",
       " -42,\n",
       " -43,\n",
       " -44,\n",
       " -45,\n",
       " -46,\n",
       " -47,\n",
       " -48,\n",
       " -49,\n",
       " -50,\n",
       " -51,\n",
       " -52,\n",
       " -53,\n",
       " -54,\n",
       " -55,\n",
       " -56,\n",
       " -57,\n",
       " -58,\n",
       " -59,\n",
       " -60,\n",
       " -61,\n",
       " -62,\n",
       " -63,\n",
       " -64,\n",
       " -65,\n",
       " -66,\n",
       " -67,\n",
       " -68,\n",
       " -69,\n",
       " -70,\n",
       " -71,\n",
       " -72,\n",
       " -73,\n",
       " -74,\n",
       " -75,\n",
       " -76,\n",
       " -77,\n",
       " -78,\n",
       " -79,\n",
       " -80,\n",
       " -81,\n",
       " -82,\n",
       " -83,\n",
       " -84,\n",
       " -85,\n",
       " -86,\n",
       " -87,\n",
       " -88,\n",
       " -89,\n",
       " -90,\n",
       " -91,\n",
       " -92,\n",
       " -93,\n",
       " -94,\n",
       " -95,\n",
       " -96,\n",
       " -97,\n",
       " -98,\n",
       " -99,\n",
       " -100,\n",
       " -101,\n",
       " -102,\n",
       " -103,\n",
       " -104,\n",
       " -105,\n",
       " -106,\n",
       " -107,\n",
       " -108,\n",
       " -109,\n",
       " -110,\n",
       " -111,\n",
       " -112,\n",
       " -113,\n",
       " -114,\n",
       " -115,\n",
       " -116,\n",
       " -117,\n",
       " -118,\n",
       " -119,\n",
       " -120,\n",
       " -121,\n",
       " -122,\n",
       " -123]"
      ]
     },
     "execution_count": 6,
     "metadata": {},
     "output_type": "execute_result"
    }
   ],
   "source": [
    "list(reversed(a))"
   ]
  },
  {
   "cell_type": "code",
   "execution_count": 9,
   "metadata": {},
   "outputs": [
    {
     "data": {
      "text/plain": [
       "array([ 122,  121,  120,  119,  118,  117,  116,  115,  114,  113,  112,\n",
       "        111,  110,  109,  108,  107,  106,  105,  104,  103,  102,  101,\n",
       "        100,   99,   98,   97,   96,   95,   94,   93,   92,   91,   90,\n",
       "         89,   88,   87,   86,   85,   84,   83,   82,   81,   80,   79,\n",
       "         78,   77,   76,   75,   74,   73,   72,   71,   70,   69,   68,\n",
       "         67,   66,   65,   64,   63,   62,   61,   60,   59,   58,   57,\n",
       "         56,   55,   54,   53,   52,   51,   50,   49,   48,   47,   46,\n",
       "         45,   44,   43,   42,   41,   40,   39,   38,   37,   36,   35,\n",
       "         34,   33,   32,   31,   30,   29,   28,   27,   26,   25,   24,\n",
       "         23,   22,   21,   20,   19,   18,   17,   16,   15,   14,   13,\n",
       "         12,   11,   10,    9,    8,    7,    6,    5,    4,    3,    2,\n",
       "          1,    0,   -1,   -2,   -3,   -4,   -5,   -6,   -7,   -8,   -9,\n",
       "        -10,  -11,  -12,  -13,  -14,  -15,  -16,  -17,  -18,  -19,  -20,\n",
       "        -21,  -22,  -23,  -24,  -25,  -26,  -27,  -28,  -29,  -30,  -31,\n",
       "        -32,  -33,  -34,  -35,  -36,  -37,  -38,  -39,  -40,  -41,  -42,\n",
       "        -43,  -44,  -45,  -46,  -47,  -48,  -49,  -50,  -51,  -52,  -53,\n",
       "        -54,  -55,  -56,  -57,  -58,  -59,  -60,  -61,  -62,  -63,  -64,\n",
       "        -65,  -66,  -67,  -68,  -69,  -70,  -71,  -72,  -73,  -74,  -75,\n",
       "        -76,  -77,  -78,  -79,  -80,  -81,  -82,  -83,  -84,  -85,  -86,\n",
       "        -87,  -88,  -89,  -90,  -91,  -92,  -93,  -94,  -95,  -96,  -97,\n",
       "        -98,  -99, -100, -101, -102, -103, -104, -105, -106, -107, -108,\n",
       "       -109, -110, -111, -112, -113, -114, -115, -116, -117, -118, -119,\n",
       "       -120, -121, -122, -123, -124, -125, -126, -127, -128, -129, -130,\n",
       "       -131, -132, -133, -134, -135, -136, -137, -138, -139, -140, -141,\n",
       "       -142, -143, -144, -145], dtype=int32)"
      ]
     },
     "execution_count": 9,
     "metadata": {},
     "output_type": "execute_result"
    }
   ],
   "source": [
    "np.invert(a)"
   ]
  },
  {
   "cell_type": "code",
   "execution_count": 11,
   "metadata": {},
   "outputs": [
    {
     "data": {
      "text/plain": [
       "array([ 144,  143,  142,  141,  140,  139,  138,  137,  136,  135,  134,\n",
       "        133,  132,  131,  130,  129,  128,  127,  126,  125,  124,  123,\n",
       "        122,  121,  120,  119,  118,  117,  116,  115,  114,  113,  112,\n",
       "        111,  110,  109,  108,  107,  106,  105,  104,  103,  102,  101,\n",
       "        100,   99,   98,   97,   96,   95,   94,   93,   92,   91,   90,\n",
       "         89,   88,   87,   86,   85,   84,   83,   82,   81,   80,   79,\n",
       "         78,   77,   76,   75,   74,   73,   72,   71,   70,   69,   68,\n",
       "         67,   66,   65,   64,   63,   62,   61,   60,   59,   58,   57,\n",
       "         56,   55,   54,   53,   52,   51,   50,   49,   48,   47,   46,\n",
       "         45,   44,   43,   42,   41,   40,   39,   38,   37,   36,   35,\n",
       "         34,   33,   32,   31,   30,   29,   28,   27,   26,   25,   24,\n",
       "         23,   22,   21,   20,   19,   18,   17,   16,   15,   14,   13,\n",
       "         12,   11,   10,    9,    8,    7,    6,    5,    4,    3,    2,\n",
       "          1,    0,   -1,   -2,   -3,   -4,   -5,   -6,   -7,   -8,   -9,\n",
       "        -10,  -11,  -12,  -13,  -14,  -15,  -16,  -17,  -18,  -19,  -20,\n",
       "        -21,  -22,  -23,  -24,  -25,  -26,  -27,  -28,  -29,  -30,  -31,\n",
       "        -32,  -33,  -34,  -35,  -36,  -37,  -38,  -39,  -40,  -41,  -42,\n",
       "        -43,  -44,  -45,  -46,  -47,  -48,  -49,  -50,  -51,  -52,  -53,\n",
       "        -54,  -55,  -56,  -57,  -58,  -59,  -60,  -61,  -62,  -63,  -64,\n",
       "        -65,  -66,  -67,  -68,  -69,  -70,  -71,  -72,  -73,  -74,  -75,\n",
       "        -76,  -77,  -78,  -79,  -80,  -81,  -82,  -83,  -84,  -85,  -86,\n",
       "        -87,  -88,  -89,  -90,  -91,  -92,  -93,  -94,  -95,  -96,  -97,\n",
       "        -98,  -99, -100, -101, -102, -103, -104, -105, -106, -107, -108,\n",
       "       -109, -110, -111, -112, -113, -114, -115, -116, -117, -118, -119,\n",
       "       -120, -121, -122, -123])"
      ]
     },
     "execution_count": 11,
     "metadata": {},
     "output_type": "execute_result"
    }
   ],
   "source": [
    "a[::-1]"
   ]
  },
  {
   "attachments": {},
   "cell_type": "markdown",
   "metadata": {},
   "source": [
    "### Generar una matriz 5x4 con valores de impares empezando desde el día de su nacimiento"
   ]
  },
  {
   "cell_type": "code",
   "execution_count": 15,
   "metadata": {
    "collapsed": false
   },
   "outputs": [
    {
     "name": "stdout",
     "output_type": "stream",
     "text": [
      "[[1993 1995 1997 1999]\n",
      " [2001 2003 2005 2007]\n",
      " [2009 2011 2013 2015]\n",
      " [2017 2019 2021 2023]\n",
      " [2025 2027 2029 2031]]\n"
     ]
    }
   ],
   "source": [
    "nacimiento=1992\n",
    "if nacimiento%2==0:\n",
    "    print(np.arange(nacimiento+1,nacimiento+41,2).reshape(5,4))\n",
    "else:\n",
    "    print(np.arange(nacimiento,nacimiento+41,2).reshape(5,4))"
   ]
  },
  {
   "cell_type": "code",
   "execution_count": 24,
   "metadata": {},
   "outputs": [
    {
     "data": {
      "text/plain": [
       "array([[1993, 1995, 1997, 1999],\n",
       "       [2001, 2003, 2005, 2007],\n",
       "       [2009, 2011, 2013, 2015],\n",
       "       [2017, 2019, 2021, 2023],\n",
       "       [2025, 2027, 2029, 2031]])"
      ]
     },
     "execution_count": 24,
     "metadata": {},
     "output_type": "execute_result"
    }
   ],
   "source": [
    "np.array([x for x in range(nacimiento,nacimiento + 40) if x%2!=0]).reshape(5,4)"
   ]
  },
  {
   "attachments": {},
   "cell_type": "markdown",
   "metadata": {},
   "source": [
    "###  Generar un array de 20 ceros"
   ]
  },
  {
   "cell_type": "code",
   "execution_count": 25,
   "metadata": {},
   "outputs": [
    {
     "data": {
      "text/plain": [
       "array([0., 0., 0., 0., 0., 0., 0., 0., 0., 0., 0., 0., 0., 0., 0., 0., 0.,\n",
       "       0., 0., 0.])"
      ]
     },
     "execution_count": 25,
     "metadata": {},
     "output_type": "execute_result"
    }
   ],
   "source": [
    "np.zeros(20)"
   ]
  },
  {
   "attachments": {},
   "cell_type": "markdown",
   "metadata": {},
   "source": [
    "###  Generar un array de 20 unos"
   ]
  },
  {
   "cell_type": "code",
   "execution_count": 26,
   "metadata": {},
   "outputs": [
    {
     "data": {
      "text/plain": [
       "array([1., 1., 1., 1., 1., 1., 1., 1., 1., 1., 1., 1., 1., 1., 1., 1., 1.,\n",
       "       1., 1., 1.])"
      ]
     },
     "execution_count": 26,
     "metadata": {},
     "output_type": "execute_result"
    }
   ],
   "source": [
    "np.ones(20)"
   ]
  },
  {
   "attachments": {},
   "cell_type": "markdown",
   "metadata": {},
   "source": [
    "### Generar la matriz identidad de orden 6"
   ]
  },
  {
   "cell_type": "code",
   "execution_count": 28,
   "metadata": {
    "collapsed": false
   },
   "outputs": [
    {
     "data": {
      "text/plain": [
       "array([[1., 0., 0., 0., 0., 0.],\n",
       "       [0., 1., 0., 0., 0., 0.],\n",
       "       [0., 0., 1., 0., 0., 0.],\n",
       "       [0., 0., 0., 1., 0., 0.],\n",
       "       [0., 0., 0., 0., 1., 0.],\n",
       "       [0., 0., 0., 0., 0., 1.]])"
      ]
     },
     "execution_count": 28,
     "metadata": {},
     "output_type": "execute_result"
    }
   ],
   "source": [
    "np.eye(6)"
   ]
  },
  {
   "cell_type": "code",
   "execution_count": 29,
   "metadata": {},
   "outputs": [
    {
     "data": {
      "text/plain": [
       "array([[1., 0., 0., 0., 0., 0.],\n",
       "       [0., 1., 0., 0., 0., 0.],\n",
       "       [0., 0., 1., 0., 0., 0.],\n",
       "       [0., 0., 0., 1., 0., 0.],\n",
       "       [0., 0., 0., 0., 1., 0.],\n",
       "       [0., 0., 0., 0., 0., 1.]])"
      ]
     },
     "execution_count": 29,
     "metadata": {},
     "output_type": "execute_result"
    }
   ],
   "source": [
    "np.identity(6)"
   ]
  },
  {
   "attachments": {},
   "cell_type": "markdown",
   "metadata": {},
   "source": [
    "### Generar una matriz con valores al aleatorios con forma 7x6x3 "
   ]
  },
  {
   "cell_type": "code",
   "execution_count": 30,
   "metadata": {
    "collapsed": false
   },
   "outputs": [],
   "source": [
    "matriz=np.random.randint(1,30,size=(7,6,3))"
   ]
  },
  {
   "cell_type": "code",
   "execution_count": 41,
   "metadata": {},
   "outputs": [
    {
     "data": {
      "text/plain": [
       "array([[[12, 23, 20],\n",
       "        [14,  4, 20],\n",
       "        [29, 15, 15],\n",
       "        [26, 20,  9],\n",
       "        [27, 24,  3],\n",
       "        [ 1, 27, 27]],\n",
       "\n",
       "       [[29, 10, 12],\n",
       "        [29, 17,  8],\n",
       "        [ 1, 21, 11],\n",
       "        [19, 12, 29],\n",
       "        [ 8, 11, 11],\n",
       "        [ 3, 29,  2]],\n",
       "\n",
       "       [[ 4,  6, 15],\n",
       "        [28,  1,  7],\n",
       "        [28, 16,  7],\n",
       "        [15, 18, 21],\n",
       "        [17, 25, 11],\n",
       "        [20, 10, 22]],\n",
       "\n",
       "       [[13, 21,  2],\n",
       "        [ 4,  1,  7],\n",
       "        [26, 28, 16],\n",
       "        [29, 11, 13],\n",
       "        [ 1, 25,  3],\n",
       "        [24, 15,  7]],\n",
       "\n",
       "       [[27, 14, 22],\n",
       "        [ 2, 29, 26],\n",
       "        [ 9, 26, 16],\n",
       "        [14, 20,  3],\n",
       "        [12, 10,  5],\n",
       "        [18, 29, 14]],\n",
       "\n",
       "       [[10, 14, 20],\n",
       "        [ 5, 28, 23],\n",
       "        [10,  1, 13],\n",
       "        [18,  7, 23],\n",
       "        [25,  9, 26],\n",
       "        [20, 26, 26]],\n",
       "\n",
       "       [[ 6, 14,  9],\n",
       "        [ 6, 21,  8],\n",
       "        [19,  8,  1],\n",
       "        [20, 29,  2],\n",
       "        [10, 15, 22],\n",
       "        [ 3, 22, 17]]])"
      ]
     },
     "execution_count": 41,
     "metadata": {},
     "output_type": "execute_result"
    }
   ],
   "source": [
    "np.random.randint(1,30,size=7*6*3).reshape(7,6,3)"
   ]
  },
  {
   "cell_type": "code",
   "execution_count": 40,
   "metadata": {},
   "outputs": [
    {
     "data": {
      "text/plain": [
       "array([[[8.77818684e-01, 7.44868497e-01, 6.76756495e-01],\n",
       "        [9.51606709e-01, 6.81476532e-01, 7.92598873e-01],\n",
       "        [1.61434842e-01, 1.78268155e-01, 3.58898212e-02],\n",
       "        [1.81010954e-01, 9.94623751e-01, 8.06579429e-01],\n",
       "        [2.73892053e-01, 3.80582982e-01, 7.69741785e-01],\n",
       "        [9.05165793e-01, 6.89572666e-01, 1.65963060e-01]],\n",
       "\n",
       "       [[6.64521697e-01, 8.12032928e-01, 5.15201763e-01],\n",
       "        [8.45390794e-01, 4.44669361e-01, 8.34987617e-01],\n",
       "        [2.44936152e-01, 4.82893868e-01, 3.64314723e-01],\n",
       "        [3.89876893e-01, 8.11877389e-02, 2.93843614e-01],\n",
       "        [6.71357629e-01, 4.45147425e-01, 3.49528529e-01],\n",
       "        [1.36937510e-01, 7.29337481e-01, 2.62024973e-01]],\n",
       "\n",
       "       [[5.18278674e-01, 5.28826493e-01, 8.98881232e-01],\n",
       "        [3.14083104e-01, 5.91405623e-01, 3.47401079e-01],\n",
       "        [5.70470031e-01, 5.00038552e-01, 6.26546259e-01],\n",
       "        [8.52916536e-01, 9.86655115e-01, 4.63956856e-01],\n",
       "        [4.90003517e-02, 9.23752116e-01, 1.50546655e-01],\n",
       "        [2.95214405e-01, 6.91555935e-01, 2.99002283e-01]],\n",
       "\n",
       "       [[8.08826228e-04, 5.82440164e-01, 5.17731535e-01],\n",
       "        [7.47718003e-01, 4.41752915e-02, 9.64755871e-01],\n",
       "        [5.87042405e-01, 7.44826628e-01, 9.74366117e-01],\n",
       "        [8.54899306e-01, 5.14906083e-01, 2.89887661e-01],\n",
       "        [9.79753018e-01, 1.30193525e-01, 5.05617299e-01],\n",
       "        [2.13149014e-01, 6.37480685e-01, 1.93667997e-01]],\n",
       "\n",
       "       [[2.99781486e-01, 4.92580783e-01, 4.77264961e-01],\n",
       "        [6.91929694e-01, 1.52944502e-01, 3.89580491e-01],\n",
       "        [2.08809623e-01, 6.19242602e-01, 9.65049899e-01],\n",
       "        [6.30514127e-01, 7.37592126e-01, 5.26251585e-01],\n",
       "        [4.06912552e-01, 9.11252313e-01, 1.66555777e-01],\n",
       "        [8.00156068e-02, 6.34320379e-01, 7.82285272e-01]],\n",
       "\n",
       "       [[7.43174215e-01, 4.43681930e-01, 2.52216612e-01],\n",
       "        [8.20692966e-01, 7.00054111e-01, 7.63295090e-01],\n",
       "        [5.35778432e-01, 5.76231409e-01, 9.88983057e-01],\n",
       "        [7.83135386e-01, 3.44531577e-01, 5.37441943e-02],\n",
       "        [4.92198599e-01, 5.79716810e-01, 3.70796770e-01],\n",
       "        [9.33637113e-01, 4.36649039e-01, 9.02363627e-01]],\n",
       "\n",
       "       [[7.46743426e-01, 9.96269642e-01, 6.68766887e-01],\n",
       "        [3.77656781e-01, 7.58705694e-01, 9.22148234e-01],\n",
       "        [9.39798358e-01, 5.42425465e-01, 4.31946643e-02],\n",
       "        [6.58472121e-02, 8.80091363e-01, 5.71175380e-01],\n",
       "        [7.12507612e-01, 3.16319539e-02, 7.44691084e-01],\n",
       "        [3.27194676e-01, 8.76220134e-01, 4.06916713e-01]]])"
      ]
     },
     "execution_count": 40,
     "metadata": {},
     "output_type": "execute_result"
    }
   ],
   "source": [
    "np.random.random(size=7*6*3).reshape(7,6,3)"
   ]
  },
  {
   "cell_type": "code",
   "execution_count": 31,
   "metadata": {},
   "outputs": [
    {
     "data": {
      "text/plain": [
       "array([[[14, 19, 27],\n",
       "        [27,  4,  5],\n",
       "        [ 3, 26, 18],\n",
       "        [15, 16, 26],\n",
       "        [26, 29,  2],\n",
       "        [19, 21, 28]],\n",
       "\n",
       "       [[14, 24, 24],\n",
       "        [ 4, 27, 28],\n",
       "        [16, 20,  8],\n",
       "        [ 8,  9, 24],\n",
       "        [15, 16, 16],\n",
       "        [29, 14,  6]],\n",
       "\n",
       "       [[29, 12, 25],\n",
       "        [ 7, 12,  6],\n",
       "        [27,  4,  4],\n",
       "        [28, 16, 13],\n",
       "        [24,  3,  1],\n",
       "        [ 2, 19, 21]],\n",
       "\n",
       "       [[28,  2,  6],\n",
       "        [27, 25,  5],\n",
       "        [21,  6,  5],\n",
       "        [16,  9, 21],\n",
       "        [16,  3, 18],\n",
       "        [16, 28,  5]],\n",
       "\n",
       "       [[ 9, 22, 20],\n",
       "        [ 7,  6, 11],\n",
       "        [22, 27, 14],\n",
       "        [ 8,  5,  1],\n",
       "        [16, 11, 10],\n",
       "        [24, 16,  1]],\n",
       "\n",
       "       [[24, 19, 20],\n",
       "        [ 2,  6,  5],\n",
       "        [13, 26,  2],\n",
       "        [ 3,  8,  7],\n",
       "        [18, 21, 12],\n",
       "        [19, 12, 14]],\n",
       "\n",
       "       [[11,  7, 28],\n",
       "        [20,  4,  2],\n",
       "        [26, 10, 10],\n",
       "        [ 3, 10, 22],\n",
       "        [29, 29, 16],\n",
       "        [14,  2, 25]]])"
      ]
     },
     "execution_count": 31,
     "metadata": {},
     "output_type": "execute_result"
    }
   ],
   "source": [
    "matriz"
   ]
  },
  {
   "attachments": {},
   "cell_type": "markdown",
   "metadata": {},
   "source": [
    "### Encontrar los valores minimos y maximos de la anterior matriz"
   ]
  },
  {
   "cell_type": "code",
   "execution_count": 32,
   "metadata": {
    "collapsed": false
   },
   "outputs": [
    {
     "data": {
      "text/plain": [
       "1"
      ]
     },
     "execution_count": 32,
     "metadata": {},
     "output_type": "execute_result"
    }
   ],
   "source": [
    "np.min(matriz)"
   ]
  },
  {
   "cell_type": "code",
   "execution_count": 33,
   "metadata": {},
   "outputs": [
    {
     "data": {
      "text/plain": [
       "1"
      ]
     },
     "execution_count": 33,
     "metadata": {},
     "output_type": "execute_result"
    }
   ],
   "source": [
    "np.amin(matriz)"
   ]
  },
  {
   "cell_type": "code",
   "execution_count": 34,
   "metadata": {},
   "outputs": [
    {
     "data": {
      "text/plain": [
       "29"
      ]
     },
     "execution_count": 34,
     "metadata": {},
     "output_type": "execute_result"
    }
   ],
   "source": [
    "np.amax(matriz)"
   ]
  },
  {
   "cell_type": "code",
   "execution_count": 35,
   "metadata": {},
   "outputs": [
    {
     "data": {
      "text/plain": [
       "29"
      ]
     },
     "execution_count": 35,
     "metadata": {},
     "output_type": "execute_result"
    }
   ],
   "source": [
    "np.max(matriz)"
   ]
  },
  {
   "cell_type": "code",
   "execution_count": 36,
   "metadata": {},
   "outputs": [
    {
     "data": {
      "text/plain": [
       "13"
      ]
     },
     "execution_count": 36,
     "metadata": {},
     "output_type": "execute_result"
    }
   ],
   "source": [
    "np.argmax(matriz)"
   ]
  },
  {
   "cell_type": "code",
   "execution_count": 37,
   "metadata": {},
   "outputs": [
    {
     "data": {
      "text/plain": [
       "50"
      ]
     },
     "execution_count": 37,
     "metadata": {},
     "output_type": "execute_result"
    }
   ],
   "source": [
    "np.argmin(matriz)"
   ]
  },
  {
   "attachments": {},
   "cell_type": "markdown",
   "metadata": {},
   "source": [
    "### Encontrar los valores minimos y maximos de la anterior matriz por filas"
   ]
  },
  {
   "cell_type": "code",
   "execution_count": 44,
   "metadata": {},
   "outputs": [
    {
     "data": {
      "text/plain": [
       "array([[[  0,   1,   2],\n",
       "        [  3,   4,   5],\n",
       "        [  6,   7,   8],\n",
       "        [  9,  10,  11],\n",
       "        [ 12,  13,  14],\n",
       "        [ 15,  16,  17]],\n",
       "\n",
       "       [[ 18,  19,  20],\n",
       "        [ 21,  22,  23],\n",
       "        [ 24,  25,  26],\n",
       "        [ 27,  28,  29],\n",
       "        [ 30,  31,  32],\n",
       "        [ 33,  34,  35]],\n",
       "\n",
       "       [[ 36,  37,  38],\n",
       "        [ 39,  40,  41],\n",
       "        [ 42,  43,  44],\n",
       "        [ 45,  46,  47],\n",
       "        [ 48,  49,  50],\n",
       "        [ 51,  52,  53]],\n",
       "\n",
       "       [[ 54,  55,  56],\n",
       "        [ 57,  58,  59],\n",
       "        [ 60,  61,  62],\n",
       "        [ 63,  64,  65],\n",
       "        [ 66,  67,  68],\n",
       "        [ 69,  70,  71]],\n",
       "\n",
       "       [[ 72,  73,  74],\n",
       "        [ 75,  76,  77],\n",
       "        [ 78,  79,  80],\n",
       "        [ 81,  82,  83],\n",
       "        [ 84,  85,  86],\n",
       "        [ 87,  88,  89]],\n",
       "\n",
       "       [[ 90,  91,  92],\n",
       "        [ 93,  94,  95],\n",
       "        [ 96,  97,  98],\n",
       "        [ 99, 100, 101],\n",
       "        [102, 103, 104],\n",
       "        [105, 106, 107]],\n",
       "\n",
       "       [[108, 109, 110],\n",
       "        [111, 112, 113],\n",
       "        [114, 115, 116],\n",
       "        [117, 118, 119],\n",
       "        [120, 121, 122],\n",
       "        [123, 124, 125]]])"
      ]
     },
     "execution_count": 44,
     "metadata": {},
     "output_type": "execute_result"
    }
   ],
   "source": [
    "np.arange(0,7*6*3).reshape(7,6,3)"
   ]
  },
  {
   "cell_type": "code",
   "execution_count": 47,
   "metadata": {},
   "outputs": [
    {
     "data": {
      "text/plain": [
       "array([[  2,   5,   8,  11,  14,  17],\n",
       "       [ 20,  23,  26,  29,  32,  35],\n",
       "       [ 38,  41,  44,  47,  50,  53],\n",
       "       [ 56,  59,  62,  65,  68,  71],\n",
       "       [ 74,  77,  80,  83,  86,  89],\n",
       "       [ 92,  95,  98, 101, 104, 107],\n",
       "       [110, 113, 116, 119, 122, 125]])"
      ]
     },
     "execution_count": 47,
     "metadata": {},
     "output_type": "execute_result"
    }
   ],
   "source": [
    "np.max(np.arange(0,7*6*3).reshape(7,6,3),axis=2)"
   ]
  },
  {
   "attachments": {},
   "cell_type": "markdown",
   "metadata": {},
   "source": [
    "* z $\\to$  axis = 0\n",
    "* y $\\to$  axis = 1\n",
    "* x $\\to$  axis = 2"
   ]
  },
  {
   "cell_type": "code",
   "execution_count": 48,
   "metadata": {},
   "outputs": [
    {
     "data": {
      "text/plain": [
       "5"
      ]
     },
     "execution_count": 48,
     "metadata": {},
     "output_type": "execute_result"
    }
   ],
   "source": [
    "# que elemento ocupa la posicion (x=2,y=1,z=0)\n",
    "np.arange(0,7*6*3).reshape(7,6,3)[0,1,2]\n"
   ]
  },
  {
   "cell_type": "code",
   "execution_count": 49,
   "metadata": {},
   "outputs": [
    {
     "data": {
      "text/plain": [
       "array([  5,  23,  41,  59,  77,  95, 113])"
      ]
     },
     "execution_count": 49,
     "metadata": {},
     "output_type": "execute_result"
    }
   ],
   "source": [
    "# la z me da igual \n",
    "np.arange(0,7*6*3).reshape(7,6,3)[:,1,2]"
   ]
  },
  {
   "cell_type": "code",
   "execution_count": 50,
   "metadata": {},
   "outputs": [
    {
     "data": {
      "text/plain": [
       "array([3, 4, 5])"
      ]
     },
     "execution_count": 50,
     "metadata": {},
     "output_type": "execute_result"
    }
   ],
   "source": [
    "# la x me da igual \n",
    "np.arange(0,7*6*3).reshape(7,6,3)[0,1,:]"
   ]
  },
  {
   "cell_type": "code",
   "execution_count": 52,
   "metadata": {},
   "outputs": [
    {
     "data": {
      "text/plain": [
       "5"
      ]
     },
     "execution_count": 52,
     "metadata": {},
     "output_type": "execute_result"
    }
   ],
   "source": [
    "matriz[0,1,2]"
   ]
  },
  {
   "cell_type": "code",
   "execution_count": 53,
   "metadata": {},
   "outputs": [
    {
     "data": {
      "text/plain": [
       "array([[27,  5, 18, 26,  2, 28],\n",
       "       [24, 28,  8, 24, 16,  6],\n",
       "       [25,  6,  4, 13,  1, 21],\n",
       "       [ 6,  5,  5, 21, 18,  5],\n",
       "       [20, 11, 14,  1, 10,  1],\n",
       "       [20,  5,  2,  7, 12, 14],\n",
       "       [28,  2, 10, 22, 16, 25]])"
      ]
     },
     "execution_count": 53,
     "metadata": {},
     "output_type": "execute_result"
    }
   ],
   "source": [
    "matriz[:,:,2]"
   ]
  },
  {
   "cell_type": "code",
   "execution_count": 55,
   "metadata": {},
   "outputs": [
    {
     "data": {
      "text/plain": [
       "array([[11,  7, 28],\n",
       "       [20,  4,  2],\n",
       "       [26, 10, 10],\n",
       "       [ 3, 10, 22],\n",
       "       [29, 29, 16],\n",
       "       [14,  2, 25]])"
      ]
     },
     "execution_count": 55,
     "metadata": {},
     "output_type": "execute_result"
    }
   ],
   "source": [
    "matriz[6]"
   ]
  },
  {
   "cell_type": "code",
   "execution_count": 56,
   "metadata": {},
   "outputs": [
    {
     "data": {
      "text/plain": [
       "array([[[14, 19, 27],\n",
       "        [27,  4,  5],\n",
       "        [ 3, 26, 18],\n",
       "        [15, 16, 26],\n",
       "        [26, 29,  2],\n",
       "        [19, 21, 28]],\n",
       "\n",
       "       [[14, 24, 24],\n",
       "        [ 4, 27, 28],\n",
       "        [16, 20,  8],\n",
       "        [ 8,  9, 24],\n",
       "        [15, 16, 16],\n",
       "        [29, 14,  6]],\n",
       "\n",
       "       [[29, 12, 25],\n",
       "        [ 7, 12,  6],\n",
       "        [27,  4,  4],\n",
       "        [28, 16, 13],\n",
       "        [24,  3,  1],\n",
       "        [ 2, 19, 21]],\n",
       "\n",
       "       [[28,  2,  6],\n",
       "        [27, 25,  5],\n",
       "        [21,  6,  5],\n",
       "        [16,  9, 21],\n",
       "        [16,  3, 18],\n",
       "        [16, 28,  5]],\n",
       "\n",
       "       [[ 9, 22, 20],\n",
       "        [ 7,  6, 11],\n",
       "        [22, 27, 14],\n",
       "        [ 8,  5,  1],\n",
       "        [16, 11, 10],\n",
       "        [24, 16,  1]],\n",
       "\n",
       "       [[24, 19, 20],\n",
       "        [ 2,  6,  5],\n",
       "        [13, 26,  2],\n",
       "        [ 3,  8,  7],\n",
       "        [18, 21, 12],\n",
       "        [19, 12, 14]],\n",
       "\n",
       "       [[11,  7, 28],\n",
       "        [20,  4,  2],\n",
       "        [26, 10, 10],\n",
       "        [ 3, 10, 22],\n",
       "        [29, 29, 16],\n",
       "        [14,  2, 25]]])"
      ]
     },
     "execution_count": 56,
     "metadata": {},
     "output_type": "execute_result"
    }
   ],
   "source": [
    "matriz"
   ]
  },
  {
   "attachments": {},
   "cell_type": "markdown",
   "metadata": {},
   "source": [
    "### Encontrar los valores minimos y maximos de la anterior matriz por columnas"
   ]
  },
  {
   "cell_type": "code",
   "execution_count": null,
   "metadata": {},
   "outputs": [],
   "source": []
  },
  {
   "attachments": {},
   "cell_type": "markdown",
   "metadata": {},
   "source": [
    "### Genere una función en la cual el parámentro de entrada sea un vector aleatorio comprendido entre los números 100 y 1000 y devuelva un vector con los números que sean divisibles por 2,3 y 7"
   ]
  },
  {
   "attachments": {},
   "cell_type": "markdown",
   "metadata": {},
   "source": [
    "* Lo primero ver que entra un vector\n",
    "* dentro de la función crear un vector vacio\n",
    "* rellenar ese vector con números que sean divisbles por 2 y por 3 y por 7 por tanto me valdría que fueran divisibles por 42"
   ]
  },
  {
   "cell_type": "code",
   "execution_count": 68,
   "metadata": {},
   "outputs": [],
   "source": [
    "a=np.array([1,1,42])\n",
    "def funcion(vector):\n",
    "    if len(vector)>99 or len(vector)<1001: \n",
    "        b=list()\n",
    "        for i in vector:\n",
    "            if i%42==0:\n",
    "                b.append(i)\n",
    "        return np.array(b)\n",
    "    else:\n",
    "        print(\"Te has equivocado\")\n"
   ]
  },
  {
   "cell_type": "code",
   "execution_count": 65,
   "metadata": {},
   "outputs": [
    {
     "data": {
      "text/plain": [
       "array([42])"
      ]
     },
     "execution_count": 65,
     "metadata": {},
     "output_type": "execute_result"
    }
   ],
   "source": [
    "funcion(a)"
   ]
  },
  {
   "cell_type": "code",
   "execution_count": 67,
   "metadata": {},
   "outputs": [
    {
     "name": "stdout",
     "output_type": "stream",
     "text": [
      "OK\n"
     ]
    }
   ],
   "source": [
    "if 99<len(np.arange(1,200))<1001:\n",
    "    print(\"OK\")\n",
    "else:\n",
    "    print(\"Error\") "
   ]
  },
  {
   "cell_type": "code",
   "execution_count": 69,
   "metadata": {},
   "outputs": [
    {
     "data": {
      "text/plain": [
       "array([ 42,  84, 126, 168])"
      ]
     },
     "execution_count": 69,
     "metadata": {},
     "output_type": "execute_result"
    }
   ],
   "source": [
    "funcion(np.arange(1,200))"
   ]
  },
  {
   "cell_type": "code",
   "execution_count": null,
   "metadata": {},
   "outputs": [],
   "source": []
  }
 ],
 "metadata": {
  "kernelspec": {
   "display_name": "base",
   "language": "python",
   "name": "python3"
  },
  "language_info": {
   "codemirror_mode": {
    "name": "ipython",
    "version": 3
   },
   "file_extension": ".py",
   "mimetype": "text/x-python",
   "name": "python",
   "nbconvert_exporter": "python",
   "pygments_lexer": "ipython3",
   "version": "3.9.12"
  }
 },
 "nbformat": 4,
 "nbformat_minor": 0
}
