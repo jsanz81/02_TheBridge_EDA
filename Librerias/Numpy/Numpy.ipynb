{
 "cells": [
  {
   "cell_type": "code",
   "execution_count": 2,
   "id": "085ca042",
   "metadata": {},
   "outputs": [],
   "source": [
    "### Numpy"
   ]
  },
  {
   "cell_type": "code",
   "execution_count": 1,
   "id": "99adceb1",
   "metadata": {},
   "outputs": [],
   "source": [
    "import numpy as np"
   ]
  },
  {
   "cell_type": "code",
   "execution_count": 4,
   "id": "f07bfec4",
   "metadata": {},
   "outputs": [
    {
     "data": {
      "text/plain": [
       "array([1, 2, 3, 4, 5, 6, 7, 8, 9])"
      ]
     },
     "execution_count": 4,
     "metadata": {},
     "output_type": "execute_result"
    }
   ],
   "source": [
    "np.arange(1,10)"
   ]
  },
  {
   "cell_type": "code",
   "execution_count": 5,
   "id": "7a45a304",
   "metadata": {},
   "outputs": [
    {
     "name": "stdout",
     "output_type": "stream",
     "text": [
      "[ 0  2  4  6  8 10 12 14 16 18 20 22 24 26 28 30 32 34 36 38 40 42 44 46\n",
      " 48 50 52 54 56 58 60 62 64 66 68 70 72 74 76 78 80 82 84 86 88 90 92 94\n",
      " 96 98]\n",
      "[ 1  3  5  7  9 11 13 15 17 19 21 23 25 27 29 31 33 35 37 39 41 43 45 47\n",
      " 49 51 53 55 57 59 61 63 65 67 69 71 73 75 77 79 81 83 85 87 89 91 93 95\n",
      " 97 99]\n"
     ]
    }
   ],
   "source": [
    "#pares\n",
    "print(np.arange(0,100,2))\n",
    "#impares\n",
    "print(np.arange(1,100,2))"
   ]
  },
  {
   "cell_type": "code",
   "execution_count": 6,
   "id": "2bf15437",
   "metadata": {},
   "outputs": [
    {
     "data": {
      "text/plain": [
       "array([1, 3, 5, 7, 9])"
      ]
     },
     "execution_count": 6,
     "metadata": {},
     "output_type": "execute_result"
    }
   ],
   "source": [
    "np.arange(1,10,2)"
   ]
  },
  {
   "cell_type": "code",
   "execution_count": 7,
   "id": "79e0d400",
   "metadata": {},
   "outputs": [
    {
     "data": {
      "text/plain": [
       "array([[ 1,  3,  5],\n",
       "       [ 7,  9, 11]])"
      ]
     },
     "execution_count": 7,
     "metadata": {},
     "output_type": "execute_result"
    }
   ],
   "source": [
    "### Le voy a cambiar la forma\n",
    "np.arange(1,12,2).reshape(2,3)"
   ]
  },
  {
   "cell_type": "code",
   "execution_count": 8,
   "id": "099c3d75",
   "metadata": {},
   "outputs": [],
   "source": [
    "A=np.arange(1,9).reshape(2,4)"
   ]
  },
  {
   "cell_type": "code",
   "execution_count": 9,
   "id": "8e12d28b",
   "metadata": {},
   "outputs": [
    {
     "data": {
      "text/plain": [
       "array([[1, 2, 3, 4],\n",
       "       [5, 6, 7, 8]])"
      ]
     },
     "execution_count": 9,
     "metadata": {},
     "output_type": "execute_result"
    }
   ],
   "source": [
    "A"
   ]
  },
  {
   "cell_type": "code",
   "execution_count": 10,
   "id": "6ab5a35b",
   "metadata": {},
   "outputs": [
    {
     "data": {
      "text/plain": [
       "array([1, 2, 3, 4, 5, 6, 7, 8])"
      ]
     },
     "execution_count": 10,
     "metadata": {},
     "output_type": "execute_result"
    }
   ],
   "source": [
    "A.flatten()"
   ]
  },
  {
   "cell_type": "code",
   "execution_count": 11,
   "id": "65595d83",
   "metadata": {},
   "outputs": [
    {
     "data": {
      "text/plain": [
       "6"
      ]
     },
     "execution_count": 11,
     "metadata": {},
     "output_type": "execute_result"
    }
   ],
   "source": [
    "A.flat[5]"
   ]
  },
  {
   "cell_type": "code",
   "execution_count": 12,
   "id": "03d28ed7",
   "metadata": {},
   "outputs": [
    {
     "data": {
      "text/plain": [
       "array([1, 2, 3, 4, 5, 6, 7, 8])"
      ]
     },
     "execution_count": 12,
     "metadata": {},
     "output_type": "execute_result"
    }
   ],
   "source": [
    "A.ravel()"
   ]
  },
  {
   "cell_type": "code",
   "execution_count": 13,
   "id": "9b689301",
   "metadata": {},
   "outputs": [],
   "source": [
    "l=np.array([1,2,3,4,5])"
   ]
  },
  {
   "cell_type": "code",
   "execution_count": 14,
   "id": "8f3bdafd",
   "metadata": {},
   "outputs": [
    {
     "data": {
      "text/plain": [
       "array([1, 2, 3, 4, 5, 6, 7, 8])"
      ]
     },
     "execution_count": 14,
     "metadata": {},
     "output_type": "execute_result"
    }
   ],
   "source": [
    "np.append(l,[6,7,8])"
   ]
  },
  {
   "cell_type": "code",
   "execution_count": 15,
   "id": "d4eb4749",
   "metadata": {},
   "outputs": [],
   "source": [
    "## [0,1]\n",
    "### vamos a la parte sencilla\n",
    "vacio=list()\n",
    "for i in range(0,101):\n",
    "    vacio.append(i*0.01)"
   ]
  },
  {
   "cell_type": "code",
   "execution_count": 16,
   "id": "73b3b13c",
   "metadata": {},
   "outputs": [
    {
     "data": {
      "text/plain": [
       "[0.0,\n",
       " 0.01,\n",
       " 0.02,\n",
       " 0.03,\n",
       " 0.04,\n",
       " 0.05,\n",
       " 0.06,\n",
       " 0.07,\n",
       " 0.08,\n",
       " 0.09,\n",
       " 0.1,\n",
       " 0.11,\n",
       " 0.12,\n",
       " 0.13,\n",
       " 0.14,\n",
       " 0.15,\n",
       " 0.16,\n",
       " 0.17,\n",
       " 0.18,\n",
       " 0.19,\n",
       " 0.2,\n",
       " 0.21,\n",
       " 0.22,\n",
       " 0.23,\n",
       " 0.24,\n",
       " 0.25,\n",
       " 0.26,\n",
       " 0.27,\n",
       " 0.28,\n",
       " 0.29,\n",
       " 0.3,\n",
       " 0.31,\n",
       " 0.32,\n",
       " 0.33,\n",
       " 0.34,\n",
       " 0.35000000000000003,\n",
       " 0.36,\n",
       " 0.37,\n",
       " 0.38,\n",
       " 0.39,\n",
       " 0.4,\n",
       " 0.41000000000000003,\n",
       " 0.42,\n",
       " 0.43,\n",
       " 0.44,\n",
       " 0.45,\n",
       " 0.46,\n",
       " 0.47000000000000003,\n",
       " 0.48,\n",
       " 0.49,\n",
       " 0.5,\n",
       " 0.51,\n",
       " 0.52,\n",
       " 0.53,\n",
       " 0.54,\n",
       " 0.55,\n",
       " 0.56,\n",
       " 0.5700000000000001,\n",
       " 0.58,\n",
       " 0.59,\n",
       " 0.6,\n",
       " 0.61,\n",
       " 0.62,\n",
       " 0.63,\n",
       " 0.64,\n",
       " 0.65,\n",
       " 0.66,\n",
       " 0.67,\n",
       " 0.68,\n",
       " 0.6900000000000001,\n",
       " 0.7000000000000001,\n",
       " 0.71,\n",
       " 0.72,\n",
       " 0.73,\n",
       " 0.74,\n",
       " 0.75,\n",
       " 0.76,\n",
       " 0.77,\n",
       " 0.78,\n",
       " 0.79,\n",
       " 0.8,\n",
       " 0.81,\n",
       " 0.8200000000000001,\n",
       " 0.8300000000000001,\n",
       " 0.84,\n",
       " 0.85,\n",
       " 0.86,\n",
       " 0.87,\n",
       " 0.88,\n",
       " 0.89,\n",
       " 0.9,\n",
       " 0.91,\n",
       " 0.92,\n",
       " 0.93,\n",
       " 0.9400000000000001,\n",
       " 0.9500000000000001,\n",
       " 0.96,\n",
       " 0.97,\n",
       " 0.98,\n",
       " 0.99,\n",
       " 1.0]"
      ]
     },
     "execution_count": 16,
     "metadata": {},
     "output_type": "execute_result"
    }
   ],
   "source": [
    "vacio"
   ]
  },
  {
   "cell_type": "code",
   "execution_count": 17,
   "id": "40343c84",
   "metadata": {},
   "outputs": [
    {
     "data": {
      "text/plain": [
       "array([0.        , 0.01010101, 0.02020202, 0.03030303, 0.04040404,\n",
       "       0.05050505, 0.06060606, 0.07070707, 0.08080808, 0.09090909,\n",
       "       0.1010101 , 0.11111111, 0.12121212, 0.13131313, 0.14141414,\n",
       "       0.15151515, 0.16161616, 0.17171717, 0.18181818, 0.19191919,\n",
       "       0.2020202 , 0.21212121, 0.22222222, 0.23232323, 0.24242424,\n",
       "       0.25252525, 0.26262626, 0.27272727, 0.28282828, 0.29292929,\n",
       "       0.3030303 , 0.31313131, 0.32323232, 0.33333333, 0.34343434,\n",
       "       0.35353535, 0.36363636, 0.37373737, 0.38383838, 0.39393939,\n",
       "       0.4040404 , 0.41414141, 0.42424242, 0.43434343, 0.44444444,\n",
       "       0.45454545, 0.46464646, 0.47474747, 0.48484848, 0.49494949,\n",
       "       0.50505051, 0.51515152, 0.52525253, 0.53535354, 0.54545455,\n",
       "       0.55555556, 0.56565657, 0.57575758, 0.58585859, 0.5959596 ,\n",
       "       0.60606061, 0.61616162, 0.62626263, 0.63636364, 0.64646465,\n",
       "       0.65656566, 0.66666667, 0.67676768, 0.68686869, 0.6969697 ,\n",
       "       0.70707071, 0.71717172, 0.72727273, 0.73737374, 0.74747475,\n",
       "       0.75757576, 0.76767677, 0.77777778, 0.78787879, 0.7979798 ,\n",
       "       0.80808081, 0.81818182, 0.82828283, 0.83838384, 0.84848485,\n",
       "       0.85858586, 0.86868687, 0.87878788, 0.88888889, 0.8989899 ,\n",
       "       0.90909091, 0.91919192, 0.92929293, 0.93939394, 0.94949495,\n",
       "       0.95959596, 0.96969697, 0.97979798, 0.98989899, 1.        ])"
      ]
     },
     "execution_count": 17,
     "metadata": {},
     "output_type": "execute_result"
    }
   ],
   "source": [
    "np.linspace(0,1,100)"
   ]
  },
  {
   "cell_type": "code",
   "execution_count": 7,
   "id": "29fa89a8",
   "metadata": {},
   "outputs": [
    {
     "data": {
      "text/plain": [
       "array([ 2.        ,  4.33333333,  6.66666667,  9.        , 11.33333333,\n",
       "       13.66666667, 16.        , 18.33333333, 20.66666667, 23.        ])"
      ]
     },
     "execution_count": 7,
     "metadata": {},
     "output_type": "execute_result"
    }
   ],
   "source": [
    "np.linspace(2,23,10)"
   ]
  },
  {
   "cell_type": "code",
   "execution_count": 18,
   "id": "b5381c38",
   "metadata": {},
   "outputs": [
    {
     "data": {
      "text/plain": [
       "100"
      ]
     },
     "execution_count": 18,
     "metadata": {},
     "output_type": "execute_result"
    }
   ],
   "source": [
    "len(np.linspace(0,1,100))"
   ]
  },
  {
   "cell_type": "code",
   "execution_count": 19,
   "id": "d278c06b",
   "metadata": {},
   "outputs": [],
   "source": [
    "vector=np.arange(1,21,dtype='float')"
   ]
  },
  {
   "cell_type": "code",
   "execution_count": 20,
   "id": "a360d9b6",
   "metadata": {},
   "outputs": [
    {
     "data": {
      "text/plain": [
       "array([ 1.,  2.,  3.,  4.,  5.,  6.,  7.,  8.,  9., 10., 11., 12., 13.,\n",
       "       14., 15., 16., 17., 18., 19., 20.])"
      ]
     },
     "execution_count": 20,
     "metadata": {},
     "output_type": "execute_result"
    }
   ],
   "source": [
    "vector"
   ]
  },
  {
   "cell_type": "code",
   "execution_count": 21,
   "id": "b79a26de",
   "metadata": {},
   "outputs": [],
   "source": [
    "vector_nuevo=np.insert(vector,1,[1.5])"
   ]
  },
  {
   "cell_type": "code",
   "execution_count": 22,
   "id": "fee03d82",
   "metadata": {},
   "outputs": [
    {
     "data": {
      "text/plain": [
       "array([ 1. ,  1.5,  2. ,  3. ,  4. ,  5. ,  6. ,  7. ,  8. ,  9. , 10. ,\n",
       "       11. , 12. , 13. , 14. , 15. , 16. , 17. , 18. , 19. , 20. ])"
      ]
     },
     "execution_count": 22,
     "metadata": {},
     "output_type": "execute_result"
    }
   ],
   "source": [
    "vector_nuevo"
   ]
  },
  {
   "cell_type": "code",
   "execution_count": 23,
   "id": "9210fdfe",
   "metadata": {},
   "outputs": [],
   "source": [
    "vector_2=np.arange(20,40,dtype=\"float\")"
   ]
  },
  {
   "cell_type": "code",
   "execution_count": 24,
   "id": "74a18a16",
   "metadata": {},
   "outputs": [],
   "source": [
    "A1=vector.reshape(4,5)"
   ]
  },
  {
   "cell_type": "code",
   "execution_count": 25,
   "id": "b1d96f41",
   "metadata": {},
   "outputs": [],
   "source": [
    "A2=vector_2.reshape(4,5)"
   ]
  },
  {
   "cell_type": "code",
   "execution_count": 26,
   "id": "fd8b22c1",
   "metadata": {},
   "outputs": [
    {
     "data": {
      "text/plain": [
       "array([[ 1.,  2.,  3.,  4.,  5.],\n",
       "       [ 6.,  7.,  8.,  9., 10.],\n",
       "       [11., 12., 13., 14., 15.],\n",
       "       [16., 17., 18., 19., 20.]])"
      ]
     },
     "execution_count": 26,
     "metadata": {},
     "output_type": "execute_result"
    }
   ],
   "source": [
    "A1"
   ]
  },
  {
   "cell_type": "code",
   "execution_count": 27,
   "id": "8a39e58c",
   "metadata": {},
   "outputs": [
    {
     "data": {
      "text/plain": [
       "array([[20., 21., 22., 23., 24.],\n",
       "       [25., 26., 27., 28., 29.],\n",
       "       [30., 31., 32., 33., 34.],\n",
       "       [35., 36., 37., 38., 39.]])"
      ]
     },
     "execution_count": 27,
     "metadata": {},
     "output_type": "execute_result"
    }
   ],
   "source": [
    "A2"
   ]
  },
  {
   "cell_type": "code",
   "execution_count": 28,
   "id": "d3370b4b",
   "metadata": {},
   "outputs": [
    {
     "data": {
      "text/plain": [
       "array([[ 1.,  2.,  3.,  4.,  5.],\n",
       "       [ 6.,  7.,  8.,  9., 10.],\n",
       "       [11., 12., 13., 14., 15.],\n",
       "       [16., 17., 18., 19., 20.],\n",
       "       [20., 21., 22., 23., 24.],\n",
       "       [25., 26., 27., 28., 29.],\n",
       "       [30., 31., 32., 33., 34.],\n",
       "       [35., 36., 37., 38., 39.]])"
      ]
     },
     "execution_count": 28,
     "metadata": {},
     "output_type": "execute_result"
    }
   ],
   "source": [
    "np.concatenate((A1,A2))## Por defecto axis=0"
   ]
  },
  {
   "cell_type": "code",
   "execution_count": 29,
   "id": "5a2fc12a",
   "metadata": {},
   "outputs": [
    {
     "data": {
      "text/plain": [
       "array([[ 1.,  2.,  3.,  4.,  5., 20., 21., 22., 23., 24.],\n",
       "       [ 6.,  7.,  8.,  9., 10., 25., 26., 27., 28., 29.],\n",
       "       [11., 12., 13., 14., 15., 30., 31., 32., 33., 34.],\n",
       "       [16., 17., 18., 19., 20., 35., 36., 37., 38., 39.]])"
      ]
     },
     "execution_count": 29,
     "metadata": {},
     "output_type": "execute_result"
    }
   ],
   "source": [
    "np.concatenate((A1,A2),axis=1)"
   ]
  },
  {
   "cell_type": "code",
   "execution_count": 30,
   "id": "38a563d9",
   "metadata": {},
   "outputs": [],
   "source": [
    "#hstack"
   ]
  },
  {
   "cell_type": "code",
   "execution_count": 31,
   "id": "6f75a742",
   "metadata": {},
   "outputs": [
    {
     "data": {
      "text/plain": [
       "array([[ 1.,  2.,  3.,  4.,  5., 20., 21., 22., 23., 24.],\n",
       "       [ 6.,  7.,  8.,  9., 10., 25., 26., 27., 28., 29.],\n",
       "       [11., 12., 13., 14., 15., 30., 31., 32., 33., 34.],\n",
       "       [16., 17., 18., 19., 20., 35., 36., 37., 38., 39.]])"
      ]
     },
     "execution_count": 31,
     "metadata": {},
     "output_type": "execute_result"
    }
   ],
   "source": [
    "np.hstack((A1,A2))"
   ]
  },
  {
   "cell_type": "code",
   "execution_count": 32,
   "id": "7941d7d9",
   "metadata": {},
   "outputs": [
    {
     "data": {
      "text/plain": [
       "array([[ 1.,  2.,  3.,  4.,  5.],\n",
       "       [ 6.,  7.,  8.,  9., 10.],\n",
       "       [11., 12., 13., 14., 15.],\n",
       "       [16., 17., 18., 19., 20.],\n",
       "       [20., 21., 22., 23., 24.],\n",
       "       [25., 26., 27., 28., 29.],\n",
       "       [30., 31., 32., 33., 34.],\n",
       "       [35., 36., 37., 38., 39.]])"
      ]
     },
     "execution_count": 32,
     "metadata": {},
     "output_type": "execute_result"
    }
   ],
   "source": [
    "np.vstack((A1,A2))"
   ]
  },
  {
   "cell_type": "code",
   "execution_count": 33,
   "id": "1f57f5b7",
   "metadata": {},
   "outputs": [
    {
     "data": {
      "text/plain": [
       "array([20., 21., 22., 23., 24., 25., 26., 27., 28., 29., 30., 31., 32.,\n",
       "       33., 34., 35., 36., 37., 38., 39.])"
      ]
     },
     "execution_count": 33,
     "metadata": {},
     "output_type": "execute_result"
    }
   ],
   "source": [
    "vector_2"
   ]
  },
  {
   "cell_type": "code",
   "execution_count": 34,
   "id": "cfe97b0c",
   "metadata": {},
   "outputs": [
    {
     "data": {
      "text/plain": [
       "[array([20., 21., 22., 23., 24.]),\n",
       " array([25., 26., 27., 28., 29.]),\n",
       " array([30., 31., 32., 33., 34.]),\n",
       " array([35., 36., 37., 38., 39.])]"
      ]
     },
     "execution_count": 34,
     "metadata": {},
     "output_type": "execute_result"
    }
   ],
   "source": [
    "np.split(vector_2,4)"
   ]
  },
  {
   "cell_type": "code",
   "execution_count": 35,
   "id": "736480c9",
   "metadata": {},
   "outputs": [
    {
     "data": {
      "text/plain": [
       "[array([[ 1.],\n",
       "        [ 6.],\n",
       "        [11.],\n",
       "        [16.]]),\n",
       " array([[ 2.],\n",
       "        [ 7.],\n",
       "        [12.],\n",
       "        [17.]]),\n",
       " array([[ 3.],\n",
       "        [ 8.],\n",
       "        [13.],\n",
       "        [18.]]),\n",
       " array([[ 4.],\n",
       "        [ 9.],\n",
       "        [14.],\n",
       "        [19.]]),\n",
       " array([[ 5.],\n",
       "        [10.],\n",
       "        [15.],\n",
       "        [20.]])]"
      ]
     },
     "execution_count": 35,
     "metadata": {},
     "output_type": "execute_result"
    }
   ],
   "source": [
    "np.hsplit(A1,5)"
   ]
  },
  {
   "cell_type": "code",
   "execution_count": 36,
   "id": "4def8875",
   "metadata": {},
   "outputs": [
    {
     "data": {
      "text/plain": [
       "[array([[ 1.,  2.,  3.,  4.,  5.],\n",
       "        [ 6.,  7.,  8.,  9., 10.]]),\n",
       " array([[11., 12., 13., 14., 15.],\n",
       "        [16., 17., 18., 19., 20.]])]"
      ]
     },
     "execution_count": 36,
     "metadata": {},
     "output_type": "execute_result"
    }
   ],
   "source": [
    "np.vsplit(A1,2)"
   ]
  },
  {
   "cell_type": "code",
   "execution_count": 37,
   "id": "6c884572",
   "metadata": {},
   "outputs": [
    {
     "data": {
      "text/plain": [
       "array([[ 1.,  2.,  3.,  4.,  5.],\n",
       "       [ 6.,  7.,  8.,  9., 10.],\n",
       "       [11., 12., 13., 14., 15.],\n",
       "       [16., 17., 18., 19., 20.]])"
      ]
     },
     "execution_count": 37,
     "metadata": {},
     "output_type": "execute_result"
    }
   ],
   "source": [
    "A1"
   ]
  },
  {
   "cell_type": "code",
   "execution_count": 38,
   "id": "6f50cecf",
   "metadata": {},
   "outputs": [
    {
     "data": {
      "text/plain": [
       "1.0"
      ]
     },
     "execution_count": 38,
     "metadata": {},
     "output_type": "execute_result"
    }
   ],
   "source": [
    "np.amin(A1)"
   ]
  },
  {
   "cell_type": "code",
   "execution_count": 39,
   "id": "3aebdf6a",
   "metadata": {},
   "outputs": [
    {
     "data": {
      "text/plain": [
       "20.0"
      ]
     },
     "execution_count": 39,
     "metadata": {},
     "output_type": "execute_result"
    }
   ],
   "source": [
    "np.amax(A1)"
   ]
  },
  {
   "cell_type": "code",
   "execution_count": 40,
   "id": "532a8a6c",
   "metadata": {},
   "outputs": [
    {
     "data": {
      "text/plain": [
       "5.0"
      ]
     },
     "execution_count": 40,
     "metadata": {},
     "output_type": "execute_result"
    }
   ],
   "source": [
    "np.amax(np.amin(A1,axis=0))"
   ]
  },
  {
   "cell_type": "code",
   "execution_count": 41,
   "id": "b418a882",
   "metadata": {},
   "outputs": [
    {
     "data": {
      "text/plain": [
       "array([ 1.,  6., 11., 16.])"
      ]
     },
     "execution_count": 41,
     "metadata": {},
     "output_type": "execute_result"
    }
   ],
   "source": [
    "np.amin(A1,axis=1)"
   ]
  },
  {
   "cell_type": "code",
   "execution_count": 42,
   "id": "78530ea1",
   "metadata": {},
   "outputs": [
    {
     "data": {
      "text/plain": [
       "array([16., 17., 18., 19., 20.])"
      ]
     },
     "execution_count": 42,
     "metadata": {},
     "output_type": "execute_result"
    }
   ],
   "source": [
    "np.amax(A1,axis=0)"
   ]
  },
  {
   "cell_type": "code",
   "execution_count": 43,
   "id": "1e9c0357",
   "metadata": {},
   "outputs": [
    {
     "data": {
      "text/plain": [
       "array([ 5., 10., 15., 20.])"
      ]
     },
     "execution_count": 43,
     "metadata": {},
     "output_type": "execute_result"
    }
   ],
   "source": [
    "np.amax(A1,axis=1)"
   ]
  },
  {
   "cell_type": "code",
   "execution_count": 44,
   "id": "77c07085",
   "metadata": {},
   "outputs": [
    {
     "data": {
      "text/plain": [
       "7"
      ]
     },
     "execution_count": 44,
     "metadata": {},
     "output_type": "execute_result"
    }
   ],
   "source": [
    "np.random.randint(1,10)"
   ]
  },
  {
   "cell_type": "code",
   "execution_count": 45,
   "id": "b9793213",
   "metadata": {},
   "outputs": [],
   "source": [
    "### generar una matriz con números enteros aleatorios entre el 1 y el 9.\n",
    "### el tamaño de la matriz debe ser de 10x8"
   ]
  },
  {
   "cell_type": "code",
   "execution_count": null,
   "id": "26c20cfe",
   "metadata": {},
   "outputs": [],
   "source": []
  },
  {
   "cell_type": "code",
   "execution_count": 46,
   "id": "b12afbd8",
   "metadata": {},
   "outputs": [],
   "source": [
    "a=np.array([1,2,3])"
   ]
  },
  {
   "cell_type": "code",
   "execution_count": 47,
   "id": "e27f1acf",
   "metadata": {},
   "outputs": [
    {
     "data": {
      "text/plain": [
       "2.0"
      ]
     },
     "execution_count": 47,
     "metadata": {},
     "output_type": "execute_result"
    }
   ],
   "source": [
    "np.mean(a)"
   ]
  },
  {
   "cell_type": "code",
   "execution_count": 48,
   "id": "6b04fe57",
   "metadata": {},
   "outputs": [
    {
     "data": {
      "text/plain": [
       "2.0"
      ]
     },
     "execution_count": 48,
     "metadata": {},
     "output_type": "execute_result"
    }
   ],
   "source": [
    "np.average(a)"
   ]
  },
  {
   "cell_type": "code",
   "execution_count": 49,
   "id": "67f094a3",
   "metadata": {},
   "outputs": [],
   "source": [
    "pesos=np.array([1,3,6])"
   ]
  },
  {
   "cell_type": "code",
   "execution_count": 50,
   "id": "8c9874fc",
   "metadata": {},
   "outputs": [
    {
     "data": {
      "text/plain": [
       "2.5"
      ]
     },
     "execution_count": 50,
     "metadata": {},
     "output_type": "execute_result"
    }
   ],
   "source": [
    "np.average(a,weights=pesos)"
   ]
  },
  {
   "cell_type": "code",
   "execution_count": 51,
   "id": "ec9b22f1",
   "metadata": {},
   "outputs": [
    {
     "data": {
      "text/plain": [
       "2.5"
      ]
     },
     "execution_count": 51,
     "metadata": {},
     "output_type": "execute_result"
    }
   ],
   "source": [
    "np.mean(np.array([1,2,2,2,3,3,3,3,3,3]))"
   ]
  },
  {
   "cell_type": "code",
   "execution_count": 52,
   "id": "bcaecbe2",
   "metadata": {},
   "outputs": [
    {
     "data": {
      "text/plain": [
       "3.0"
      ]
     },
     "execution_count": 52,
     "metadata": {},
     "output_type": "execute_result"
    }
   ],
   "source": [
    "np.median([1,3,6])"
   ]
  },
  {
   "cell_type": "code",
   "execution_count": 53,
   "id": "b0e03dc5",
   "metadata": {},
   "outputs": [
    {
     "ename": "AttributeError",
     "evalue": "module 'numpy' has no attribute 'mode'",
     "output_type": "error",
     "traceback": [
      "\u001b[1;31m---------------------------------------------------------------------------\u001b[0m",
      "\u001b[1;31mAttributeError\u001b[0m                            Traceback (most recent call last)",
      "\u001b[1;32mf:\\The Bridge\\Bootcamp_Abril2023\\Algebra_Lineal\\Numpy.ipynb Cell 53\u001b[0m in \u001b[0;36m<cell line: 1>\u001b[1;34m()\u001b[0m\n\u001b[1;32m----> <a href='vscode-notebook-cell:/f%3A/The%20Bridge/Bootcamp_Abril2023/Algebra_Lineal/Numpy.ipynb#Y103sZmlsZQ%3D%3D?line=0'>1</a>\u001b[0m np\u001b[39m.\u001b[39;49mmode(np\u001b[39m.\u001b[39marray([\u001b[39m1\u001b[39m,\u001b[39m2\u001b[39m,\u001b[39m2\u001b[39m,\u001b[39m2\u001b[39m,\u001b[39m3\u001b[39m,\u001b[39m3\u001b[39m,\u001b[39m3\u001b[39m,\u001b[39m3\u001b[39m,\u001b[39m3\u001b[39m,\u001b[39m3\u001b[39m]))\n",
      "File \u001b[1;32mc:\\Users\\Daniel Montes\\anaconda3\\lib\\site-packages\\numpy\\__init__.py:313\u001b[0m, in \u001b[0;36m__getattr__\u001b[1;34m(attr)\u001b[0m\n\u001b[0;32m    310\u001b[0m     \u001b[39mfrom\u001b[39;00m \u001b[39m.\u001b[39;00m\u001b[39mtesting\u001b[39;00m \u001b[39mimport\u001b[39;00m Tester\n\u001b[0;32m    311\u001b[0m     \u001b[39mreturn\u001b[39;00m Tester\n\u001b[1;32m--> 313\u001b[0m \u001b[39mraise\u001b[39;00m \u001b[39mAttributeError\u001b[39;00m(\u001b[39m\"\u001b[39m\u001b[39mmodule \u001b[39m\u001b[39m{!r}\u001b[39;00m\u001b[39m has no attribute \u001b[39m\u001b[39m\"\u001b[39m\n\u001b[0;32m    314\u001b[0m                      \u001b[39m\"\u001b[39m\u001b[39m{!r}\u001b[39;00m\u001b[39m\"\u001b[39m\u001b[39m.\u001b[39mformat(\u001b[39m__name__\u001b[39m, attr))\n",
      "\u001b[1;31mAttributeError\u001b[0m: module 'numpy' has no attribute 'mode'"
     ]
    }
   ],
   "source": [
    "np.mode(np.array([1,2,2,2,3,3,3,3,3,3]))"
   ]
  },
  {
   "cell_type": "code",
   "execution_count": null,
   "id": "57ef8c77",
   "metadata": {},
   "outputs": [
    {
     "data": {
      "text/plain": [
       "0.45"
      ]
     },
     "execution_count": 94,
     "metadata": {},
     "output_type": "execute_result"
    }
   ],
   "source": [
    "## Varianza\n",
    "np.var(np.array([1,2,2,2,3,3,3,3,3,3]))"
   ]
  },
  {
   "cell_type": "code",
   "execution_count": null,
   "id": "65286297",
   "metadata": {},
   "outputs": [
    {
     "data": {
      "text/plain": [
       "0.6708203932499369"
      ]
     },
     "execution_count": 95,
     "metadata": {},
     "output_type": "execute_result"
    }
   ],
   "source": [
    "###\n",
    "np.std(np.array([1,2,2,2,3,3,3,3,3,3]))"
   ]
  },
  {
   "cell_type": "code",
   "execution_count": null,
   "id": "6b85a11e",
   "metadata": {},
   "outputs": [
    {
     "data": {
      "text/plain": [
       "2.0"
      ]
     },
     "execution_count": 96,
     "metadata": {},
     "output_type": "execute_result"
    }
   ],
   "source": [
    "np.percentile(np.array([1,2,2,2,3,3,3,3,3,3]),25)"
   ]
  },
  {
   "cell_type": "code",
   "execution_count": null,
   "id": "fc3b3c86",
   "metadata": {},
   "outputs": [
    {
     "data": {
      "text/plain": [
       "3.0"
      ]
     },
     "execution_count": 97,
     "metadata": {},
     "output_type": "execute_result"
    }
   ],
   "source": [
    "np.percentile(np.array([1,2,2,2,3,3,3,3,3,3]),75)"
   ]
  },
  {
   "cell_type": "code",
   "execution_count": null,
   "id": "b2619e6f",
   "metadata": {},
   "outputs": [
    {
     "data": {
      "text/plain": [
       "1.9"
      ]
     },
     "execution_count": 98,
     "metadata": {},
     "output_type": "execute_result"
    }
   ],
   "source": [
    "np.percentile(np.array([1,2,2,2,3,3,3,3,3,3]),10)"
   ]
  },
  {
   "cell_type": "code",
   "execution_count": null,
   "id": "c8d1e0d0",
   "metadata": {},
   "outputs": [
    {
     "data": {
      "text/plain": [
       "3.0"
      ]
     },
     "execution_count": 99,
     "metadata": {},
     "output_type": "execute_result"
    }
   ],
   "source": [
    "np.percentile(np.array([1,2,2,2,3,3,3,3,3,3]),50)"
   ]
  },
  {
   "cell_type": "code",
   "execution_count": null,
   "id": "26deee5c",
   "metadata": {},
   "outputs": [
    {
     "data": {
      "text/plain": [
       "array([[1, 2],\n",
       "       [2, 2],\n",
       "       [3, 3],\n",
       "       [3, 3],\n",
       "       [3, 3]])"
      ]
     },
     "execution_count": 103,
     "metadata": {},
     "output_type": "execute_result"
    }
   ],
   "source": [
    "np.array([1,2,2,2,3,3,3,3,3,3]).reshape(5,2)"
   ]
  },
  {
   "cell_type": "code",
   "execution_count": null,
   "id": "b89e8655",
   "metadata": {},
   "outputs": [
    {
     "data": {
      "text/plain": [
       "array([1.25, 2.  , 3.  , 3.  , 3.  ])"
      ]
     },
     "execution_count": 102,
     "metadata": {},
     "output_type": "execute_result"
    }
   ],
   "source": [
    "np.percentile(np.array([1,2,2,2,3,3,3,3,3,3]).reshape(5,2),25,axis=1)"
   ]
  },
  {
   "cell_type": "code",
   "execution_count": null,
   "id": "c121d4ff",
   "metadata": {},
   "outputs": [
    {
     "data": {
      "text/plain": [
       "array([2., 2.])"
      ]
     },
     "execution_count": 104,
     "metadata": {},
     "output_type": "execute_result"
    }
   ],
   "source": [
    "np.percentile(np.array([1,2,2,2,3,3,3,3,3,3]).reshape(5,2),25,axis=0)"
   ]
  },
  {
   "cell_type": "code",
   "execution_count": null,
   "id": "9a9aec9b",
   "metadata": {},
   "outputs": [
    {
     "data": {
      "text/plain": [
       "4"
      ]
     },
     "execution_count": 105,
     "metadata": {},
     "output_type": "execute_result"
    }
   ],
   "source": [
    "### potencia\n",
    "#2**2\n",
    "np.power(2,2)"
   ]
  },
  {
   "cell_type": "code",
   "execution_count": null,
   "id": "b40991e9",
   "metadata": {},
   "outputs": [
    {
     "data": {
      "text/plain": [
       "81"
      ]
     },
     "execution_count": 106,
     "metadata": {},
     "output_type": "execute_result"
    }
   ],
   "source": [
    "np.power(3,4)"
   ]
  },
  {
   "cell_type": "code",
   "execution_count": null,
   "id": "eaae3aed",
   "metadata": {},
   "outputs": [
    {
     "data": {
      "text/plain": [
       "12.0"
      ]
     },
     "execution_count": 108,
     "metadata": {},
     "output_type": "execute_result"
    }
   ],
   "source": [
    "np.power(144,1/2)"
   ]
  },
  {
   "cell_type": "code",
   "execution_count": null,
   "id": "e2dd17d6",
   "metadata": {},
   "outputs": [
    {
     "data": {
      "text/plain": [
       "array([[ 1.,  2.,  3.,  4.,  5.],\n",
       "       [ 6.,  7.,  8.,  9., 10.],\n",
       "       [11., 12., 13., 14., 15.],\n",
       "       [16., 17., 18., 19., 20.]])"
      ]
     },
     "execution_count": 109,
     "metadata": {},
     "output_type": "execute_result"
    }
   ],
   "source": [
    "A1"
   ]
  },
  {
   "cell_type": "code",
   "execution_count": null,
   "id": "cb261194",
   "metadata": {},
   "outputs": [
    {
     "data": {
      "text/plain": [
       "array([[  1.,   4.,   9.,  16.,  25.],\n",
       "       [ 36.,  49.,  64.,  81., 100.],\n",
       "       [121., 144., 169., 196., 225.],\n",
       "       [256., 289., 324., 361., 400.]])"
      ]
     },
     "execution_count": 110,
     "metadata": {},
     "output_type": "execute_result"
    }
   ],
   "source": [
    "np.power(A1,2)"
   ]
  },
  {
   "cell_type": "code",
   "execution_count": null,
   "id": "73be8aaf",
   "metadata": {},
   "outputs": [
    {
     "ename": "ValueError",
     "evalue": "matmul: Input operand 1 has a mismatch in its core dimension 0, with gufunc signature (n?,k),(k,m?)->(n?,m?) (size 4 is different from 5)",
     "output_type": "error",
     "traceback": [
      "\u001b[1;31m---------------------------------------------------------------------------\u001b[0m",
      "\u001b[1;31mValueError\u001b[0m                                Traceback (most recent call last)",
      "\u001b[1;32m<ipython-input-111-d2621fd02ec3>\u001b[0m in \u001b[0;36m<module>\u001b[1;34m\u001b[0m\n\u001b[1;32m----> 1\u001b[1;33m \u001b[0mA1\u001b[0m\u001b[1;33m@\u001b[0m\u001b[0mA1\u001b[0m\u001b[1;33m\u001b[0m\u001b[1;33m\u001b[0m\u001b[0m\n\u001b[0m",
      "\u001b[1;31mValueError\u001b[0m: matmul: Input operand 1 has a mismatch in its core dimension 0, with gufunc signature (n?,k),(k,m?)->(n?,m?) (size 4 is different from 5)"
     ]
    }
   ],
   "source": [
    "A1@A1"
   ]
  },
  {
   "cell_type": "code",
   "execution_count": null,
   "id": "cb5bf5d7",
   "metadata": {},
   "outputs": [],
   "source": [
    "A3=np.random.randint(1,100,(5,5))"
   ]
  },
  {
   "cell_type": "code",
   "execution_count": null,
   "id": "a042e684",
   "metadata": {},
   "outputs": [
    {
     "data": {
      "text/plain": [
       "array([[63, 66, 13, 67, 47],\n",
       "       [10, 25, 67, 46, 35],\n",
       "       [45, 18, 98, 30, 94],\n",
       "       [41, 81, 88, 38, 13],\n",
       "       [75, 27, 56, 85, 71]])"
      ]
     },
     "execution_count": 113,
     "metadata": {},
     "output_type": "execute_result"
    }
   ],
   "source": [
    "A3"
   ]
  },
  {
   "cell_type": "code",
   "execution_count": null,
   "id": "1ecd9d9b",
   "metadata": {},
   "outputs": [
    {
     "data": {
      "text/plain": [
       "array([[11486, 12738, 15043, 14188, 10701],\n",
       "       [ 8406,  7162, 14379,  8553, 10726],\n",
       "       [15705, 10152, 19299, 15913, 19021],\n",
       "       [ 9886,  9744, 18656, 11662, 14451],\n",
       "       [16325, 15435, 19728, 17212, 15880]])"
      ]
     },
     "execution_count": 114,
     "metadata": {},
     "output_type": "execute_result"
    }
   ],
   "source": [
    "A3@A3"
   ]
  },
  {
   "cell_type": "code",
   "execution_count": null,
   "id": "0880c10f",
   "metadata": {},
   "outputs": [
    {
     "ename": "NameError",
     "evalue": "name 'mode' is not defined",
     "output_type": "error",
     "traceback": [
      "\u001b[1;31m---------------------------------------------------------------------------\u001b[0m",
      "\u001b[1;31mNameError\u001b[0m                                 Traceback (most recent call last)",
      "\u001b[1;32m<ipython-input-115-2d34f3a07220>\u001b[0m in \u001b[0;36m<module>\u001b[1;34m\u001b[0m\n\u001b[1;32m----> 1\u001b[1;33m \u001b[0mmode\u001b[0m\u001b[1;33m(\u001b[0m\u001b[0mnp\u001b[0m\u001b[1;33m.\u001b[0m\u001b[0marray\u001b[0m\u001b[1;33m(\u001b[0m\u001b[1;33m[\u001b[0m\u001b[1;36m1\u001b[0m\u001b[1;33m,\u001b[0m\u001b[1;36m2\u001b[0m\u001b[1;33m,\u001b[0m\u001b[1;36m2\u001b[0m\u001b[1;33m,\u001b[0m\u001b[1;36m2\u001b[0m\u001b[1;33m,\u001b[0m\u001b[1;36m3\u001b[0m\u001b[1;33m,\u001b[0m\u001b[1;36m3\u001b[0m\u001b[1;33m,\u001b[0m\u001b[1;36m3\u001b[0m\u001b[1;33m,\u001b[0m\u001b[1;36m3\u001b[0m\u001b[1;33m,\u001b[0m\u001b[1;36m3\u001b[0m\u001b[1;33m,\u001b[0m\u001b[1;36m3\u001b[0m\u001b[1;33m]\u001b[0m\u001b[1;33m)\u001b[0m\u001b[1;33m)\u001b[0m\u001b[1;33m\u001b[0m\u001b[1;33m\u001b[0m\u001b[0m\n\u001b[0m",
      "\u001b[1;31mNameError\u001b[0m: name 'mode' is not defined"
     ]
    }
   ],
   "source": [
    "mode(np.array([1,2,2,2,3,3,3,3,3,3]))"
   ]
  },
  {
   "cell_type": "code",
   "execution_count": null,
   "id": "1292aec5",
   "metadata": {},
   "outputs": [
    {
     "data": {
      "text/plain": [
       "array([1, 2, 2, 2, 3, 3, 3])"
      ]
     },
     "execution_count": 116,
     "metadata": {},
     "output_type": "execute_result"
    }
   ],
   "source": [
    "np.array([1,2,2,2,3,3,3])"
   ]
  },
  {
   "cell_type": "code",
   "execution_count": null,
   "id": "eb2a36e4",
   "metadata": {},
   "outputs": [
    {
     "data": {
      "text/plain": [
       "array([[63, 66, 13, 67, 47],\n",
       "       [10, 25, 67, 46, 35],\n",
       "       [45, 18, 98, 30, 94],\n",
       "       [41, 81, 88, 38, 13],\n",
       "       [75, 27, 56, 85, 71]])"
      ]
     },
     "execution_count": 117,
     "metadata": {},
     "output_type": "execute_result"
    }
   ],
   "source": [
    "A3"
   ]
  },
  {
   "cell_type": "code",
   "execution_count": null,
   "id": "3e950b72",
   "metadata": {},
   "outputs": [
    {
     "data": {
      "text/plain": [
       "array([[13, 47, 63, 66, 67],\n",
       "       [10, 25, 35, 46, 67],\n",
       "       [18, 30, 45, 94, 98],\n",
       "       [13, 38, 41, 81, 88],\n",
       "       [27, 56, 71, 75, 85]])"
      ]
     },
     "execution_count": 118,
     "metadata": {},
     "output_type": "execute_result"
    }
   ],
   "source": [
    "np.sort(A3)"
   ]
  },
  {
   "cell_type": "code",
   "execution_count": null,
   "id": "b2ccc164",
   "metadata": {},
   "outputs": [
    {
     "data": {
      "text/plain": [
       "array([10, 13, 13, 18, 25, 27, 30, 35, 38, 41, 45, 46, 47, 56, 63, 66, 67,\n",
       "       67, 71, 75, 81, 85, 88, 94, 98])"
      ]
     },
     "execution_count": 119,
     "metadata": {},
     "output_type": "execute_result"
    }
   ],
   "source": [
    "np.sort(A3,axis=None)"
   ]
  },
  {
   "cell_type": "code",
   "execution_count": null,
   "id": "c644f071",
   "metadata": {},
   "outputs": [
    {
     "data": {
      "text/plain": [
       "array([[10, 13, 13, 18, 25],\n",
       "       [27, 30, 35, 38, 41],\n",
       "       [45, 46, 47, 56, 63],\n",
       "       [66, 67, 67, 71, 75],\n",
       "       [81, 85, 88, 94, 98]])"
      ]
     },
     "execution_count": 120,
     "metadata": {},
     "output_type": "execute_result"
    }
   ],
   "source": [
    "np.sort(A3,axis=None).reshape(5,5)"
   ]
  },
  {
   "cell_type": "code",
   "execution_count": null,
   "id": "95616df1",
   "metadata": {},
   "outputs": [
    {
     "data": {
      "text/plain": [
       "(5, 5)"
      ]
     },
     "execution_count": 122,
     "metadata": {},
     "output_type": "execute_result"
    }
   ],
   "source": [
    "A3.shape"
   ]
  },
  {
   "cell_type": "code",
   "execution_count": null,
   "id": "7b144b98",
   "metadata": {},
   "outputs": [
    {
     "data": {
      "text/plain": [
       "array([[10, 13, 13, 18, 25],\n",
       "       [27, 30, 35, 38, 41],\n",
       "       [45, 46, 47, 56, 63],\n",
       "       [66, 67, 67, 71, 75],\n",
       "       [81, 85, 88, 94, 98]])"
      ]
     },
     "execution_count": 123,
     "metadata": {},
     "output_type": "execute_result"
    }
   ],
   "source": [
    "np.sort(A3,axis=None).reshape(A3.shape[0],A3.shape[1])"
   ]
  },
  {
   "cell_type": "code",
   "execution_count": null,
   "id": "6c580e31",
   "metadata": {},
   "outputs": [
    {
     "data": {
      "text/plain": [
       "array([[10, 18, 13, 30, 13],\n",
       "       [41, 25, 56, 38, 35],\n",
       "       [45, 27, 67, 46, 47],\n",
       "       [63, 66, 88, 67, 71],\n",
       "       [75, 81, 98, 85, 94]])"
      ]
     },
     "execution_count": 124,
     "metadata": {},
     "output_type": "execute_result"
    }
   ],
   "source": [
    "np.sort(A3,axis=0)"
   ]
  },
  {
   "cell_type": "code",
   "execution_count": null,
   "id": "e35e684c",
   "metadata": {},
   "outputs": [],
   "source": [
    "def velocidad(Espacio,Tiempo):\n",
    "    return Espacio/Tiempo"
   ]
  },
  {
   "cell_type": "code",
   "execution_count": null,
   "id": "73c58c0f",
   "metadata": {},
   "outputs": [],
   "source": [
    "tiempo=np.arange(1,120)"
   ]
  },
  {
   "cell_type": "code",
   "execution_count": null,
   "id": "b6fe2a89",
   "metadata": {},
   "outputs": [],
   "source": [
    "espacio=100"
   ]
  },
  {
   "cell_type": "code",
   "execution_count": null,
   "id": "47f5e075",
   "metadata": {},
   "outputs": [
    {
     "data": {
      "text/plain": [
       "array([100.        ,  50.        ,  33.33333333,  25.        ,\n",
       "        20.        ,  16.66666667,  14.28571429,  12.5       ,\n",
       "        11.11111111,  10.        ,   9.09090909,   8.33333333,\n",
       "         7.69230769,   7.14285714,   6.66666667,   6.25      ,\n",
       "         5.88235294,   5.55555556,   5.26315789,   5.        ,\n",
       "         4.76190476,   4.54545455,   4.34782609,   4.16666667,\n",
       "         4.        ,   3.84615385,   3.7037037 ,   3.57142857,\n",
       "         3.44827586,   3.33333333,   3.22580645,   3.125     ,\n",
       "         3.03030303,   2.94117647,   2.85714286,   2.77777778,\n",
       "         2.7027027 ,   2.63157895,   2.56410256,   2.5       ,\n",
       "         2.43902439,   2.38095238,   2.3255814 ,   2.27272727,\n",
       "         2.22222222,   2.17391304,   2.12765957,   2.08333333,\n",
       "         2.04081633,   2.        ,   1.96078431,   1.92307692,\n",
       "         1.88679245,   1.85185185,   1.81818182,   1.78571429,\n",
       "         1.75438596,   1.72413793,   1.69491525,   1.66666667,\n",
       "         1.63934426,   1.61290323,   1.58730159,   1.5625    ,\n",
       "         1.53846154,   1.51515152,   1.49253731,   1.47058824,\n",
       "         1.44927536,   1.42857143,   1.4084507 ,   1.38888889,\n",
       "         1.36986301,   1.35135135,   1.33333333,   1.31578947,\n",
       "         1.2987013 ,   1.28205128,   1.26582278,   1.25      ,\n",
       "         1.2345679 ,   1.2195122 ,   1.20481928,   1.19047619,\n",
       "         1.17647059,   1.1627907 ,   1.14942529,   1.13636364,\n",
       "         1.12359551,   1.11111111,   1.0989011 ,   1.08695652,\n",
       "         1.07526882,   1.06382979,   1.05263158,   1.04166667,\n",
       "         1.03092784,   1.02040816,   1.01010101,   1.        ,\n",
       "         0.99009901,   0.98039216,   0.97087379,   0.96153846,\n",
       "         0.95238095,   0.94339623,   0.93457944,   0.92592593,\n",
       "         0.91743119,   0.90909091,   0.9009009 ,   0.89285714,\n",
       "         0.88495575,   0.87719298,   0.86956522,   0.86206897,\n",
       "         0.85470085,   0.84745763,   0.84033613])"
      ]
     },
     "execution_count": 128,
     "metadata": {},
     "output_type": "execute_result"
    }
   ],
   "source": [
    "velocidad(espacio,tiempo)"
   ]
  },
  {
   "cell_type": "code",
   "execution_count": null,
   "id": "f8f3fd8e",
   "metadata": {},
   "outputs": [],
   "source": [
    "## Sucecion"
   ]
  },
  {
   "attachments": {},
   "cell_type": "markdown",
   "id": "86f58a07",
   "metadata": {},
   "source": [
    "$\\sum_{i=1}^n \\cfrac{1}{i}$"
   ]
  },
  {
   "cell_type": "code",
   "execution_count": null,
   "id": "5b3b2297",
   "metadata": {},
   "outputs": [],
   "source": [
    "n=10\n",
    "t=np.arange(1,n+1)"
   ]
  },
  {
   "cell_type": "code",
   "execution_count": null,
   "id": "9250f2ce",
   "metadata": {},
   "outputs": [
    {
     "data": {
      "text/plain": [
       "array([ 1,  2,  3,  4,  5,  6,  7,  8,  9, 10])"
      ]
     },
     "execution_count": 155,
     "metadata": {},
     "output_type": "execute_result"
    }
   ],
   "source": [
    "t"
   ]
  },
  {
   "cell_type": "code",
   "execution_count": null,
   "id": "aba17353",
   "metadata": {},
   "outputs": [],
   "source": [
    "S=0\n",
    "for k in t:\n",
    "    S+=1.0/k"
   ]
  },
  {
   "cell_type": "code",
   "execution_count": null,
   "id": "9496fbe0",
   "metadata": {},
   "outputs": [
    {
     "data": {
      "text/plain": [
       "2.9289682539682538"
      ]
     },
     "execution_count": 134,
     "metadata": {},
     "output_type": "execute_result"
    }
   ],
   "source": [
    "S"
   ]
  },
  {
   "cell_type": "code",
   "execution_count": null,
   "id": "d665ce9a",
   "metadata": {},
   "outputs": [],
   "source": [
    "### Matplotlib\n",
    "import matplotlib.pyplot as plt"
   ]
  },
  {
   "cell_type": "code",
   "execution_count": null,
   "id": "4f191a14",
   "metadata": {},
   "outputs": [],
   "source": [
    "S=0\n",
    "y=np.zeros(len(t)+1)\n",
    "for k in t:\n",
    "    S+=1.0/k\n",
    "    y[k]=S"
   ]
  },
  {
   "cell_type": "code",
   "execution_count": null,
   "id": "47b7425a",
   "metadata": {},
   "outputs": [
    {
     "data": {
      "text/plain": [
       "array([ 1,  2,  3,  4,  5,  6,  7,  8,  9, 10])"
      ]
     },
     "execution_count": 158,
     "metadata": {},
     "output_type": "execute_result"
    }
   ],
   "source": [
    "t"
   ]
  },
  {
   "cell_type": "code",
   "execution_count": null,
   "id": "175b5bf2",
   "metadata": {},
   "outputs": [
    {
     "data": {
      "text/plain": [
       "array([0.        , 1.        , 1.5       , 1.83333333, 2.08333333,\n",
       "       2.28333333, 2.45      , 2.59285714, 2.71785714, 2.82896825,\n",
       "       2.92896825])"
      ]
     },
     "execution_count": 153,
     "metadata": {},
     "output_type": "execute_result"
    }
   ],
   "source": [
    "y"
   ]
  },
  {
   "cell_type": "code",
   "execution_count": null,
   "id": "e63db0df",
   "metadata": {},
   "outputs": [
    {
     "data": {
      "text/plain": [
       "[<matplotlib.lines.Line2D at 0x250d18be430>]"
      ]
     },
     "execution_count": 154,
     "metadata": {},
     "output_type": "execute_result"
    },
    {
     "data": {
      "image/png": "[encoded data removed]",
      "text/plain": [
       "<Figure size 432x288 with 1 Axes>"
      ]
     },
     "metadata": {
      "needs_background": "light"
     },
     "output_type": "display_data"
    }
   ],
   "source": [
    "plt.plot(t,y[:len(y)-1])"
   ]
  },
  {
   "cell_type": "code",
   "execution_count": null,
   "id": "1fa5625f",
   "metadata": {},
   "outputs": [
    {
     "data": {
      "image/png": "[encoded data removed]",
      "text/plain": [
       "<Figure size 432x288 with 1 Axes>"
      ]
     },
     "metadata": {
      "needs_background": "light"
     },
     "output_type": "display_data"
    }
   ],
   "source": [
    "plt.plot(t,y[:len(y)-1])\n",
    "plt.xlabel('t')\n",
    "plt.ylabel('y');"
   ]
  },
  {
   "cell_type": "code",
   "execution_count": null,
   "id": "a8ac8be6",
   "metadata": {},
   "outputs": [
    {
     "data": {
      "image/png": "[encoded data removed]",
      "text/plain": [
       "<Figure size 432x288 with 1 Axes>"
      ]
     },
     "metadata": {
      "needs_background": "light"
     },
     "output_type": "display_data"
    }
   ],
   "source": [
    "plt.plot(t,y[:len(y)-1])\n",
    "plt.xlabel('t')\n",
    "plt.ylabel('y')\n",
    "plt.grid();"
   ]
  },
  {
   "cell_type": "code",
   "execution_count": null,
   "id": "c2b882b4",
   "metadata": {},
   "outputs": [],
   "source": [
    "x=np.arange(1,10)"
   ]
  },
  {
   "cell_type": "code",
   "execution_count": null,
   "id": "0eb014a0",
   "metadata": {},
   "outputs": [],
   "source": [
    "y=np.arange(21,30)"
   ]
  },
  {
   "cell_type": "code",
   "execution_count": null,
   "id": "b3519e07",
   "metadata": {},
   "outputs": [
    {
     "data": {
      "image/png": "[encoded data removed]",
      "text/plain": [
       "<Figure size 432x288 with 1 Axes>"
      ]
     },
     "metadata": {
      "needs_background": "light"
     },
     "output_type": "display_data"
    }
   ],
   "source": [
    "plt.plot(x,y,'r+')\n",
    "plt.hlines(np.mean(y),xmin=1,xmax=10)\n",
    "plt.vlines(np.mean(x),ymin=21,ymax=30)\n",
    "plt.grid()\n",
    "plt.xlabel(\"Jornadas\")\n",
    "plt.ylabel(\"Puntos\");"
   ]
  },
  {
   "cell_type": "code",
   "execution_count": null,
   "id": "0020af81",
   "metadata": {},
   "outputs": [],
   "source": []
  },
  {
   "cell_type": "code",
   "execution_count": 1,
   "id": "1dd9210f",
   "metadata": {},
   "outputs": [],
   "source": [
    "import numpy as np"
   ]
  },
  {
   "cell_type": "code",
   "execution_count": 2,
   "id": "70bb5afe",
   "metadata": {},
   "outputs": [],
   "source": [
    "import datetime as dt"
   ]
  },
  {
   "cell_type": "code",
   "execution_count": 5,
   "id": "4af2c697",
   "metadata": {},
   "outputs": [],
   "source": [
    "comienzo=dt.datetime(2020,1,1)"
   ]
  },
  {
   "cell_type": "code",
   "execution_count": 6,
   "id": "8684598b",
   "metadata": {},
   "outputs": [],
   "source": [
    "final=dt.datetime(2023,5,13)\n"
   ]
  },
  {
   "cell_type": "code",
   "execution_count": 15,
   "id": "73cd2b07",
   "metadata": {},
   "outputs": [
    {
     "data": {
      "text/plain": [
       "datetime.date(2023, 5, 13)"
      ]
     },
     "execution_count": 15,
     "metadata": {},
     "output_type": "execute_result"
    }
   ],
   "source": [
    "dt.date.today()"
   ]
  },
  {
   "cell_type": "code",
   "execution_count": 17,
   "id": "d91f08a5",
   "metadata": {},
   "outputs": [
    {
     "data": {
      "text/plain": [
       "datetime.datetime(2023, 5, 13, 13, 24, 56, 708832)"
      ]
     },
     "execution_count": 17,
     "metadata": {},
     "output_type": "execute_result"
    }
   ],
   "source": [
    "dt.datetime.now()"
   ]
  },
  {
   "cell_type": "code",
   "execution_count": 18,
   "id": "efba6659",
   "metadata": {},
   "outputs": [
    {
     "data": {
      "text/plain": [
       "2023"
      ]
     },
     "execution_count": 18,
     "metadata": {},
     "output_type": "execute_result"
    }
   ],
   "source": [
    "dt.datetime.now().year"
   ]
  },
  {
   "cell_type": "code",
   "execution_count": 20,
   "id": "903f2277",
   "metadata": {},
   "outputs": [
    {
     "data": {
      "text/plain": [
       "5"
      ]
     },
     "execution_count": 20,
     "metadata": {},
     "output_type": "execute_result"
    }
   ],
   "source": [
    "dt.datetime.now().month"
   ]
  },
  {
   "cell_type": "code",
   "execution_count": 21,
   "id": "55027aa8",
   "metadata": {},
   "outputs": [
    {
     "data": {
      "text/plain": [
       "5"
      ]
     },
     "execution_count": 21,
     "metadata": {},
     "output_type": "execute_result"
    }
   ],
   "source": [
    "## día de la semana\n",
    "dt.datetime.now().weekday()"
   ]
  },
  {
   "cell_type": "code",
   "execution_count": 22,
   "id": "11202684",
   "metadata": {},
   "outputs": [
    {
     "data": {
      "text/plain": [
       "'20230513'"
      ]
     },
     "execution_count": 22,
     "metadata": {},
     "output_type": "execute_result"
    }
   ],
   "source": [
    "dt.datetime.now().strftime('%Y%m%d')"
   ]
  },
  {
   "cell_type": "code",
   "execution_count": 23,
   "id": "fccc485e",
   "metadata": {},
   "outputs": [
    {
     "data": {
      "text/plain": [
       "'2023-05-13'"
      ]
     },
     "execution_count": 23,
     "metadata": {},
     "output_type": "execute_result"
    }
   ],
   "source": [
    "dt.datetime.now().strftime('%Y-%m-%d')"
   ]
  },
  {
   "cell_type": "code",
   "execution_count": 24,
   "id": "632d4d21",
   "metadata": {},
   "outputs": [
    {
     "data": {
      "text/plain": [
       "'2023/05/13'"
      ]
     },
     "execution_count": 24,
     "metadata": {},
     "output_type": "execute_result"
    }
   ],
   "source": [
    "dt.datetime.now().strftime('%Y/%m/%d')"
   ]
  },
  {
   "cell_type": "code",
   "execution_count": 25,
   "id": "0c641a4b",
   "metadata": {},
   "outputs": [
    {
     "data": {
      "text/plain": [
       "'13/05/2023'"
      ]
     },
     "execution_count": 25,
     "metadata": {},
     "output_type": "execute_result"
    }
   ],
   "source": [
    "dt.datetime.now().strftime('%d/%m/%Y')"
   ]
  },
  {
   "attachments": {},
   "cell_type": "markdown",
   "id": "78fe0a6f",
   "metadata": {},
   "source": [
    "Y $\\to$ Año completo\n",
    "m $\\to$ Mes\n",
    "d $\\to$ Día\n",
    "H $\\to$ Hora\n",
    "M $\\to$ minutos"
   ]
  },
  {
   "cell_type": "code",
   "execution_count": 26,
   "id": "85a01a65",
   "metadata": {},
   "outputs": [
    {
     "data": {
      "text/plain": [
       "'Saturday'"
      ]
     },
     "execution_count": 26,
     "metadata": {},
     "output_type": "execute_result"
    }
   ],
   "source": [
    "dt.datetime.now().strftime('%A')"
   ]
  },
  {
   "cell_type": "code",
   "execution_count": 27,
   "id": "501f0c69",
   "metadata": {},
   "outputs": [
    {
     "data": {
      "text/plain": [
       "'May'"
      ]
     },
     "execution_count": 27,
     "metadata": {},
     "output_type": "execute_result"
    }
   ],
   "source": [
    "dt.datetime.now().strftime('%B')"
   ]
  },
  {
   "cell_type": "code",
   "execution_count": null,
   "id": "86f9c067",
   "metadata": {},
   "outputs": [],
   "source": []
  },
  {
   "cell_type": "code",
   "execution_count": 10,
   "id": "fb685825",
   "metadata": {},
   "outputs": [],
   "source": [
    "Mfrom matplotlib.dates import drange\n",
    "a=drange(comienzo,final,dt.timedelta(days=1))"
   ]
  },
  {
   "cell_type": "code",
   "execution_count": 30,
   "id": "b6f1cf46",
   "metadata": {},
   "outputs": [],
   "source": [
    "Hoy=dt.datetime.today()\n",
    "manyana=Hoy+dt.timedelta(days=1)"
   ]
  },
  {
   "cell_type": "code",
   "execution_count": 31,
   "id": "56887e92",
   "metadata": {},
   "outputs": [
    {
     "data": {
      "text/plain": [
       "datetime.datetime(2023, 5, 14, 13, 33, 9, 731858)"
      ]
     },
     "execution_count": 31,
     "metadata": {},
     "output_type": "execute_result"
    }
   ],
   "source": [
    "manyana"
   ]
  },
  {
   "cell_type": "code",
   "execution_count": 32,
   "id": "138740ff",
   "metadata": {},
   "outputs": [
    {
     "data": {
      "text/plain": [
       "datetime.datetime(2023, 5, 20, 13, 33, 9, 731858)"
      ]
     },
     "execution_count": 32,
     "metadata": {},
     "output_type": "execute_result"
    }
   ],
   "source": [
    "Hoy+dt.timedelta(days=7)"
   ]
  },
  {
   "cell_type": "code",
   "execution_count": 34,
   "id": "3b720193",
   "metadata": {},
   "outputs": [
    {
     "data": {
      "text/plain": [
       "datetime.datetime(2023, 5, 12, 13, 33, 9, 731858)"
      ]
     },
     "execution_count": 34,
     "metadata": {},
     "output_type": "execute_result"
    }
   ],
   "source": [
    "Hoy+dt.timedelta(days=-1)"
   ]
  },
  {
   "cell_type": "code",
   "execution_count": null,
   "id": "7d4a4a33",
   "metadata": {},
   "outputs": [],
   "source": []
  }
 ],
 "metadata": {
  "kernelspec": {
   "display_name": "Python 3",
   "language": "python",
   "name": "python3"
  },
  "language_info": {
   "codemirror_mode": {
    "name": "ipython",
    "version": 3
   },
   "file_extension": ".py",
   "mimetype": "text/x-python",
   "name": "python",
   "nbconvert_exporter": "python",
   "pygments_lexer": "ipython3",
   "version": "3.9.5"
  }
 },
 "nbformat": 4,
 "nbformat_minor": 5
}
