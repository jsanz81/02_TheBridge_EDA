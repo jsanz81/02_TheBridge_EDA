{
 "cells": [
  {
   "attachments": {},
   "cell_type": "markdown",
   "metadata": {},
   "source": [
    "# **PRUEBA TÉCNICA CARREFIVE**"
   ]
  },
  {
   "attachments": {},
   "cell_type": "markdown",
   "metadata": {},
   "source": [
    "La conocida cadena de supermercados francesa Carrefive decidió hace unos años establecer un sistema de puntos que se obtienen al comprar sus productos, y sirven para abaratar futuras compras. Al comenzar este 2023, habilitaron la opción de comprar estos puntos directamente con dinero en efectivo. \n",
    "\n",
    "De todas estas transacciones, cuentan con muchos datos, pero no saben muy bien qué hacer con ellos. ¿Les ayudamos?"
   ]
  },
  {
   "attachments": {},
   "cell_type": "markdown",
   "metadata": {},
   "source": [
    "### **TABLAS INCLUIDAS**\n",
    "\n",
    "1. **Cliente**: con información general sobre cada uno - ID, país de procedencia, fecha de nacimiento, fecha de adhesión al programa de puntos, nivel de cliente y si habla español o no.\n",
    "2. **Marketing**: relaciona cada cliente con su interés o no en recibir información sobre ofertas al correo electrónico.\n",
    "3. **Obtención de puntos**: especifica cuántos puntos ha obtenido el cliente en una compra, cuándo y con qué producto.\n",
    "4. **Uso de puntos**: especifica en qué productos ha utilizado el cliente los puntos, cuántos y cuándo efectuó la compra.\n",
    "5. **Pescados**: los dueños de Carrefive también recopilaron qué pescados se vieron involucrados en cada transacción de este producto, tanto de obtención como de uso.\n",
    "6. **Compra de puntos**: Especifica el cliente que los compró, la fecha de la compra y la cantidad de puntos adquiridos."
   ]
  },
  {
   "attachments": {},
   "cell_type": "markdown",
   "metadata": {},
   "source": [
    "### **EJERCICIOS**"
   ]
  },
  {
   "attachments": {},
   "cell_type": "markdown",
   "metadata": {},
   "source": [
    "**0.** Vamos a ver, por grupos, la estructura de los csv's en los que se encuentran los datos, y después, pensad cómo haríais un mapa relación entre las tablas, qué claves situarías como primarias y cuáles foráneas.\n",
    "\n",
    "**0.1.** Vamos a crear las tablas y la base de datos en SQL, con la estructura que habíamos pensado."
   ]
  },
  {
   "attachments": {},
   "cell_type": "markdown",
   "metadata": {},
   "source": [
    "**1.** Selecciona los clientes de la India y Brasil\n",
    "\n",
    "**2.** Selecciona los clientes italianos que no se encuentren en las categorías 4 y 5\n",
    "\n",
    "**3.** Selecciona los clientes europeos que hablen castellano\n",
    "\n",
    "**4.** Averigua la nacionalidad que más clientes tenga a los que se les puede enviar e-mails"
   ]
  },
  {
   "attachments": {},
   "cell_type": "markdown",
   "metadata": {},
   "source": [
    "**5.** Numero total de transacciones que consiguen puntos\n",
    "\n",
    "**6.** Número total de puntos conseguidos \n",
    "\n",
    "**7.** Número total de clientes distintos que han utilizado puntos\n",
    "\n",
    "**8.** Número total de puntos utilizados\n",
    "\n",
    "**9.** Proporción de transacciones en las que se obtienen puntos al comprar pescado con respecto al total de transacciones en las que se obtienen puntos\n",
    "\n",
    "**10.** Proporción de transacciones en las que se obtienen puntos al comprar pescado con respecto al total de transacciones\n",
    "\n",
    "**11** Clientes que han pagado puntos en los últimos 2 meses\n",
    "\n",
    "**12.** Clientes que han comprado puntos antes pero no en los últimos dos meses\n",
    "\n",
    "**13.** Clientes del sistema que nunca han comprado puntos"
   ]
  },
  {
   "cell_type": "code",
   "execution_count": null,
   "metadata": {},
   "outputs": [],
   "source": []
  },
  {
   "attachments": {},
   "cell_type": "markdown",
   "metadata": {},
   "source": [
    "5. "
   ]
  },
  {
   "cell_type": "code",
   "execution_count": 4,
   "metadata": {},
   "outputs": [],
   "source": [
    "import sqlite3\n",
    "import pandas as pd"
   ]
  }
 ],
 "metadata": {
  "kernelspec": {
   "display_name": "Python 3",
   "language": "python",
   "name": "python3"
  },
  "language_info": {
   "codemirror_mode": {
    "name": "ipython",
    "version": 3
   },
   "file_extension": ".py",
   "mimetype": "text/x-python",
   "name": "python",
   "nbconvert_exporter": "python",
   "pygments_lexer": "ipython3",
   "version": "3.7.4"
  },
  "orig_nbformat": 4
 },
 "nbformat": 4,
 "nbformat_minor": 2
}
