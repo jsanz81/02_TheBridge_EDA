{
 "cells": [
  {
   "cell_type": "code",
   "execution_count": 2,
   "metadata": {},
   "outputs": [],
   "source": [
    "import pandas as pd\n",
    "import numpy as np\n",
    "import sqlite3"
   ]
  },
  {
   "cell_type": "code",
   "execution_count": 3,
   "metadata": {},
   "outputs": [
    {
     "data": {
      "text/html": [
       "<div>\n",
       "<style scoped>\n",
       "    .dataframe tbody tr th:only-of-type {\n",
       "        vertical-align: middle;\n",
       "    }\n",
       "\n",
       "    .dataframe tbody tr th {\n",
       "        vertical-align: top;\n",
       "    }\n",
       "\n",
       "    .dataframe thead th {\n",
       "        text-align: right;\n",
       "    }\n",
       "</style>\n",
       "<table border=\"1\" class=\"dataframe\">\n",
       "  <thead>\n",
       "    <tr style=\"text-align: right;\">\n",
       "      <th></th>\n",
       "      <th>Unnamed: 0</th>\n",
       "      <th>customer_id</th>\n",
       "      <th>birthday</th>\n",
       "      <th>country</th>\n",
       "      <th>spanish_speaker</th>\n",
       "      <th>join_date</th>\n",
       "      <th>tier</th>\n",
       "    </tr>\n",
       "  </thead>\n",
       "  <tbody>\n",
       "    <tr>\n",
       "      <th>0</th>\n",
       "      <td>0</td>\n",
       "      <td>4</td>\n",
       "      <td>09/25/1989</td>\n",
       "      <td>IN</td>\n",
       "      <td>False</td>\n",
       "      <td>08/18/2020</td>\n",
       "      <td>1. STANDARD</td>\n",
       "    </tr>\n",
       "    <tr>\n",
       "      <th>1</th>\n",
       "      <td>1</td>\n",
       "      <td>33</td>\n",
       "      <td>02/12/1943</td>\n",
       "      <td>AU</td>\n",
       "      <td>True</td>\n",
       "      <td>09/18/2020</td>\n",
       "      <td>5. EXCELSIOR</td>\n",
       "    </tr>\n",
       "    <tr>\n",
       "      <th>2</th>\n",
       "      <td>2</td>\n",
       "      <td>34</td>\n",
       "      <td>01/14/1949</td>\n",
       "      <td>IN</td>\n",
       "      <td>True</td>\n",
       "      <td>01/10/2022</td>\n",
       "      <td>3. GOLD</td>\n",
       "    </tr>\n",
       "    <tr>\n",
       "      <th>3</th>\n",
       "      <td>3</td>\n",
       "      <td>82</td>\n",
       "      <td>05/14/1999</td>\n",
       "      <td>BR</td>\n",
       "      <td>False</td>\n",
       "      <td>06/10/2020</td>\n",
       "      <td>2. BUSINESS</td>\n",
       "    </tr>\n",
       "    <tr>\n",
       "      <th>4</th>\n",
       "      <td>4</td>\n",
       "      <td>96</td>\n",
       "      <td>12/04/1938</td>\n",
       "      <td>IN</td>\n",
       "      <td>False</td>\n",
       "      <td>05/23/2023</td>\n",
       "      <td>3. GOLD</td>\n",
       "    </tr>\n",
       "  </tbody>\n",
       "</table>\n",
       "</div>"
      ],
      "text/plain": [
       "   Unnamed: 0  customer_id    birthday country  spanish_speaker   join_date   \n",
       "0           0            4  09/25/1989      IN            False  08/18/2020  \\\n",
       "1           1           33  02/12/1943      AU             True  09/18/2020   \n",
       "2           2           34  01/14/1949      IN             True  01/10/2022   \n",
       "3           3           82  05/14/1999      BR            False  06/10/2020   \n",
       "4           4           96  12/04/1938      IN            False  05/23/2023   \n",
       "\n",
       "           tier  \n",
       "0   1. STANDARD  \n",
       "1  5. EXCELSIOR  \n",
       "2       3. GOLD  \n",
       "3   2. BUSINESS  \n",
       "4       3. GOLD  "
      ]
     },
     "execution_count": 3,
     "metadata": {},
     "output_type": "execute_result"
    }
   ],
   "source": [
    "data_cliente = pd.read_csv (r'./Cliente.csv')   \n",
    "df_cliente = pd.DataFrame(data_cliente)\n",
    "df_cliente.head()"
   ]
  },
  {
   "cell_type": "code",
   "execution_count": 4,
   "metadata": {},
   "outputs": [
    {
     "data": {
      "text/html": [
       "<div>\n",
       "<style scoped>\n",
       "    .dataframe tbody tr th:only-of-type {\n",
       "        vertical-align: middle;\n",
       "    }\n",
       "\n",
       "    .dataframe tbody tr th {\n",
       "        vertical-align: top;\n",
       "    }\n",
       "\n",
       "    .dataframe thead th {\n",
       "        text-align: right;\n",
       "    }\n",
       "</style>\n",
       "<table border=\"1\" class=\"dataframe\">\n",
       "  <thead>\n",
       "    <tr style=\"text-align: right;\">\n",
       "      <th></th>\n",
       "      <th>compra_id</th>\n",
       "      <th>customer_id</th>\n",
       "      <th>fecha_compra</th>\n",
       "      <th>puntos_comprados</th>\n",
       "    </tr>\n",
       "  </thead>\n",
       "  <tbody>\n",
       "    <tr>\n",
       "      <th>0</th>\n",
       "      <td>100896</td>\n",
       "      <td>4</td>\n",
       "      <td>05/15/2023</td>\n",
       "      <td>50</td>\n",
       "    </tr>\n",
       "    <tr>\n",
       "      <th>1</th>\n",
       "      <td>100275</td>\n",
       "      <td>33</td>\n",
       "      <td>01/21/2023</td>\n",
       "      <td>5</td>\n",
       "    </tr>\n",
       "    <tr>\n",
       "      <th>2</th>\n",
       "      <td>100919</td>\n",
       "      <td>34</td>\n",
       "      <td>01/20/2023</td>\n",
       "      <td>50</td>\n",
       "    </tr>\n",
       "    <tr>\n",
       "      <th>3</th>\n",
       "      <td>100983</td>\n",
       "      <td>82</td>\n",
       "      <td>04/11/2023</td>\n",
       "      <td>20</td>\n",
       "    </tr>\n",
       "    <tr>\n",
       "      <th>4</th>\n",
       "      <td>100537</td>\n",
       "      <td>96</td>\n",
       "      <td>05/01/2023</td>\n",
       "      <td>15</td>\n",
       "    </tr>\n",
       "  </tbody>\n",
       "</table>\n",
       "</div>"
      ],
      "text/plain": [
       "   compra_id  customer_id fecha_compra  puntos_comprados\n",
       "0     100896            4   05/15/2023                50\n",
       "1     100275           33   01/21/2023                 5\n",
       "2     100919           34   01/20/2023                50\n",
       "3     100983           82   04/11/2023                20\n",
       "4     100537           96   05/01/2023                15"
      ]
     },
     "execution_count": 4,
     "metadata": {},
     "output_type": "execute_result"
    }
   ],
   "source": [
    "data_compra_puntos = pd.read_csv (r'./Compra_puntos.csv')   \n",
    "df_compra_puntos= pd.DataFrame(data_compra_puntos)\n",
    "df_compra_puntos.head()"
   ]
  },
  {
   "cell_type": "code",
   "execution_count": 6,
   "metadata": {},
   "outputs": [
    {
     "data": {
      "text/html": [
       "<div>\n",
       "<style scoped>\n",
       "    .dataframe tbody tr th:only-of-type {\n",
       "        vertical-align: middle;\n",
       "    }\n",
       "\n",
       "    .dataframe tbody tr th {\n",
       "        vertical-align: top;\n",
       "    }\n",
       "\n",
       "    .dataframe thead th {\n",
       "        text-align: right;\n",
       "    }\n",
       "</style>\n",
       "<table border=\"1\" class=\"dataframe\">\n",
       "  <thead>\n",
       "    <tr style=\"text-align: right;\">\n",
       "      <th></th>\n",
       "      <th>Unnamed: 0</th>\n",
       "      <th>customer_id</th>\n",
       "      <th>permiso_email</th>\n",
       "    </tr>\n",
       "  </thead>\n",
       "  <tbody>\n",
       "    <tr>\n",
       "      <th>0</th>\n",
       "      <td>0</td>\n",
       "      <td>4</td>\n",
       "      <td>N</td>\n",
       "    </tr>\n",
       "    <tr>\n",
       "      <th>1</th>\n",
       "      <td>1</td>\n",
       "      <td>33</td>\n",
       "      <td>Y</td>\n",
       "    </tr>\n",
       "    <tr>\n",
       "      <th>2</th>\n",
       "      <td>2</td>\n",
       "      <td>34</td>\n",
       "      <td>N</td>\n",
       "    </tr>\n",
       "    <tr>\n",
       "      <th>3</th>\n",
       "      <td>3</td>\n",
       "      <td>82</td>\n",
       "      <td>N</td>\n",
       "    </tr>\n",
       "    <tr>\n",
       "      <th>4</th>\n",
       "      <td>4</td>\n",
       "      <td>96</td>\n",
       "      <td>N</td>\n",
       "    </tr>\n",
       "  </tbody>\n",
       "</table>\n",
       "</div>"
      ],
      "text/plain": [
       "   Unnamed: 0  customer_id permiso_email\n",
       "0           0            4             N\n",
       "1           1           33             Y\n",
       "2           2           34             N\n",
       "3           3           82             N\n",
       "4           4           96             N"
      ]
     },
     "execution_count": 6,
     "metadata": {},
     "output_type": "execute_result"
    }
   ],
   "source": [
    "data_marketing = pd.read_csv (r'./Marketing.csv')   \n",
    "df_marketing= pd.DataFrame(data_marketing)\n",
    "df_marketing.head()"
   ]
  },
  {
   "cell_type": "code",
   "execution_count": 5,
   "metadata": {},
   "outputs": [
    {
     "data": {
      "text/html": [
       "<div>\n",
       "<style scoped>\n",
       "    .dataframe tbody tr th:only-of-type {\n",
       "        vertical-align: middle;\n",
       "    }\n",
       "\n",
       "    .dataframe tbody tr th {\n",
       "        vertical-align: top;\n",
       "    }\n",
       "\n",
       "    .dataframe thead th {\n",
       "        text-align: right;\n",
       "    }\n",
       "</style>\n",
       "<table border=\"1\" class=\"dataframe\">\n",
       "  <thead>\n",
       "    <tr style=\"text-align: right;\">\n",
       "      <th></th>\n",
       "      <th>transaccion_id</th>\n",
       "      <th>customer_id</th>\n",
       "      <th>tipo_transaccion</th>\n",
       "      <th>fecha_transaccion</th>\n",
       "      <th>puntos_conseguidos</th>\n",
       "      <th>obtencion_puntos</th>\n",
       "    </tr>\n",
       "  </thead>\n",
       "  <tbody>\n",
       "    <tr>\n",
       "      <th>0</th>\n",
       "      <td>12418</td>\n",
       "      <td>129</td>\n",
       "      <td>Obtención de puntos</td>\n",
       "      <td>09/02/2021</td>\n",
       "      <td>2</td>\n",
       "      <td>Pescado</td>\n",
       "    </tr>\n",
       "    <tr>\n",
       "      <th>1</th>\n",
       "      <td>12697</td>\n",
       "      <td>215</td>\n",
       "      <td>Obtención de puntos</td>\n",
       "      <td>08/20/2021</td>\n",
       "      <td>4</td>\n",
       "      <td>Verduras</td>\n",
       "    </tr>\n",
       "    <tr>\n",
       "      <th>2</th>\n",
       "      <td>13103</td>\n",
       "      <td>133</td>\n",
       "      <td>Obtención de puntos</td>\n",
       "      <td>01/09/2022</td>\n",
       "      <td>1</td>\n",
       "      <td>Lacteos</td>\n",
       "    </tr>\n",
       "    <tr>\n",
       "      <th>3</th>\n",
       "      <td>13564</td>\n",
       "      <td>231</td>\n",
       "      <td>Obtención de puntos</td>\n",
       "      <td>12/18/2021</td>\n",
       "      <td>15</td>\n",
       "      <td>Embutido</td>\n",
       "    </tr>\n",
       "    <tr>\n",
       "      <th>4</th>\n",
       "      <td>13766</td>\n",
       "      <td>587</td>\n",
       "      <td>Obtención de puntos</td>\n",
       "      <td>04/05/2021</td>\n",
       "      <td>11</td>\n",
       "      <td>Embutido</td>\n",
       "    </tr>\n",
       "  </tbody>\n",
       "</table>\n",
       "</div>"
      ],
      "text/plain": [
       "   transaccion_id  customer_id     tipo_transaccion fecha_transaccion   \n",
       "0           12418          129  Obtención de puntos        09/02/2021  \\\n",
       "1           12697          215  Obtención de puntos        08/20/2021   \n",
       "2           13103          133  Obtención de puntos        01/09/2022   \n",
       "3           13564          231  Obtención de puntos        12/18/2021   \n",
       "4           13766          587  Obtención de puntos        04/05/2021   \n",
       "\n",
       "   puntos_conseguidos obtencion_puntos  \n",
       "0                   2          Pescado  \n",
       "1                   4         Verduras  \n",
       "2                   1          Lacteos  \n",
       "3                  15         Embutido  \n",
       "4                  11         Embutido  "
      ]
     },
     "execution_count": 5,
     "metadata": {},
     "output_type": "execute_result"
    }
   ],
   "source": [
    "data_obtencion_puntos = pd.read_csv (r'./Obtencion_puntos.csv')   \n",
    "df_obtencion_puntos= pd.DataFrame(data_obtencion_puntos)\n",
    "df_obtencion_puntos.head()"
   ]
  },
  {
   "cell_type": "code",
   "execution_count": 7,
   "metadata": {},
   "outputs": [
    {
     "data": {
      "text/html": [
       "<div>\n",
       "<style scoped>\n",
       "    .dataframe tbody tr th:only-of-type {\n",
       "        vertical-align: middle;\n",
       "    }\n",
       "\n",
       "    .dataframe tbody tr th {\n",
       "        vertical-align: top;\n",
       "    }\n",
       "\n",
       "    .dataframe thead th {\n",
       "        text-align: right;\n",
       "    }\n",
       "</style>\n",
       "<table border=\"1\" class=\"dataframe\">\n",
       "  <thead>\n",
       "    <tr style=\"text-align: right;\">\n",
       "      <th></th>\n",
       "      <th>pescado_id</th>\n",
       "      <th>transaccion_id</th>\n",
       "      <th>tipo_pescado</th>\n",
       "    </tr>\n",
       "  </thead>\n",
       "  <tbody>\n",
       "    <tr>\n",
       "      <th>0</th>\n",
       "      <td>21211</td>\n",
       "      <td>11685</td>\n",
       "      <td>dorada</td>\n",
       "    </tr>\n",
       "    <tr>\n",
       "      <th>1</th>\n",
       "      <td>20497</td>\n",
       "      <td>10840</td>\n",
       "      <td>Lubina</td>\n",
       "    </tr>\n",
       "    <tr>\n",
       "      <th>2</th>\n",
       "      <td>22236</td>\n",
       "      <td>10519</td>\n",
       "      <td>Lubina</td>\n",
       "    </tr>\n",
       "    <tr>\n",
       "      <th>3</th>\n",
       "      <td>21946</td>\n",
       "      <td>10683</td>\n",
       "      <td>Lubina</td>\n",
       "    </tr>\n",
       "    <tr>\n",
       "      <th>4</th>\n",
       "      <td>21653</td>\n",
       "      <td>11562</td>\n",
       "      <td>dorada</td>\n",
       "    </tr>\n",
       "  </tbody>\n",
       "</table>\n",
       "</div>"
      ],
      "text/plain": [
       "   pescado_id  transaccion_id tipo_pescado\n",
       "0       21211           11685       dorada\n",
       "1       20497           10840       Lubina\n",
       "2       22236           10519       Lubina\n",
       "3       21946           10683       Lubina\n",
       "4       21653           11562       dorada"
      ]
     },
     "execution_count": 7,
     "metadata": {},
     "output_type": "execute_result"
    }
   ],
   "source": [
    "data_pescados = pd.read_csv (r'./Pescados.csv')   \n",
    "df_pescados= pd.DataFrame(data_pescados)\n",
    "df_pescados.head()"
   ]
  },
  {
   "cell_type": "code",
   "execution_count": 8,
   "metadata": {},
   "outputs": [
    {
     "data": {
      "text/html": [
       "<div>\n",
       "<style scoped>\n",
       "    .dataframe tbody tr th:only-of-type {\n",
       "        vertical-align: middle;\n",
       "    }\n",
       "\n",
       "    .dataframe tbody tr th {\n",
       "        vertical-align: top;\n",
       "    }\n",
       "\n",
       "    .dataframe thead th {\n",
       "        text-align: right;\n",
       "    }\n",
       "</style>\n",
       "<table border=\"1\" class=\"dataframe\">\n",
       "  <thead>\n",
       "    <tr style=\"text-align: right;\">\n",
       "      <th></th>\n",
       "      <th>transaccion_id</th>\n",
       "      <th>customer_id</th>\n",
       "      <th>Tipo_transaccion</th>\n",
       "      <th>Fecha_transaccion</th>\n",
       "      <th>Puntos_utilizados</th>\n",
       "      <th>Uso_puntos</th>\n",
       "    </tr>\n",
       "  </thead>\n",
       "  <tbody>\n",
       "    <tr>\n",
       "      <th>0</th>\n",
       "      <td>10262</td>\n",
       "      <td>177</td>\n",
       "      <td>Uso de puntos</td>\n",
       "      <td>06/20/2021</td>\n",
       "      <td>20</td>\n",
       "      <td>Verduras</td>\n",
       "    </tr>\n",
       "    <tr>\n",
       "      <th>1</th>\n",
       "      <td>11974</td>\n",
       "      <td>545</td>\n",
       "      <td>Uso de puntos</td>\n",
       "      <td>06/03/2022</td>\n",
       "      <td>35</td>\n",
       "      <td>Lacteos</td>\n",
       "    </tr>\n",
       "    <tr>\n",
       "      <th>2</th>\n",
       "      <td>11288</td>\n",
       "      <td>409</td>\n",
       "      <td>Uso de puntos</td>\n",
       "      <td>09/27/2021</td>\n",
       "      <td>23</td>\n",
       "      <td>Frutas</td>\n",
       "    </tr>\n",
       "    <tr>\n",
       "      <th>3</th>\n",
       "      <td>11642</td>\n",
       "      <td>231</td>\n",
       "      <td>Uso de puntos</td>\n",
       "      <td>05/21/2023</td>\n",
       "      <td>40</td>\n",
       "      <td>Embutido</td>\n",
       "    </tr>\n",
       "    <tr>\n",
       "      <th>4</th>\n",
       "      <td>11789</td>\n",
       "      <td>596</td>\n",
       "      <td>Uso de puntos</td>\n",
       "      <td>11/20/2022</td>\n",
       "      <td>42</td>\n",
       "      <td>Verduras</td>\n",
       "    </tr>\n",
       "  </tbody>\n",
       "</table>\n",
       "</div>"
      ],
      "text/plain": [
       "   transaccion_id  customer_id Tipo_transaccion Fecha_transaccion   \n",
       "0           10262          177    Uso de puntos        06/20/2021  \\\n",
       "1           11974          545    Uso de puntos        06/03/2022   \n",
       "2           11288          409    Uso de puntos        09/27/2021   \n",
       "3           11642          231    Uso de puntos        05/21/2023   \n",
       "4           11789          596    Uso de puntos        11/20/2022   \n",
       "\n",
       "   Puntos_utilizados Uso_puntos  \n",
       "0                 20   Verduras  \n",
       "1                 35    Lacteos  \n",
       "2                 23     Frutas  \n",
       "3                 40   Embutido  \n",
       "4                 42   Verduras  "
      ]
     },
     "execution_count": 8,
     "metadata": {},
     "output_type": "execute_result"
    }
   ],
   "source": [
    "data_uso_puntos = pd.read_csv (r'./Uso_de_puntos.csv')   \n",
    "df_uso_puntos= pd.DataFrame(data_uso_puntos)\n",
    "df_uso_puntos.head()"
   ]
  },
  {
   "cell_type": "code",
   "execution_count": 9,
   "metadata": {},
   "outputs": [],
   "source": [
    "# Creamos la conexión para DB local\n",
    "\n",
    "conn = sqlite3.connect(\"carrefive.db\")\n",
    "\n",
    "# Creamos el comando o cursor\n",
    "cursor = conn.cursor()\n"
   ]
  },
  {
   "cell_type": "code",
   "execution_count": 10,
   "metadata": {},
   "outputs": [],
   "source": [
    "import os"
   ]
  },
  {
   "cell_type": "code",
   "execution_count": 30,
   "metadata": {},
   "outputs": [
    {
     "name": "stdout",
     "output_type": "stream",
     "text": [
      "['Cliente.csv', 'Compra_puntos.csv', 'Marketing.csv', 'Obtencion_puntos.csv', 'Pescados.csv', 'Uso_de_puntos.csv']\n"
     ]
    }
   ],
   "source": [
    "listado_directorio=os.listdir() #listado de archivos en \n",
    "listado_directorio\n",
    "\n",
    "lista_csv=list(x for x in listado_directorio if x.endswith(\"csv\"))\n",
    "print(lista_csv)"
   ]
  },
  {
   "attachments": {},
   "cell_type": "markdown",
   "metadata": {},
   "source": [
    "df_cliente  \n",
    "df_compra_puntos  \n",
    "df_marketing  \n",
    "df_obtencion_puntos  \n",
    "df_pescados  \n",
    "df_uso_puntos  "
   ]
  },
  {
   "cell_type": "code",
   "execution_count": 11,
   "metadata": {},
   "outputs": [
    {
     "data": {
      "text/html": [
       "<div>\n",
       "<style scoped>\n",
       "    .dataframe tbody tr th:only-of-type {\n",
       "        vertical-align: middle;\n",
       "    }\n",
       "\n",
       "    .dataframe tbody tr th {\n",
       "        vertical-align: top;\n",
       "    }\n",
       "\n",
       "    .dataframe thead th {\n",
       "        text-align: right;\n",
       "    }\n",
       "</style>\n",
       "<table border=\"1\" class=\"dataframe\">\n",
       "  <thead>\n",
       "    <tr style=\"text-align: right;\">\n",
       "      <th></th>\n",
       "      <th>Unnamed: 0</th>\n",
       "      <th>customer_id</th>\n",
       "      <th>birthday</th>\n",
       "      <th>country</th>\n",
       "      <th>spanish_speaker</th>\n",
       "      <th>join_date</th>\n",
       "      <th>tier</th>\n",
       "    </tr>\n",
       "  </thead>\n",
       "  <tbody>\n",
       "    <tr>\n",
       "      <th>0</th>\n",
       "      <td>0</td>\n",
       "      <td>4</td>\n",
       "      <td>09/25/1989</td>\n",
       "      <td>IN</td>\n",
       "      <td>False</td>\n",
       "      <td>08/18/2020</td>\n",
       "      <td>1. STANDARD</td>\n",
       "    </tr>\n",
       "  </tbody>\n",
       "</table>\n",
       "</div>"
      ],
      "text/plain": [
       "   Unnamed: 0  customer_id    birthday country  spanish_speaker   join_date   \n",
       "0           0            4  09/25/1989      IN            False  08/18/2020  \\\n",
       "\n",
       "          tier  \n",
       "0  1. STANDARD  "
      ]
     },
     "execution_count": 11,
     "metadata": {},
     "output_type": "execute_result"
    }
   ],
   "source": [
    "df_cliente.columns\n",
    "df_cliente.head(1)"
   ]
  },
  {
   "cell_type": "code",
   "execution_count": 56,
   "metadata": {},
   "outputs": [
    {
     "ename": "KeyError",
     "evalue": "\"['Unnamed: 0'] not found in axis\"",
     "output_type": "error",
     "traceback": [
      "\u001b[1;31m---------------------------------------------------------------------------\u001b[0m",
      "\u001b[1;31mKeyError\u001b[0m                                  Traceback (most recent call last)",
      "Cell \u001b[1;32mIn[56], line 1\u001b[0m\n\u001b[1;32m----> 1\u001b[0m df_cliente\u001b[39m.\u001b[39;49mdrop(\u001b[39m'\u001b[39;49m\u001b[39mUnnamed: 0\u001b[39;49m\u001b[39m'\u001b[39;49m, inplace\u001b[39m=\u001b[39;49m\u001b[39mTrue\u001b[39;49;00m, axis\u001b[39m=\u001b[39;49m\u001b[39m1\u001b[39;49m)\n\u001b[0;32m      2\u001b[0m df_cliente\n",
      "File \u001b[1;32mc:\\Users\\j\\miniconda3\\envs\\ramp_up_py395\\lib\\site-packages\\pandas\\core\\frame.py:5268\u001b[0m, in \u001b[0;36mDataFrame.drop\u001b[1;34m(self, labels, axis, index, columns, level, inplace, errors)\u001b[0m\n\u001b[0;32m   5120\u001b[0m \u001b[39mdef\u001b[39;00m \u001b[39mdrop\u001b[39m(\n\u001b[0;32m   5121\u001b[0m     \u001b[39mself\u001b[39m,\n\u001b[0;32m   5122\u001b[0m     labels: IndexLabel \u001b[39m=\u001b[39m \u001b[39mNone\u001b[39;00m,\n\u001b[1;32m   (...)\u001b[0m\n\u001b[0;32m   5129\u001b[0m     errors: IgnoreRaise \u001b[39m=\u001b[39m \u001b[39m\"\u001b[39m\u001b[39mraise\u001b[39m\u001b[39m\"\u001b[39m,\n\u001b[0;32m   5130\u001b[0m ) \u001b[39m-\u001b[39m\u001b[39m>\u001b[39m DataFrame \u001b[39m|\u001b[39m \u001b[39mNone\u001b[39;00m:\n\u001b[0;32m   5131\u001b[0m \u001b[39m    \u001b[39m\u001b[39m\"\"\"\u001b[39;00m\n\u001b[0;32m   5132\u001b[0m \u001b[39m    Drop specified labels from rows or columns.\u001b[39;00m\n\u001b[0;32m   5133\u001b[0m \n\u001b[1;32m   (...)\u001b[0m\n\u001b[0;32m   5266\u001b[0m \u001b[39m            weight  1.0     0.8\u001b[39;00m\n\u001b[0;32m   5267\u001b[0m \u001b[39m    \"\"\"\u001b[39;00m\n\u001b[1;32m-> 5268\u001b[0m     \u001b[39mreturn\u001b[39;00m \u001b[39msuper\u001b[39;49m()\u001b[39m.\u001b[39;49mdrop(\n\u001b[0;32m   5269\u001b[0m         labels\u001b[39m=\u001b[39;49mlabels,\n\u001b[0;32m   5270\u001b[0m         axis\u001b[39m=\u001b[39;49maxis,\n\u001b[0;32m   5271\u001b[0m         index\u001b[39m=\u001b[39;49mindex,\n\u001b[0;32m   5272\u001b[0m         columns\u001b[39m=\u001b[39;49mcolumns,\n\u001b[0;32m   5273\u001b[0m         level\u001b[39m=\u001b[39;49mlevel,\n\u001b[0;32m   5274\u001b[0m         inplace\u001b[39m=\u001b[39;49minplace,\n\u001b[0;32m   5275\u001b[0m         errors\u001b[39m=\u001b[39;49merrors,\n\u001b[0;32m   5276\u001b[0m     )\n",
      "File \u001b[1;32mc:\\Users\\j\\miniconda3\\envs\\ramp_up_py395\\lib\\site-packages\\pandas\\core\\generic.py:4549\u001b[0m, in \u001b[0;36mNDFrame.drop\u001b[1;34m(self, labels, axis, index, columns, level, inplace, errors)\u001b[0m\n\u001b[0;32m   4547\u001b[0m \u001b[39mfor\u001b[39;00m axis, labels \u001b[39min\u001b[39;00m axes\u001b[39m.\u001b[39mitems():\n\u001b[0;32m   4548\u001b[0m     \u001b[39mif\u001b[39;00m labels \u001b[39mis\u001b[39;00m \u001b[39mnot\u001b[39;00m \u001b[39mNone\u001b[39;00m:\n\u001b[1;32m-> 4549\u001b[0m         obj \u001b[39m=\u001b[39m obj\u001b[39m.\u001b[39;49m_drop_axis(labels, axis, level\u001b[39m=\u001b[39;49mlevel, errors\u001b[39m=\u001b[39;49merrors)\n\u001b[0;32m   4551\u001b[0m \u001b[39mif\u001b[39;00m inplace:\n\u001b[0;32m   4552\u001b[0m     \u001b[39mself\u001b[39m\u001b[39m.\u001b[39m_update_inplace(obj)\n",
      "File \u001b[1;32mc:\\Users\\j\\miniconda3\\envs\\ramp_up_py395\\lib\\site-packages\\pandas\\core\\generic.py:4591\u001b[0m, in \u001b[0;36mNDFrame._drop_axis\u001b[1;34m(self, labels, axis, level, errors, only_slice)\u001b[0m\n\u001b[0;32m   4589\u001b[0m         new_axis \u001b[39m=\u001b[39m axis\u001b[39m.\u001b[39mdrop(labels, level\u001b[39m=\u001b[39mlevel, errors\u001b[39m=\u001b[39merrors)\n\u001b[0;32m   4590\u001b[0m     \u001b[39melse\u001b[39;00m:\n\u001b[1;32m-> 4591\u001b[0m         new_axis \u001b[39m=\u001b[39m axis\u001b[39m.\u001b[39;49mdrop(labels, errors\u001b[39m=\u001b[39;49merrors)\n\u001b[0;32m   4592\u001b[0m     indexer \u001b[39m=\u001b[39m axis\u001b[39m.\u001b[39mget_indexer(new_axis)\n\u001b[0;32m   4594\u001b[0m \u001b[39m# Case for non-unique axis\u001b[39;00m\n\u001b[0;32m   4595\u001b[0m \u001b[39melse\u001b[39;00m:\n",
      "File \u001b[1;32mc:\\Users\\j\\miniconda3\\envs\\ramp_up_py395\\lib\\site-packages\\pandas\\core\\indexes\\base.py:6696\u001b[0m, in \u001b[0;36mIndex.drop\u001b[1;34m(self, labels, errors)\u001b[0m\n\u001b[0;32m   6694\u001b[0m \u001b[39mif\u001b[39;00m mask\u001b[39m.\u001b[39many():\n\u001b[0;32m   6695\u001b[0m     \u001b[39mif\u001b[39;00m errors \u001b[39m!=\u001b[39m \u001b[39m\"\u001b[39m\u001b[39mignore\u001b[39m\u001b[39m\"\u001b[39m:\n\u001b[1;32m-> 6696\u001b[0m         \u001b[39mraise\u001b[39;00m \u001b[39mKeyError\u001b[39;00m(\u001b[39mf\u001b[39m\u001b[39m\"\u001b[39m\u001b[39m{\u001b[39;00m\u001b[39mlist\u001b[39m(labels[mask])\u001b[39m}\u001b[39;00m\u001b[39m not found in axis\u001b[39m\u001b[39m\"\u001b[39m)\n\u001b[0;32m   6697\u001b[0m     indexer \u001b[39m=\u001b[39m indexer[\u001b[39m~\u001b[39mmask]\n\u001b[0;32m   6698\u001b[0m \u001b[39mreturn\u001b[39;00m \u001b[39mself\u001b[39m\u001b[39m.\u001b[39mdelete(indexer)\n",
      "\u001b[1;31mKeyError\u001b[0m: \"['Unnamed: 0'] not found in axis\""
     ]
    }
   ],
   "source": [
    "df_cliente.drop('Unnamed: 0', inplace=True, axis=1)\n"
   ]
  },
  {
   "cell_type": "code",
   "execution_count": 38,
   "metadata": {},
   "outputs": [],
   "source": [
    "cursor.execute(\n",
    "    \"\"\"\n",
    "    /*\n",
    "    Creamos la tabla en la base de datos \n",
    "    */\n",
    "    CREATE TABLE IF NOT EXISTS CLIENTE (\n",
    "        /* NULL es un valor nulo por defecto\n",
    "            NOT NULL obliga a que el valor venga informado\n",
    "        */\n",
    "        \n",
    "        customer_id INT\n",
    "        ,birthday DATETIME\n",
    "        ,country VARCHAR(50)\n",
    "        ,spanish_speaker BOOL\n",
    "        ,join_date DATETIME\n",
    "        ,tier VARCHAR(10)\n",
    "    \n",
    "    );\n",
    "  \n",
    "    \"\"\"\n",
    ")\n",
    "\n",
    "# Guardamos los cambios con el comando commmit\n",
    "conn.commit()"
   ]
  },
  {
   "cell_type": "code",
   "execution_count": 59,
   "metadata": {},
   "outputs": [
    {
     "data": {
      "text/plain": [
       "[[4, '09/25/1989', 'IN', False, '08/18/2020', '1. STANDARD'],\n",
       " [33, '02/12/1943', 'AU', True, '09/18/2020', '5. EXCELSIOR'],\n",
       " [34, '01/14/1949', 'IN', True, '01/10/2022', '3. GOLD'],\n",
       " [82, '05/14/1999', 'BR', False, '06/10/2020', '2. BUSINESS'],\n",
       " [96, '12/04/1938', 'IN', False, '05/23/2023', '3. GOLD'],\n",
       " [98, '10/21/1997', 'AU', True, '04/14/2023', '3. GOLD'],\n",
       " [104, '02/26/1967', 'IN', True, '10/05/2022', '4. PREMIUM'],\n",
       " [109, '04/16/1937', 'IT', False, '09/10/2022', '5. EXCELSIOR'],\n",
       " [117, '01/22/1935', 'FR', True, '02/25/2023', '1. STANDARD'],\n",
       " [120, '01/01/1940', 'US', False, '04/14/2022', '3. GOLD'],\n",
       " [129, '12/11/1948', 'SP', True, '06/24/2020', '2. BUSINESS'],\n",
       " [133, '04/07/1965', 'JP', False, '04/12/2022', '3. GOLD'],\n",
       " [177, '12/28/1966', 'SP', True, '06/06/2021', '3. GOLD'],\n",
       " [187, '03/24/1937', 'IT', True, '11/15/2021', '4. PREMIUM'],\n",
       " [188, '01/04/1987', 'DE', True, '03/12/2023', '1. STANDARD'],\n",
       " [205, '09/12/1950', 'IN', False, '08/23/2022', '4. PREMIUM'],\n",
       " [210, '10/26/1997', 'IN', False, '05/23/2021', '2. BUSINESS'],\n",
       " [215, '08/03/1998', 'IT', False, '06/09/2022', '4. PREMIUM'],\n",
       " [219, '03/09/1998', 'US', False, '08/07/2020', '4. PREMIUM'],\n",
       " [231, '12/07/1939', 'JP', True, '02/19/2022', '5. EXCELSIOR'],\n",
       " [233, '04/02/1948', 'FR', True, '04/10/2022', '5. EXCELSIOR'],\n",
       " [247, '04/08/1981', 'JP', False, '08/15/2020', '5. EXCELSIOR'],\n",
       " [249, '07/21/1965', 'FR', False, '04/24/2023', '1. STANDARD'],\n",
       " [253, '04/06/1985', 'IT', True, '05/03/2022', '5. EXCELSIOR'],\n",
       " [285, '08/16/1983', 'UK', True, '10/14/2020', '3. GOLD'],\n",
       " [290, '01/17/1952', 'FR', True, '04/10/2022', '2. BUSINESS'],\n",
       " [331, '02/02/1964', 'IN', False, '03/18/2022', '2. BUSINESS'],\n",
       " [401, '02/07/1947', 'AU', False, '11/13/2022', '1. STANDARD'],\n",
       " [409, '04/04/1985', 'AU', False, '10/04/2022', '3. GOLD'],\n",
       " [412, '10/17/1973', 'IT', True, '04/18/2022', '1. STANDARD'],\n",
       " [433, '05/01/1966', 'AU', False, '10/14/2021', '5. EXCELSIOR'],\n",
       " [444, '03/28/1964', 'JP', True, '10/06/2020', '2. BUSINESS'],\n",
       " [449, '11/23/2003', 'FR', False, '02/06/2022', '2. BUSINESS'],\n",
       " [464, '02/15/1947', 'US', False, '01/24/2023', '2. BUSINESS'],\n",
       " [493, '09/26/1962', 'IN', False, '05/10/2023', '1. STANDARD'],\n",
       " [505, '09/27/1963', 'BR', True, '10/09/2020', '2. BUSINESS'],\n",
       " [513, '10/21/1947', 'AU', False, '04/25/2023', '3. GOLD'],\n",
       " [529, '08/13/1967', 'IN', True, '05/16/2020', '4. PREMIUM'],\n",
       " [535, '01/21/1948', 'BR', False, '04/14/2020', '1. STANDARD'],\n",
       " [538, '10/05/1989', 'US', False, '03/11/2021', '5. EXCELSIOR'],\n",
       " [542, '09/16/1981', 'DE', False, '12/04/2022', '2. BUSINESS'],\n",
       " [545, '04/09/1977', 'SP', True, '09/04/2021', '4. PREMIUM'],\n",
       " [560, '05/14/1968', 'IN', True, '04/27/2022', '1. STANDARD'],\n",
       " [563, '11/20/1971', 'DE', False, '12/01/2020', '3. GOLD'],\n",
       " [571, '05/08/1950', 'JP', False, '04/07/2022', '5. EXCELSIOR'],\n",
       " [586, '05/13/1985', 'IN', True, '06/21/2022', '1. STANDARD'],\n",
       " [587, '04/23/1976', 'UK', True, '04/10/2021', '4. PREMIUM'],\n",
       " [596, '03/12/2000', 'IT', True, '12/24/2020', '5. EXCELSIOR'],\n",
       " [597, '11/26/1997', 'JP', True, '11/02/2022', '1. STANDARD'],\n",
       " [600, '09/03/1948', 'IT', False, '05/17/2023', '1. STANDARD']]"
      ]
     },
     "execution_count": 59,
     "metadata": {},
     "output_type": "execute_result"
    }
   ],
   "source": [
    "df_cliente.values.tolist()"
   ]
  },
  {
   "cell_type": "code",
   "execution_count": 60,
   "metadata": {},
   "outputs": [
    {
     "data": {
      "text/plain": [
       "<sqlite3.Cursor at 0x1cfe1d8d420>"
      ]
     },
     "execution_count": 60,
     "metadata": {},
     "output_type": "execute_result"
    }
   ],
   "source": [
    "cursor.executemany(\"INSERT INTO CLIENTE VALUES (?,?,?,?,?,?)\", df_cliente.values.tolist())"
   ]
  },
  {
   "cell_type": "code",
   "execution_count": 64,
   "metadata": {},
   "outputs": [
    {
     "name": "stdout",
     "output_type": "stream",
     "text": [
      "<class 'pandas.core.frame.DataFrame'>\n",
      "RangeIndex: 50 entries, 0 to 49\n",
      "Data columns (total 6 columns):\n",
      " #   Column           Non-Null Count  Dtype \n",
      "---  ------           --------------  ----- \n",
      " 0   customer_id      50 non-null     int64 \n",
      " 1   birthday         50 non-null     object\n",
      " 2   country          50 non-null     object\n",
      " 3   spanish_speaker  50 non-null     int64 \n",
      " 4   join_date        50 non-null     object\n",
      " 5   tier             50 non-null     object\n",
      "dtypes: int64(2), object(4)\n",
      "memory usage: 2.5+ KB\n"
     ]
    }
   ],
   "source": [
    "q = \"\"\"\n",
    "    SELECT *\n",
    "    FROM CLIENTE\n",
    "\"\"\"\n",
    "df = pd.read_sql(q, conn)\n",
    "df.info()"
   ]
  },
  {
   "cell_type": "code",
   "execution_count": 39,
   "metadata": {},
   "outputs": [],
   "source": [
    "tables = pd.read_sql(\"\"\" select *\n",
    "                        from sqlite_master \n",
    "                        where type='table'\n",
    "                        order by name;\n",
    "                        \"\"\", conn)"
   ]
  },
  {
   "cell_type": "code",
   "execution_count": 43,
   "metadata": {},
   "outputs": [
    {
     "data": {
      "text/html": [
       "<div>\n",
       "<style scoped>\n",
       "    .dataframe tbody tr th:only-of-type {\n",
       "        vertical-align: middle;\n",
       "    }\n",
       "\n",
       "    .dataframe tbody tr th {\n",
       "        vertical-align: top;\n",
       "    }\n",
       "\n",
       "    .dataframe thead th {\n",
       "        text-align: right;\n",
       "    }\n",
       "</style>\n",
       "<table border=\"1\" class=\"dataframe\">\n",
       "  <thead>\n",
       "    <tr style=\"text-align: right;\">\n",
       "      <th></th>\n",
       "      <th>type</th>\n",
       "      <th>name</th>\n",
       "      <th>tbl_name</th>\n",
       "      <th>rootpage</th>\n",
       "      <th>sql</th>\n",
       "    </tr>\n",
       "  </thead>\n",
       "  <tbody>\n",
       "    <tr>\n",
       "      <th>0</th>\n",
       "      <td>table</td>\n",
       "      <td>CLIENTE</td>\n",
       "      <td>CLIENTE</td>\n",
       "      <td>2</td>\n",
       "      <td>CREATE TABLE CLIENTE (\\n        /* NULL es un ...</td>\n",
       "    </tr>\n",
       "  </tbody>\n",
       "</table>\n",
       "</div>"
      ],
      "text/plain": [
       "    type     name tbl_name  rootpage   \n",
       "0  table  CLIENTE  CLIENTE         2  \\\n",
       "\n",
       "                                                 sql  \n",
       "0  CREATE TABLE CLIENTE (\\n        /* NULL es un ...  "
      ]
     },
     "execution_count": 43,
     "metadata": {},
     "output_type": "execute_result"
    }
   ],
   "source": [
    "tables"
   ]
  },
  {
   "cell_type": "code",
   "execution_count": 65,
   "metadata": {},
   "outputs": [],
   "source": [
    "cursor.execute(\n",
    "    \"\"\"\n",
    "    /*\n",
    "    Creamos la tabla en la base de datos \n",
    "    */\n",
    "    CREATE TABLE IF NOT EXISTS COMPRA_PUNTOS (\n",
    "        /* NULL es un valor nulo por defecto\n",
    "            NOT NULL obliga a que el valor venga informado\n",
    "        */\n",
    "        \n",
    "       compra_id INT\n",
    "       ,customer_id INT\n",
    "       ,fecha_compra DATETIME\n",
    "       ,puntos_comprados INT\n",
    "    );\n",
    "  \n",
    "    \"\"\"\n",
    ")\n",
    "\n",
    "# Guardamos los cambios con el comando commmit\n",
    "conn.commit()"
   ]
  },
  {
   "cell_type": "code",
   "execution_count": 66,
   "metadata": {},
   "outputs": [],
   "source": [
    "cursor.execute(\n",
    "    \"\"\"\n",
    "    /*\n",
    "    Creamos la tabla en la base de datos \n",
    "    */\n",
    "    CREATE TABLE IF NOT EXISTS MARKETING (\n",
    "        /* NULL es un valor nulo por defecto\n",
    "            NOT NULL obliga a que el valor venga informado\n",
    "        */\n",
    "       customer_id INT\n",
    "       ,permiso_email VARCHAR(3)\n",
    "    );\n",
    "  \n",
    "    \"\"\"\n",
    ")\n",
    "\n",
    "# Guardamos los cambios con el comando commmit\n",
    "conn.commit()"
   ]
  },
  {
   "cell_type": "code",
   "execution_count": 72,
   "metadata": {},
   "outputs": [],
   "source": [
    "cursor.execute(\n",
    "    \"\"\"\n",
    "    /*\n",
    "    Creamos la tabla en la base de datos \n",
    "    */\n",
    "\n",
    "    CREATE TABLE IF NOT EXISTS OBTENCION_PUNTOS (\n",
    "        /* NULL es un valor nulo por defecto\n",
    "            NOT NULL obliga a que el valor venga informado\n",
    "        */\n",
    "\n",
    "       transaccion_id INT\n",
    "       ,customer_id INT\n",
    "       ,tipo_transaccion VARCHAR(25)\n",
    "       ,fecha_transaccion DATETIME\n",
    "       ,puntos_conseguidos INT\n",
    "       ,obtencion_puntos VARCHAR(25)\n",
    "    );\n",
    "    \"\"\"\n",
    ")\n",
    "\n",
    "# Guardamos los cambios con el comando commmit\n",
    "conn.commit()\n",
    "\n"
   ]
  },
  {
   "cell_type": "code",
   "execution_count": 92,
   "metadata": {},
   "outputs": [],
   "source": [
    "cursor.execute(\n",
    "    \"\"\"\n",
    "    /*\n",
    "    Creamos la tabla en la base de datos \n",
    "    */\n",
    "\n",
    " CREATE TABLE IF NOT EXISTS PESCADOS (\n",
    "       pescado_id INT\n",
    "       ,customer_id INT\n",
    "       ,permiso_email VARCHAR(3)\n",
    "\n",
    "\n",
    "    );\n",
    "\n",
    "    \"\"\"\n",
    ")\n",
    "\n",
    "# Guardamos los cambios con el comando commmit\n",
    "conn.commit()"
   ]
  },
  {
   "cell_type": "code",
   "execution_count": 75,
   "metadata": {},
   "outputs": [],
   "source": [
    "cursor.execute(\n",
    "    \"\"\"\n",
    "    /*\n",
    "    Creamos la tabla en la base de datos \n",
    "    */\n",
    "\n",
    "    CREATE TABLE IF NOT EXISTS USO_DE_PUNTOS (\n",
    "\n",
    "       transaccion_id INT\n",
    "       ,customer_id INT\n",
    "       ,tipo_transaccion VARCHAR(25)\n",
    "       ,fecha_transaccion DATETIME\n",
    "       ,puntos_utilizados INT\n",
    "       ,uso_puntos VARCHAR(25)\n",
    "\n",
    "    );\n",
    "\n",
    "    \"\"\"\n",
    ")\n",
    "\n",
    "# Guardamos los cambios con el comando commmit\n",
    "conn.commit()"
   ]
  },
  {
   "cell_type": "code",
   "execution_count": null,
   "metadata": {},
   "outputs": [],
   "source": [
    "#cursor.executemany(\"INSERT INTO CLIENTE VALUES (?,?,?,?,?,?)\", df_cliente.values.tolist())"
   ]
  },
  {
   "cell_type": "code",
   "execution_count": 76,
   "metadata": {},
   "outputs": [
    {
     "data": {
      "text/plain": [
       "<sqlite3.Cursor at 0x1cfe1d8d420>"
      ]
     },
     "execution_count": 76,
     "metadata": {},
     "output_type": "execute_result"
    }
   ],
   "source": [
    "cursor.executemany(\"INSERT INTO COMPRA_PUNTOS VALUES (?,?,?,?)\", df_compra_puntos.values.tolist())"
   ]
  },
  {
   "cell_type": "code",
   "execution_count": 82,
   "metadata": {},
   "outputs": [],
   "source": [
    "df_marketing.drop('Unnamed: 0', axis=1, inplace=True)"
   ]
  },
  {
   "cell_type": "code",
   "execution_count": 85,
   "metadata": {},
   "outputs": [
    {
     "data": {
      "text/plain": [
       "<sqlite3.Cursor at 0x1cfe1d8d420>"
      ]
     },
     "execution_count": 85,
     "metadata": {},
     "output_type": "execute_result"
    }
   ],
   "source": [
    "cursor.executemany(\"INSERT INTO MARKETING VALUES (?,?)\", df_marketing.values.tolist())"
   ]
  },
  {
   "cell_type": "code",
   "execution_count": 94,
   "metadata": {},
   "outputs": [
    {
     "data": {
      "text/plain": [
       "<sqlite3.Cursor at 0x1cfe1d8d420>"
      ]
     },
     "execution_count": 94,
     "metadata": {},
     "output_type": "execute_result"
    }
   ],
   "source": [
    "cursor.executemany(\"INSERT INTO OBTENCION_PUNTOS VALUES (?,?,?,?,?,?)\", df_obtencion_puntos.values.tolist())"
   ]
  },
  {
   "cell_type": "code",
   "execution_count": 98,
   "metadata": {},
   "outputs": [
    {
     "data": {
      "text/plain": [
       "<sqlite3.Cursor at 0x1cfe1d8d420>"
      ]
     },
     "execution_count": 98,
     "metadata": {},
     "output_type": "execute_result"
    }
   ],
   "source": [
    "cursor.executemany(\"INSERT INTO USO_DE_PUNTOS VALUES (?,?,?,?,?,?)\", df_uso_puntos.values.tolist())"
   ]
  },
  {
   "cell_type": "code",
   "execution_count": 14,
   "metadata": {},
   "outputs": [
    {
     "data": {
      "text/html": [
       "<div>\n",
       "<style scoped>\n",
       "    .dataframe tbody tr th:only-of-type {\n",
       "        vertical-align: middle;\n",
       "    }\n",
       "\n",
       "    .dataframe tbody tr th {\n",
       "        vertical-align: top;\n",
       "    }\n",
       "\n",
       "    .dataframe thead th {\n",
       "        text-align: right;\n",
       "    }\n",
       "</style>\n",
       "<table border=\"1\" class=\"dataframe\">\n",
       "  <thead>\n",
       "    <tr style=\"text-align: right;\">\n",
       "      <th></th>\n",
       "      <th>pescado_id</th>\n",
       "      <th>customer_id</th>\n",
       "      <th>permiso_email</th>\n",
       "    </tr>\n",
       "  </thead>\n",
       "  <tbody>\n",
       "  </tbody>\n",
       "</table>\n",
       "</div>"
      ],
      "text/plain": [
       "Empty DataFrame\n",
       "Columns: [pescado_id, customer_id, permiso_email]\n",
       "Index: []"
      ]
     },
     "execution_count": 14,
     "metadata": {},
     "output_type": "execute_result"
    }
   ],
   "source": [
    "q = \"\"\"\n",
    "    SELECT *\n",
    "    FROM PESCADOS\n",
    "\"\"\"\n",
    "df = pd.read_sql(q, conn)\n",
    "df"
   ]
  },
  {
   "cell_type": "code",
   "execution_count": 17,
   "metadata": {},
   "outputs": [
    {
     "data": {
      "text/plain": [
       "<sqlite3.Cursor at 0x1f89d14f570>"
      ]
     },
     "execution_count": 17,
     "metadata": {},
     "output_type": "execute_result"
    }
   ],
   "source": [
    "cursor.executemany(\"INSERT INTO PESCADOS VALUES (?,?,?)\", df_pescados.values.tolist())"
   ]
  },
  {
   "attachments": {},
   "cell_type": "markdown",
   "metadata": {},
   "source": [
    "> SELECTS"
   ]
  },
  {
   "cell_type": "code",
   "execution_count": null,
   "metadata": {},
   "outputs": [],
   "source": []
  }
 ],
 "metadata": {
  "kernelspec": {
   "display_name": "ramp_up_py395",
   "language": "python",
   "name": "python3"
  },
  "language_info": {
   "codemirror_mode": {
    "name": "ipython",
    "version": 3
   },
   "file_extension": ".py",
   "mimetype": "text/x-python",
   "name": "python",
   "nbconvert_exporter": "python",
   "pygments_lexer": "ipython3",
   "version": "3.9.5"
  },
  "orig_nbformat": 4
 },
 "nbformat": 4,
 "nbformat_minor": 2
}
